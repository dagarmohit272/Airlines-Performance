{
 "cells": [
  {
   "cell_type": "markdown",
   "id": "c58c0cbc",
   "metadata": {},
   "source": [
    "### Airline Data: Travel sqlite"
   ]
  },
  {
   "cell_type": "markdown",
   "id": "5e520986",
   "metadata": {},
   "source": [
    "### Business Problem:\n",
    "\n",
    "Our Company has been providing high-quality air transportation service to our clients for several years, ensuring a safe, comfortable, and convenient journey for our passengers.\n",
    "\n",
    "We operate a diverse fleet of aircraft, ranging from small business jets to medium-sized machines. However, we currently face challenges due to various factors such as stricter environmental regulations, higher flight taxes, increased interest rates, rising fuel prices, and a tight labor market leading to higher labor costs. These challenges are putting pressure on the company's profitability, and we are actively seeking solutions to address this issue. In order to tackle this challenge, the company is planning to analyze their database and identify opportunities to increase the occupancy rate, thereby boosting the \n",
    "average profit earned per seat"
   ]
  },
  {
   "cell_type": "code",
   "execution_count": 222,
   "id": "75b1376a",
   "metadata": {},
   "outputs": [],
   "source": [
    "import numpy as np\n",
    "import pandas as pd\n",
    "import seaborn as sns\n",
    "import matplotlib.pyplot as plt\n",
    "%matplotlib inline\n",
    "\n",
    "from warnings import filterwarnings\n",
    "filterwarnings('ignore')\n",
    "\n",
    "import scipy.stats as stats"
   ]
  },
  {
   "cell_type": "markdown",
   "id": "66cc398b",
   "metadata": {},
   "source": [
    "#### Database Connection (Connecting Python with SQL database using sqlite and cursor)"
   ]
  },
  {
   "cell_type": "code",
   "execution_count": 223,
   "id": "b315d230",
   "metadata": {},
   "outputs": [],
   "source": [
    "import sqlite3"
   ]
  },
  {
   "cell_type": "code",
   "execution_count": 224,
   "id": "6043f05a",
   "metadata": {},
   "outputs": [],
   "source": [
    "connection = sqlite3.connect(r'C:\\Users\\mohit\\Downloads\\travels.sqlite')"
   ]
  },
  {
   "cell_type": "code",
   "execution_count": 225,
   "id": "cff37409",
   "metadata": {},
   "outputs": [],
   "source": [
    "cursor = connection.cursor()"
   ]
  },
  {
   "cell_type": "code",
   "execution_count": 226,
   "id": "3205056d",
   "metadata": {},
   "outputs": [
    {
     "name": "stdout",
     "output_type": "stream",
     "text": [
      "['aircrafts_data', 'airports_data', 'boarding_passes', 'bookings', 'flights', 'seats', 'ticket_flights', 'tickets']\n"
     ]
    }
   ],
   "source": [
    "cursor.execute(\"SELECT name FROM sqlite_master WHERE type = 'table';\")\n",
    "tables = [table[0] for table in cursor.fetchall()]\n",
    "print(tables)"
   ]
  },
  {
   "cell_type": "markdown",
   "id": "7b42d5da",
   "metadata": {},
   "source": [
    "### Analysing Aircrafts Data"
   ]
  },
  {
   "cell_type": "code",
   "execution_count": 260,
   "id": "84c4097e",
   "metadata": {},
   "outputs": [],
   "source": [
    "aircraft_data = pd.read_sql_query('select * from aircrafts_data', connection)"
   ]
  },
  {
   "cell_type": "code",
   "execution_count": 261,
   "id": "fff5dd0f",
   "metadata": {},
   "outputs": [
    {
     "data": {
      "text/html": [
       "<div>\n",
       "<style scoped>\n",
       "    .dataframe tbody tr th:only-of-type {\n",
       "        vertical-align: middle;\n",
       "    }\n",
       "\n",
       "    .dataframe tbody tr th {\n",
       "        vertical-align: top;\n",
       "    }\n",
       "\n",
       "    .dataframe thead th {\n",
       "        text-align: right;\n",
       "    }\n",
       "</style>\n",
       "<table border=\"1\" class=\"dataframe\">\n",
       "  <thead>\n",
       "    <tr style=\"text-align: right;\">\n",
       "      <th></th>\n",
       "      <th>aircraft_code</th>\n",
       "      <th>model</th>\n",
       "      <th>range</th>\n",
       "    </tr>\n",
       "  </thead>\n",
       "  <tbody>\n",
       "    <tr>\n",
       "      <th>0</th>\n",
       "      <td>773</td>\n",
       "      <td>{\"en\": \"Boeing 777-300\", \"ru\": \"Боинг 777-300\"}</td>\n",
       "      <td>11100</td>\n",
       "    </tr>\n",
       "    <tr>\n",
       "      <th>1</th>\n",
       "      <td>763</td>\n",
       "      <td>{\"en\": \"Boeing 767-300\", \"ru\": \"Боинг 767-300\"}</td>\n",
       "      <td>7900</td>\n",
       "    </tr>\n",
       "    <tr>\n",
       "      <th>2</th>\n",
       "      <td>SU9</td>\n",
       "      <td>{\"en\": \"Sukhoi Superjet-100\", \"ru\": \"Сухой Суп...</td>\n",
       "      <td>3000</td>\n",
       "    </tr>\n",
       "    <tr>\n",
       "      <th>3</th>\n",
       "      <td>320</td>\n",
       "      <td>{\"en\": \"Airbus A320-200\", \"ru\": \"Аэробус A320-...</td>\n",
       "      <td>5700</td>\n",
       "    </tr>\n",
       "    <tr>\n",
       "      <th>4</th>\n",
       "      <td>321</td>\n",
       "      <td>{\"en\": \"Airbus A321-200\", \"ru\": \"Аэробус A321-...</td>\n",
       "      <td>5600</td>\n",
       "    </tr>\n",
       "    <tr>\n",
       "      <th>5</th>\n",
       "      <td>319</td>\n",
       "      <td>{\"en\": \"Airbus A319-100\", \"ru\": \"Аэробус A319-...</td>\n",
       "      <td>6700</td>\n",
       "    </tr>\n",
       "    <tr>\n",
       "      <th>6</th>\n",
       "      <td>733</td>\n",
       "      <td>{\"en\": \"Boeing 737-300\", \"ru\": \"Боинг 737-300\"}</td>\n",
       "      <td>4200</td>\n",
       "    </tr>\n",
       "    <tr>\n",
       "      <th>7</th>\n",
       "      <td>CN1</td>\n",
       "      <td>{\"en\": \"Cessna 208 Caravan\", \"ru\": \"Сессна 208...</td>\n",
       "      <td>1200</td>\n",
       "    </tr>\n",
       "    <tr>\n",
       "      <th>8</th>\n",
       "      <td>CR2</td>\n",
       "      <td>{\"en\": \"Bombardier CRJ-200\", \"ru\": \"Бомбардье ...</td>\n",
       "      <td>2700</td>\n",
       "    </tr>\n",
       "  </tbody>\n",
       "</table>\n",
       "</div>"
      ],
      "text/plain": [
       "  aircraft_code                                              model  range\n",
       "0           773    {\"en\": \"Boeing 777-300\", \"ru\": \"Боинг 777-300\"}  11100\n",
       "1           763    {\"en\": \"Boeing 767-300\", \"ru\": \"Боинг 767-300\"}   7900\n",
       "2           SU9  {\"en\": \"Sukhoi Superjet-100\", \"ru\": \"Сухой Суп...   3000\n",
       "3           320  {\"en\": \"Airbus A320-200\", \"ru\": \"Аэробус A320-...   5700\n",
       "4           321  {\"en\": \"Airbus A321-200\", \"ru\": \"Аэробус A321-...   5600\n",
       "5           319  {\"en\": \"Airbus A319-100\", \"ru\": \"Аэробус A319-...   6700\n",
       "6           733    {\"en\": \"Boeing 737-300\", \"ru\": \"Боинг 737-300\"}   4200\n",
       "7           CN1  {\"en\": \"Cessna 208 Caravan\", \"ru\": \"Сессна 208...   1200\n",
       "8           CR2  {\"en\": \"Bombardier CRJ-200\", \"ru\": \"Бомбардье ...   2700"
      ]
     },
     "execution_count": 261,
     "metadata": {},
     "output_type": "execute_result"
    }
   ],
   "source": [
    "aircraft_data"
   ]
  },
  {
   "cell_type": "markdown",
   "id": "271ac543",
   "metadata": {},
   "source": [
    "#### Checking Shape of the dataset"
   ]
  },
  {
   "cell_type": "code",
   "execution_count": 262,
   "id": "09461923",
   "metadata": {},
   "outputs": [
    {
     "data": {
      "text/html": [
       "<div>\n",
       "<style scoped>\n",
       "    .dataframe tbody tr th:only-of-type {\n",
       "        vertical-align: middle;\n",
       "    }\n",
       "\n",
       "    .dataframe tbody tr th {\n",
       "        vertical-align: top;\n",
       "    }\n",
       "\n",
       "    .dataframe thead th {\n",
       "        text-align: right;\n",
       "    }\n",
       "</style>\n",
       "<table border=\"1\" class=\"dataframe\">\n",
       "  <thead>\n",
       "    <tr style=\"text-align: right;\">\n",
       "      <th></th>\n",
       "      <th>shape of data</th>\n",
       "    </tr>\n",
       "  </thead>\n",
       "  <tbody>\n",
       "    <tr>\n",
       "      <th>Number of rows</th>\n",
       "      <td>9</td>\n",
       "    </tr>\n",
       "    <tr>\n",
       "      <th>Number of columns</th>\n",
       "      <td>3</td>\n",
       "    </tr>\n",
       "  </tbody>\n",
       "</table>\n",
       "</div>"
      ],
      "text/plain": [
       "                   shape of data\n",
       "Number of rows                 9\n",
       "Number of columns              3"
      ]
     },
     "execution_count": 262,
     "metadata": {},
     "output_type": "execute_result"
    }
   ],
   "source": [
    "rows = ['Number of rows', 'Number of columns']\n",
    "pd.DataFrame(aircraft_data.shape, columns = ['shape of data'], index = rows)"
   ]
  },
  {
   "cell_type": "markdown",
   "id": "4d78f520",
   "metadata": {},
   "source": [
    "#### Checking datatypes of Attributes in a dataset"
   ]
  },
  {
   "cell_type": "code",
   "execution_count": 263,
   "id": "099b9f23",
   "metadata": {},
   "outputs": [
    {
     "name": "stdout",
     "output_type": "stream",
     "text": [
      "<class 'pandas.core.frame.DataFrame'>\n",
      "RangeIndex: 9 entries, 0 to 8\n",
      "Data columns (total 3 columns):\n",
      " #   Column         Non-Null Count  Dtype \n",
      "---  ------         --------------  ----- \n",
      " 0   aircraft_code  9 non-null      object\n",
      " 1   model          9 non-null      object\n",
      " 2   range          9 non-null      int64 \n",
      "dtypes: int64(1), object(2)\n",
      "memory usage: 344.0+ bytes\n"
     ]
    }
   ],
   "source": [
    "aircraft_data.info()"
   ]
  },
  {
   "cell_type": "markdown",
   "id": "ece47502",
   "metadata": {},
   "source": [
    "#### Checking Descriptive Statistics of the dataset"
   ]
  },
  {
   "cell_type": "code",
   "execution_count": 264,
   "id": "efe189cf",
   "metadata": {},
   "outputs": [
    {
     "data": {
      "text/html": [
       "<div>\n",
       "<style scoped>\n",
       "    .dataframe tbody tr th:only-of-type {\n",
       "        vertical-align: middle;\n",
       "    }\n",
       "\n",
       "    .dataframe tbody tr th {\n",
       "        vertical-align: top;\n",
       "    }\n",
       "\n",
       "    .dataframe thead th {\n",
       "        text-align: right;\n",
       "    }\n",
       "</style>\n",
       "<table border=\"1\" class=\"dataframe\">\n",
       "  <thead>\n",
       "    <tr style=\"text-align: right;\">\n",
       "      <th></th>\n",
       "      <th>range</th>\n",
       "    </tr>\n",
       "  </thead>\n",
       "  <tbody>\n",
       "    <tr>\n",
       "      <th>count</th>\n",
       "      <td>9.000000</td>\n",
       "    </tr>\n",
       "    <tr>\n",
       "      <th>mean</th>\n",
       "      <td>5344.444444</td>\n",
       "    </tr>\n",
       "    <tr>\n",
       "      <th>std</th>\n",
       "      <td>3013.764718</td>\n",
       "    </tr>\n",
       "    <tr>\n",
       "      <th>min</th>\n",
       "      <td>1200.000000</td>\n",
       "    </tr>\n",
       "    <tr>\n",
       "      <th>25%</th>\n",
       "      <td>3000.000000</td>\n",
       "    </tr>\n",
       "    <tr>\n",
       "      <th>50%</th>\n",
       "      <td>5600.000000</td>\n",
       "    </tr>\n",
       "    <tr>\n",
       "      <th>75%</th>\n",
       "      <td>6700.000000</td>\n",
       "    </tr>\n",
       "    <tr>\n",
       "      <th>max</th>\n",
       "      <td>11100.000000</td>\n",
       "    </tr>\n",
       "  </tbody>\n",
       "</table>\n",
       "</div>"
      ],
      "text/plain": [
       "              range\n",
       "count      9.000000\n",
       "mean    5344.444444\n",
       "std     3013.764718\n",
       "min     1200.000000\n",
       "25%     3000.000000\n",
       "50%     5600.000000\n",
       "75%     6700.000000\n",
       "max    11100.000000"
      ]
     },
     "execution_count": 264,
     "metadata": {},
     "output_type": "execute_result"
    }
   ],
   "source": [
    "aircraft_data.describe()"
   ]
  },
  {
   "cell_type": "markdown",
   "id": "2ae0ab2a",
   "metadata": {},
   "source": [
    "#### Now we are splitting the column 'model' by using split() function, after applying split() function the output we get is in Series"
   ]
  },
  {
   "cell_type": "code",
   "execution_count": 265,
   "id": "169c5d22",
   "metadata": {},
   "outputs": [
    {
     "data": {
      "text/plain": [
       "0    [{\"en\":, \"Boeing, 777-300\",, \"ru\":, \"Боинг, 77...\n",
       "1    [{\"en\":, \"Boeing, 767-300\",, \"ru\":, \"Боинг, 76...\n",
       "2    [{\"en\":, \"Sukhoi, Superjet-100\",, \"ru\":, \"Сухо...\n",
       "3    [{\"en\":, \"Airbus, A320-200\",, \"ru\":, \"Аэробус,...\n",
       "4    [{\"en\":, \"Airbus, A321-200\",, \"ru\":, \"Аэробус,...\n",
       "5    [{\"en\":, \"Airbus, A319-100\",, \"ru\":, \"Аэробус,...\n",
       "6    [{\"en\":, \"Boeing, 737-300\",, \"ru\":, \"Боинг, 73...\n",
       "7    [{\"en\":, \"Cessna, 208, Caravan\",, \"ru\":, \"Сесс...\n",
       "8    [{\"en\":, \"Bombardier, CRJ-200\",, \"ru\":, \"Бомба...\n",
       "Name: model, dtype: object"
      ]
     },
     "execution_count": 265,
     "metadata": {},
     "output_type": "execute_result"
    }
   ],
   "source": [
    "aircraft_data['model'].str.split()"
   ]
  },
  {
   "cell_type": "markdown",
   "id": "758622af",
   "metadata": {},
   "source": [
    "#### We have applied split() and join() function "
   ]
  },
  {
   "cell_type": "code",
   "execution_count": 266,
   "id": "d8fa2d3c",
   "metadata": {},
   "outputs": [
    {
     "data": {
      "text/plain": [
       "0         \"Boeing777-300\",\n",
       "1         \"Boeing767-300\",\n",
       "2    \"SukhoiSuperjet-100\",\n",
       "3        \"AirbusA320-200\",\n",
       "4        \"AirbusA321-200\",\n",
       "5        \"AirbusA319-100\",\n",
       "6         \"Boeing737-300\",\n",
       "7               \"Cessna208\n",
       "8     \"BombardierCRJ-200\",\n",
       "Name: model, dtype: object"
      ]
     },
     "execution_count": 266,
     "metadata": {},
     "output_type": "execute_result"
    }
   ],
   "source": [
    "aircraft_data['model'] = aircraft_data['model'].str.split().str[1:3].apply(''.join)\n",
    "aircraft_data['model']"
   ]
  },
  {
   "cell_type": "markdown",
   "id": "69384888",
   "metadata": {},
   "source": [
    "#### Stripping/Removing Punctuation marks by using strip() function"
   ]
  },
  {
   "cell_type": "code",
   "execution_count": 267,
   "id": "f2c4c843",
   "metadata": {},
   "outputs": [],
   "source": [
    "aircraft_data['model'] = aircraft_data['model'].str.strip(', \"')"
   ]
  },
  {
   "cell_type": "code",
   "execution_count": 268,
   "id": "0ca44b75",
   "metadata": {},
   "outputs": [
    {
     "data": {
      "text/plain": [
       "0         Boeing777-300\n",
       "1         Boeing767-300\n",
       "2    SukhoiSuperjet-100\n",
       "3        AirbusA320-200\n",
       "4        AirbusA321-200\n",
       "5        AirbusA319-100\n",
       "6         Boeing737-300\n",
       "7             Cessna208\n",
       "8     BombardierCRJ-200\n",
       "Name: model, dtype: object"
      ]
     },
     "execution_count": 268,
     "metadata": {},
     "output_type": "execute_result"
    }
   ],
   "source": [
    "aircraft_data['model']"
   ]
  },
  {
   "cell_type": "markdown",
   "id": "86e0557d",
   "metadata": {},
   "source": [
    "#### Again checking the dataset"
   ]
  },
  {
   "cell_type": "code",
   "execution_count": 269,
   "id": "5dfaf965",
   "metadata": {},
   "outputs": [
    {
     "data": {
      "text/html": [
       "<div>\n",
       "<style scoped>\n",
       "    .dataframe tbody tr th:only-of-type {\n",
       "        vertical-align: middle;\n",
       "    }\n",
       "\n",
       "    .dataframe tbody tr th {\n",
       "        vertical-align: top;\n",
       "    }\n",
       "\n",
       "    .dataframe thead th {\n",
       "        text-align: right;\n",
       "    }\n",
       "</style>\n",
       "<table border=\"1\" class=\"dataframe\">\n",
       "  <thead>\n",
       "    <tr style=\"text-align: right;\">\n",
       "      <th></th>\n",
       "      <th>aircraft_code</th>\n",
       "      <th>model</th>\n",
       "      <th>range</th>\n",
       "    </tr>\n",
       "  </thead>\n",
       "  <tbody>\n",
       "    <tr>\n",
       "      <th>0</th>\n",
       "      <td>773</td>\n",
       "      <td>Boeing777-300</td>\n",
       "      <td>11100</td>\n",
       "    </tr>\n",
       "    <tr>\n",
       "      <th>1</th>\n",
       "      <td>763</td>\n",
       "      <td>Boeing767-300</td>\n",
       "      <td>7900</td>\n",
       "    </tr>\n",
       "    <tr>\n",
       "      <th>2</th>\n",
       "      <td>SU9</td>\n",
       "      <td>SukhoiSuperjet-100</td>\n",
       "      <td>3000</td>\n",
       "    </tr>\n",
       "    <tr>\n",
       "      <th>3</th>\n",
       "      <td>320</td>\n",
       "      <td>AirbusA320-200</td>\n",
       "      <td>5700</td>\n",
       "    </tr>\n",
       "    <tr>\n",
       "      <th>4</th>\n",
       "      <td>321</td>\n",
       "      <td>AirbusA321-200</td>\n",
       "      <td>5600</td>\n",
       "    </tr>\n",
       "    <tr>\n",
       "      <th>5</th>\n",
       "      <td>319</td>\n",
       "      <td>AirbusA319-100</td>\n",
       "      <td>6700</td>\n",
       "    </tr>\n",
       "    <tr>\n",
       "      <th>6</th>\n",
       "      <td>733</td>\n",
       "      <td>Boeing737-300</td>\n",
       "      <td>4200</td>\n",
       "    </tr>\n",
       "    <tr>\n",
       "      <th>7</th>\n",
       "      <td>CN1</td>\n",
       "      <td>Cessna208</td>\n",
       "      <td>1200</td>\n",
       "    </tr>\n",
       "    <tr>\n",
       "      <th>8</th>\n",
       "      <td>CR2</td>\n",
       "      <td>BombardierCRJ-200</td>\n",
       "      <td>2700</td>\n",
       "    </tr>\n",
       "  </tbody>\n",
       "</table>\n",
       "</div>"
      ],
      "text/plain": [
       "  aircraft_code               model  range\n",
       "0           773       Boeing777-300  11100\n",
       "1           763       Boeing767-300   7900\n",
       "2           SU9  SukhoiSuperjet-100   3000\n",
       "3           320      AirbusA320-200   5700\n",
       "4           321      AirbusA321-200   5600\n",
       "5           319      AirbusA319-100   6700\n",
       "6           733       Boeing737-300   4200\n",
       "7           CN1           Cessna208   1200\n",
       "8           CR2   BombardierCRJ-200   2700"
      ]
     },
     "execution_count": 269,
     "metadata": {},
     "output_type": "execute_result"
    }
   ],
   "source": [
    "aircraft_data"
   ]
  },
  {
   "cell_type": "markdown",
   "id": "c3667960",
   "metadata": {},
   "source": [
    "- Now our dataset is clean, their are no punctuation marks"
   ]
  },
  {
   "cell_type": "markdown",
   "id": "db3a133f",
   "metadata": {},
   "source": [
    "#### Checking for Missing values in a dataset"
   ]
  },
  {
   "cell_type": "code",
   "execution_count": 270,
   "id": "949e3425",
   "metadata": {},
   "outputs": [
    {
     "data": {
      "text/html": [
       "<div>\n",
       "<style scoped>\n",
       "    .dataframe tbody tr th:only-of-type {\n",
       "        vertical-align: middle;\n",
       "    }\n",
       "\n",
       "    .dataframe tbody tr th {\n",
       "        vertical-align: top;\n",
       "    }\n",
       "\n",
       "    .dataframe thead th {\n",
       "        text-align: right;\n",
       "    }\n",
       "</style>\n",
       "<table border=\"1\" class=\"dataframe\">\n",
       "  <thead>\n",
       "    <tr style=\"text-align: right;\">\n",
       "      <th></th>\n",
       "      <th>Null values</th>\n",
       "    </tr>\n",
       "  </thead>\n",
       "  <tbody>\n",
       "    <tr>\n",
       "      <th>aircraft_code</th>\n",
       "      <td>0</td>\n",
       "    </tr>\n",
       "    <tr>\n",
       "      <th>model</th>\n",
       "      <td>0</td>\n",
       "    </tr>\n",
       "    <tr>\n",
       "      <th>range</th>\n",
       "      <td>0</td>\n",
       "    </tr>\n",
       "  </tbody>\n",
       "</table>\n",
       "</div>"
      ],
      "text/plain": [
       "               Null values\n",
       "aircraft_code            0\n",
       "model                    0\n",
       "range                    0"
      ]
     },
     "execution_count": 270,
     "metadata": {},
     "output_type": "execute_result"
    }
   ],
   "source": [
    "pd.DataFrame(aircraft_data.isnull().sum(), columns = ['Null values'])"
   ]
  },
  {
   "cell_type": "code",
   "execution_count": 271,
   "id": "4dd186cb",
   "metadata": {},
   "outputs": [
    {
     "data": {
      "image/png": "[encoded data removed]",
      "text/plain": [
       "<Figure size 640x480 with 1 Axes>"
      ]
     },
     "metadata": {},
     "output_type": "display_data"
    }
   ],
   "source": [
    "sns.barplot(data=aircraft_data, x = aircraft_data['model'], y = aircraft_data['range'], ci=False,\n",
    "           order = aircraft_data.groupby(['model'])['range'].mean().sort_values(ascending=False).index,\n",
    "           edgecolor='black', linewidth=1)\n",
    "plt.xticks(rotation=90)\n",
    "plt.title('Range of different Aircraft Models');"
   ]
  },
  {
   "cell_type": "markdown",
   "id": "9dead986",
   "metadata": {},
   "source": [
    "-    From above graph we can say that On an Average Boeing 777-300 have Higher range and Cessna-208 have Lower range"
   ]
  },
  {
   "cell_type": "markdown",
   "id": "d5261930",
   "metadata": {},
   "source": [
    "### Analysing Airports Data"
   ]
  },
  {
   "cell_type": "code",
   "execution_count": 281,
   "id": "1bb528fa",
   "metadata": {},
   "outputs": [],
   "source": [
    "airports_data = pd.read_sql_query('select * from airports_data', connection)"
   ]
  },
  {
   "cell_type": "markdown",
   "id": "2f2a601b",
   "metadata": {},
   "source": [
    "#### Checking first and last five rows of the dataset"
   ]
  },
  {
   "cell_type": "code",
   "execution_count": 282,
   "id": "9f3e3b36",
   "metadata": {},
   "outputs": [
    {
     "data": {
      "text/html": [
       "<div>\n",
       "<style scoped>\n",
       "    .dataframe tbody tr th:only-of-type {\n",
       "        vertical-align: middle;\n",
       "    }\n",
       "\n",
       "    .dataframe tbody tr th {\n",
       "        vertical-align: top;\n",
       "    }\n",
       "\n",
       "    .dataframe thead th {\n",
       "        text-align: right;\n",
       "    }\n",
       "</style>\n",
       "<table border=\"1\" class=\"dataframe\">\n",
       "  <thead>\n",
       "    <tr style=\"text-align: right;\">\n",
       "      <th></th>\n",
       "      <th>airport_code</th>\n",
       "      <th>airport_name</th>\n",
       "      <th>city</th>\n",
       "      <th>coordinates</th>\n",
       "      <th>timezone</th>\n",
       "    </tr>\n",
       "  </thead>\n",
       "  <tbody>\n",
       "    <tr>\n",
       "      <th>0</th>\n",
       "      <td>YKS</td>\n",
       "      <td>{\"en\": \"Yakutsk Airport\", \"ru\": \"Якутск\"}</td>\n",
       "      <td>{\"en\": \"Yakutsk\", \"ru\": \"Якутск\"}</td>\n",
       "      <td>(129.77099609375,62.0932998657226562)</td>\n",
       "      <td>Asia/Yakutsk</td>\n",
       "    </tr>\n",
       "    <tr>\n",
       "      <th>1</th>\n",
       "      <td>MJZ</td>\n",
       "      <td>{\"en\": \"Mirny Airport\", \"ru\": \"Мирный\"}</td>\n",
       "      <td>{\"en\": \"Mirnyj\", \"ru\": \"Мирный\"}</td>\n",
       "      <td>(114.03900146484375,62.534698486328125)</td>\n",
       "      <td>Asia/Yakutsk</td>\n",
       "    </tr>\n",
       "    <tr>\n",
       "      <th>2</th>\n",
       "      <td>KHV</td>\n",
       "      <td>{\"en\": \"Khabarovsk-Novy Airport\", \"ru\": \"Хабар...</td>\n",
       "      <td>{\"en\": \"Khabarovsk\", \"ru\": \"Хабаровск\"}</td>\n",
       "      <td>(135.18800354004,48.5279998779300001)</td>\n",
       "      <td>Asia/Vladivostok</td>\n",
       "    </tr>\n",
       "    <tr>\n",
       "      <th>3</th>\n",
       "      <td>PKC</td>\n",
       "      <td>{\"en\": \"Yelizovo Airport\", \"ru\": \"Елизово\"}</td>\n",
       "      <td>{\"en\": \"Petropavlovsk\", \"ru\": \"Петропавловск-К...</td>\n",
       "      <td>(158.453994750976562,53.1679000854492188)</td>\n",
       "      <td>Asia/Kamchatka</td>\n",
       "    </tr>\n",
       "    <tr>\n",
       "      <th>4</th>\n",
       "      <td>UUS</td>\n",
       "      <td>{\"en\": \"Yuzhno-Sakhalinsk Airport\", \"ru\": \"Хом...</td>\n",
       "      <td>{\"en\": \"Yuzhno-Sakhalinsk\", \"ru\": \"Южно-Сахали...</td>\n",
       "      <td>(142.718002319335938,46.8886985778808594)</td>\n",
       "      <td>Asia/Sakhalin</td>\n",
       "    </tr>\n",
       "    <tr>\n",
       "      <th>...</th>\n",
       "      <td>...</td>\n",
       "      <td>...</td>\n",
       "      <td>...</td>\n",
       "      <td>...</td>\n",
       "      <td>...</td>\n",
       "    </tr>\n",
       "    <tr>\n",
       "      <th>99</th>\n",
       "      <td>MMK</td>\n",
       "      <td>{\"en\": \"Murmansk Airport\", \"ru\": \"Мурманск\"}</td>\n",
       "      <td>{\"en\": \"Murmansk\", \"ru\": \"Мурманск\"}</td>\n",
       "      <td>(32.7508010864257812,68.7817001342773438)</td>\n",
       "      <td>Europe/Moscow</td>\n",
       "    </tr>\n",
       "    <tr>\n",
       "      <th>100</th>\n",
       "      <td>ABA</td>\n",
       "      <td>{\"en\": \"Abakan Airport\", \"ru\": \"Абакан\"}</td>\n",
       "      <td>{\"en\": \"Abakan\", \"ru\": \"Абакан\"}</td>\n",
       "      <td>(91.3850021362304688,53.7400016784667969)</td>\n",
       "      <td>Asia/Krasnoyarsk</td>\n",
       "    </tr>\n",
       "    <tr>\n",
       "      <th>101</th>\n",
       "      <td>BAX</td>\n",
       "      <td>{\"en\": \"Barnaul Airport\", \"ru\": \"Барнаул\"}</td>\n",
       "      <td>{\"en\": \"Barnaul\", \"ru\": \"Барнаул\"}</td>\n",
       "      <td>(83.5384979248046875,53.363800048828125)</td>\n",
       "      <td>Asia/Krasnoyarsk</td>\n",
       "    </tr>\n",
       "    <tr>\n",
       "      <th>102</th>\n",
       "      <td>AAQ</td>\n",
       "      <td>{\"en\": \"Anapa Vityazevo Airport\", \"ru\": \"Витяз...</td>\n",
       "      <td>{\"en\": \"Anapa\", \"ru\": \"Анапа\"}</td>\n",
       "      <td>(37.3473014831539984,45.002101898192997)</td>\n",
       "      <td>Europe/Moscow</td>\n",
       "    </tr>\n",
       "    <tr>\n",
       "      <th>103</th>\n",
       "      <td>CNN</td>\n",
       "      <td>{\"en\": \"Chulman Airport\", \"ru\": \"Чульман\"}</td>\n",
       "      <td>{\"en\": \"Neryungri\", \"ru\": \"Нерюнгри\"}</td>\n",
       "      <td>(124.914001464839998,56.9138984680179973)</td>\n",
       "      <td>Asia/Yakutsk</td>\n",
       "    </tr>\n",
       "  </tbody>\n",
       "</table>\n",
       "<p>104 rows × 5 columns</p>\n",
       "</div>"
      ],
      "text/plain": [
       "    airport_code                                       airport_name  \\\n",
       "0            YKS          {\"en\": \"Yakutsk Airport\", \"ru\": \"Якутск\"}   \n",
       "1            MJZ            {\"en\": \"Mirny Airport\", \"ru\": \"Мирный\"}   \n",
       "2            KHV  {\"en\": \"Khabarovsk-Novy Airport\", \"ru\": \"Хабар...   \n",
       "3            PKC        {\"en\": \"Yelizovo Airport\", \"ru\": \"Елизово\"}   \n",
       "4            UUS  {\"en\": \"Yuzhno-Sakhalinsk Airport\", \"ru\": \"Хом...   \n",
       "..           ...                                                ...   \n",
       "99           MMK       {\"en\": \"Murmansk Airport\", \"ru\": \"Мурманск\"}   \n",
       "100          ABA           {\"en\": \"Abakan Airport\", \"ru\": \"Абакан\"}   \n",
       "101          BAX         {\"en\": \"Barnaul Airport\", \"ru\": \"Барнаул\"}   \n",
       "102          AAQ  {\"en\": \"Anapa Vityazevo Airport\", \"ru\": \"Витяз...   \n",
       "103          CNN         {\"en\": \"Chulman Airport\", \"ru\": \"Чульман\"}   \n",
       "\n",
       "                                                  city  \\\n",
       "0                    {\"en\": \"Yakutsk\", \"ru\": \"Якутск\"}   \n",
       "1                     {\"en\": \"Mirnyj\", \"ru\": \"Мирный\"}   \n",
       "2              {\"en\": \"Khabarovsk\", \"ru\": \"Хабаровск\"}   \n",
       "3    {\"en\": \"Petropavlovsk\", \"ru\": \"Петропавловск-К...   \n",
       "4    {\"en\": \"Yuzhno-Sakhalinsk\", \"ru\": \"Южно-Сахали...   \n",
       "..                                                 ...   \n",
       "99                {\"en\": \"Murmansk\", \"ru\": \"Мурманск\"}   \n",
       "100                   {\"en\": \"Abakan\", \"ru\": \"Абакан\"}   \n",
       "101                 {\"en\": \"Barnaul\", \"ru\": \"Барнаул\"}   \n",
       "102                     {\"en\": \"Anapa\", \"ru\": \"Анапа\"}   \n",
       "103              {\"en\": \"Neryungri\", \"ru\": \"Нерюнгри\"}   \n",
       "\n",
       "                                   coordinates          timezone  \n",
       "0        (129.77099609375,62.0932998657226562)      Asia/Yakutsk  \n",
       "1      (114.03900146484375,62.534698486328125)      Asia/Yakutsk  \n",
       "2        (135.18800354004,48.5279998779300001)  Asia/Vladivostok  \n",
       "3    (158.453994750976562,53.1679000854492188)    Asia/Kamchatka  \n",
       "4    (142.718002319335938,46.8886985778808594)     Asia/Sakhalin  \n",
       "..                                         ...               ...  \n",
       "99   (32.7508010864257812,68.7817001342773438)     Europe/Moscow  \n",
       "100  (91.3850021362304688,53.7400016784667969)  Asia/Krasnoyarsk  \n",
       "101   (83.5384979248046875,53.363800048828125)  Asia/Krasnoyarsk  \n",
       "102   (37.3473014831539984,45.002101898192997)     Europe/Moscow  \n",
       "103  (124.914001464839998,56.9138984680179973)      Asia/Yakutsk  \n",
       "\n",
       "[104 rows x 5 columns]"
      ]
     },
     "execution_count": 282,
     "metadata": {},
     "output_type": "execute_result"
    }
   ],
   "source": [
    "airports_data"
   ]
  },
  {
   "cell_type": "markdown",
   "id": "658b3cd5",
   "metadata": {},
   "source": [
    "#### Checking shape of the dataset"
   ]
  },
  {
   "cell_type": "code",
   "execution_count": 283,
   "id": "01198c2c",
   "metadata": {},
   "outputs": [
    {
     "data": {
      "text/html": [
       "<div>\n",
       "<style scoped>\n",
       "    .dataframe tbody tr th:only-of-type {\n",
       "        vertical-align: middle;\n",
       "    }\n",
       "\n",
       "    .dataframe tbody tr th {\n",
       "        vertical-align: top;\n",
       "    }\n",
       "\n",
       "    .dataframe thead th {\n",
       "        text-align: right;\n",
       "    }\n",
       "</style>\n",
       "<table border=\"1\" class=\"dataframe\">\n",
       "  <thead>\n",
       "    <tr style=\"text-align: right;\">\n",
       "      <th></th>\n",
       "      <th>shape of dataset</th>\n",
       "    </tr>\n",
       "  </thead>\n",
       "  <tbody>\n",
       "    <tr>\n",
       "      <th>Number of rows</th>\n",
       "      <td>104</td>\n",
       "    </tr>\n",
       "    <tr>\n",
       "      <th>Number of columns</th>\n",
       "      <td>5</td>\n",
       "    </tr>\n",
       "  </tbody>\n",
       "</table>\n",
       "</div>"
      ],
      "text/plain": [
       "                   shape of dataset\n",
       "Number of rows                  104\n",
       "Number of columns                 5"
      ]
     },
     "execution_count": 283,
     "metadata": {},
     "output_type": "execute_result"
    }
   ],
   "source": [
    "rows = ['Number of rows', 'Number of columns']\n",
    "pd.DataFrame(airports_data.shape, columns = ['shape of dataset'], index = rows)"
   ]
  },
  {
   "cell_type": "markdown",
   "id": "7458431c",
   "metadata": {},
   "source": [
    "#### Checking Datatypes of Attributes in a dataset"
   ]
  },
  {
   "cell_type": "code",
   "execution_count": 304,
   "id": "94be00fb",
   "metadata": {},
   "outputs": [
    {
     "name": "stdout",
     "output_type": "stream",
     "text": [
      "<class 'pandas.core.frame.DataFrame'>\n",
      "RangeIndex: 104 entries, 0 to 103\n",
      "Data columns (total 5 columns):\n",
      " #   Column        Non-Null Count  Dtype \n",
      "---  ------        --------------  ----- \n",
      " 0   airport_code  104 non-null    object\n",
      " 1   airport_name  104 non-null    object\n",
      " 2   city          104 non-null    object\n",
      " 3   coordinates   104 non-null    object\n",
      " 4   timezone      104 non-null    object\n",
      "dtypes: object(5)\n",
      "memory usage: 4.2+ KB\n"
     ]
    }
   ],
   "source": [
    "airports_data.info()"
   ]
  },
  {
   "cell_type": "markdown",
   "id": "ce0b0ee9",
   "metadata": {},
   "source": [
    "#### Now we will going to apply split() and Join() function on columns 'airport_name' and 'city'"
   ]
  },
  {
   "cell_type": "code",
   "execution_count": 291,
   "id": "ce75420d",
   "metadata": {},
   "outputs": [
    {
     "name": "stdout",
     "output_type": "stream",
     "text": [
      "Splitting column airport_name:\n",
      "\n",
      " 0        [{\"en\":, \"Yakutsk, Airport\",, \"ru\":, \"Якутск\"}]\n",
      "1          [{\"en\":, \"Mirny, Airport\",, \"ru\":, \"Мирный\"}]\n",
      "2      [{\"en\":, \"Khabarovsk-Novy, Airport\",, \"ru\":, \"...\n",
      "3      [{\"en\":, \"Yelizovo, Airport\",, \"ru\":, \"Елизово\"}]\n",
      "4      [{\"en\":, \"Yuzhno-Sakhalinsk, Airport\",, \"ru\":,...\n",
      "                             ...                        \n",
      "99     [{\"en\":, \"Murmansk, Airport\",, \"ru\":, \"Мурманс...\n",
      "100       [{\"en\":, \"Abakan, Airport\",, \"ru\":, \"Абакан\"}]\n",
      "101     [{\"en\":, \"Barnaul, Airport\",, \"ru\":, \"Барнаул\"}]\n",
      "102    [{\"en\":, \"Anapa, Vityazevo, Airport\",, \"ru\":, ...\n",
      "103     [{\"en\":, \"Chulman, Airport\",, \"ru\":, \"Чульман\"}]\n",
      "Name: airport_name, Length: 104, dtype: object \n",
      "\n",
      "Splitting column city:\n",
      "\n",
      " 0                 [{\"en\":, \"Yakutsk\",, \"ru\":, \"Якутск\"}]\n",
      "1                  [{\"en\":, \"Mirnyj\",, \"ru\":, \"Мирный\"}]\n",
      "2           [{\"en\":, \"Khabarovsk\",, \"ru\":, \"Хабаровск\"}]\n",
      "3      [{\"en\":, \"Petropavlovsk\",, \"ru\":, \"Петропавлов...\n",
      "4      [{\"en\":, \"Yuzhno-Sakhalinsk\",, \"ru\":, \"Южно-Са...\n",
      "                             ...                        \n",
      "99             [{\"en\":, \"Murmansk\",, \"ru\":, \"Мурманск\"}]\n",
      "100                [{\"en\":, \"Abakan\",, \"ru\":, \"Абакан\"}]\n",
      "101              [{\"en\":, \"Barnaul\",, \"ru\":, \"Барнаул\"}]\n",
      "102                  [{\"en\":, \"Anapa\",, \"ru\":, \"Анапа\"}]\n",
      "103           [{\"en\":, \"Neryungri\",, \"ru\":, \"Нерюнгри\"}]\n",
      "Name: city, Length: 104, dtype: object\n"
     ]
    }
   ],
   "source": [
    "print('Splitting column airport_name:\\n\\n', airports_data['airport_name'].str.split(),'\\n')\n",
    "print('Splitting column city:\\n\\n', airports_data['city'].str.split())"
   ]
  },
  {
   "cell_type": "code",
   "execution_count": 292,
   "id": "a5536311",
   "metadata": {},
   "outputs": [],
   "source": [
    "airports_data['airport_name'] = airports_data['airport_name'].str.split().str[1]\n",
    "airports_data['city'] = airports_data['city'].str.split().str[1]"
   ]
  },
  {
   "cell_type": "code",
   "execution_count": 295,
   "id": "0045cd34",
   "metadata": {},
   "outputs": [
    {
     "data": {
      "text/plain": [
       "0                \"Yakutsk\n",
       "1                  \"Mirny\n",
       "2        \"Khabarovsk-Novy\n",
       "3               \"Yelizovo\n",
       "4      \"Yuzhno-Sakhalinsk\n",
       "              ...        \n",
       "99              \"Murmansk\n",
       "100               \"Abakan\n",
       "101              \"Barnaul\n",
       "102                \"Anapa\n",
       "103              \"Chulman\n",
       "Name: airport_name, Length: 104, dtype: object"
      ]
     },
     "execution_count": 295,
     "metadata": {},
     "output_type": "execute_result"
    }
   ],
   "source": [
    "airports_data['airport_name']"
   ]
  },
  {
   "cell_type": "code",
   "execution_count": 296,
   "id": "dc9214a6",
   "metadata": {},
   "outputs": [
    {
     "data": {
      "text/plain": [
       "0                \"Yakutsk\",\n",
       "1                 \"Mirnyj\",\n",
       "2             \"Khabarovsk\",\n",
       "3          \"Petropavlovsk\",\n",
       "4      \"Yuzhno-Sakhalinsk\",\n",
       "               ...         \n",
       "99              \"Murmansk\",\n",
       "100               \"Abakan\",\n",
       "101              \"Barnaul\",\n",
       "102                \"Anapa\",\n",
       "103            \"Neryungri\",\n",
       "Name: city, Length: 104, dtype: object"
      ]
     },
     "execution_count": 296,
     "metadata": {},
     "output_type": "execute_result"
    }
   ],
   "source": [
    "airports_data['city']"
   ]
  },
  {
   "cell_type": "markdown",
   "id": "7710d689",
   "metadata": {},
   "source": [
    "#### Stripping/Removing punctuation marks"
   ]
  },
  {
   "cell_type": "code",
   "execution_count": 301,
   "id": "d7f19860",
   "metadata": {},
   "outputs": [],
   "source": [
    "airports_data['airport_name'] = airports_data['airport_name'].str.strip('\"')\n",
    "airports_data['city'] = airports_data['airport_name'].str.strip('\" ,')\n",
    "airports_data['coordinates'] = airports_data['coordinates'].str.strip('()')"
   ]
  },
  {
   "cell_type": "code",
   "execution_count": 302,
   "id": "f3a63ccc",
   "metadata": {},
   "outputs": [
    {
     "data": {
      "text/html": [
       "<div>\n",
       "<style scoped>\n",
       "    .dataframe tbody tr th:only-of-type {\n",
       "        vertical-align: middle;\n",
       "    }\n",
       "\n",
       "    .dataframe tbody tr th {\n",
       "        vertical-align: top;\n",
       "    }\n",
       "\n",
       "    .dataframe thead th {\n",
       "        text-align: right;\n",
       "    }\n",
       "</style>\n",
       "<table border=\"1\" class=\"dataframe\">\n",
       "  <thead>\n",
       "    <tr style=\"text-align: right;\">\n",
       "      <th></th>\n",
       "      <th>airport_code</th>\n",
       "      <th>airport_name</th>\n",
       "      <th>city</th>\n",
       "      <th>coordinates</th>\n",
       "      <th>timezone</th>\n",
       "    </tr>\n",
       "  </thead>\n",
       "  <tbody>\n",
       "    <tr>\n",
       "      <th>0</th>\n",
       "      <td>YKS</td>\n",
       "      <td>Yakutsk</td>\n",
       "      <td>Yakutsk</td>\n",
       "      <td>129.77099609375,62.0932998657226562</td>\n",
       "      <td>Asia/Yakutsk</td>\n",
       "    </tr>\n",
       "    <tr>\n",
       "      <th>1</th>\n",
       "      <td>MJZ</td>\n",
       "      <td>Mirny</td>\n",
       "      <td>Mirny</td>\n",
       "      <td>114.03900146484375,62.534698486328125</td>\n",
       "      <td>Asia/Yakutsk</td>\n",
       "    </tr>\n",
       "    <tr>\n",
       "      <th>2</th>\n",
       "      <td>KHV</td>\n",
       "      <td>Khabarovsk-Novy</td>\n",
       "      <td>Khabarovsk-Novy</td>\n",
       "      <td>135.18800354004,48.5279998779300001</td>\n",
       "      <td>Asia/Vladivostok</td>\n",
       "    </tr>\n",
       "    <tr>\n",
       "      <th>3</th>\n",
       "      <td>PKC</td>\n",
       "      <td>Yelizovo</td>\n",
       "      <td>Yelizovo</td>\n",
       "      <td>158.453994750976562,53.1679000854492188</td>\n",
       "      <td>Asia/Kamchatka</td>\n",
       "    </tr>\n",
       "    <tr>\n",
       "      <th>4</th>\n",
       "      <td>UUS</td>\n",
       "      <td>Yuzhno-Sakhalinsk</td>\n",
       "      <td>Yuzhno-Sakhalinsk</td>\n",
       "      <td>142.718002319335938,46.8886985778808594</td>\n",
       "      <td>Asia/Sakhalin</td>\n",
       "    </tr>\n",
       "    <tr>\n",
       "      <th>...</th>\n",
       "      <td>...</td>\n",
       "      <td>...</td>\n",
       "      <td>...</td>\n",
       "      <td>...</td>\n",
       "      <td>...</td>\n",
       "    </tr>\n",
       "    <tr>\n",
       "      <th>99</th>\n",
       "      <td>MMK</td>\n",
       "      <td>Murmansk</td>\n",
       "      <td>Murmansk</td>\n",
       "      <td>32.7508010864257812,68.7817001342773438</td>\n",
       "      <td>Europe/Moscow</td>\n",
       "    </tr>\n",
       "    <tr>\n",
       "      <th>100</th>\n",
       "      <td>ABA</td>\n",
       "      <td>Abakan</td>\n",
       "      <td>Abakan</td>\n",
       "      <td>91.3850021362304688,53.7400016784667969</td>\n",
       "      <td>Asia/Krasnoyarsk</td>\n",
       "    </tr>\n",
       "    <tr>\n",
       "      <th>101</th>\n",
       "      <td>BAX</td>\n",
       "      <td>Barnaul</td>\n",
       "      <td>Barnaul</td>\n",
       "      <td>83.5384979248046875,53.363800048828125</td>\n",
       "      <td>Asia/Krasnoyarsk</td>\n",
       "    </tr>\n",
       "    <tr>\n",
       "      <th>102</th>\n",
       "      <td>AAQ</td>\n",
       "      <td>Anapa</td>\n",
       "      <td>Anapa</td>\n",
       "      <td>37.3473014831539984,45.002101898192997</td>\n",
       "      <td>Europe/Moscow</td>\n",
       "    </tr>\n",
       "    <tr>\n",
       "      <th>103</th>\n",
       "      <td>CNN</td>\n",
       "      <td>Chulman</td>\n",
       "      <td>Chulman</td>\n",
       "      <td>124.914001464839998,56.9138984680179973</td>\n",
       "      <td>Asia/Yakutsk</td>\n",
       "    </tr>\n",
       "  </tbody>\n",
       "</table>\n",
       "<p>104 rows × 5 columns</p>\n",
       "</div>"
      ],
      "text/plain": [
       "    airport_code       airport_name               city  \\\n",
       "0            YKS            Yakutsk            Yakutsk   \n",
       "1            MJZ              Mirny              Mirny   \n",
       "2            KHV    Khabarovsk-Novy    Khabarovsk-Novy   \n",
       "3            PKC           Yelizovo           Yelizovo   \n",
       "4            UUS  Yuzhno-Sakhalinsk  Yuzhno-Sakhalinsk   \n",
       "..           ...                ...                ...   \n",
       "99           MMK           Murmansk           Murmansk   \n",
       "100          ABA             Abakan             Abakan   \n",
       "101          BAX            Barnaul            Barnaul   \n",
       "102          AAQ              Anapa              Anapa   \n",
       "103          CNN            Chulman            Chulman   \n",
       "\n",
       "                                 coordinates          timezone  \n",
       "0        129.77099609375,62.0932998657226562      Asia/Yakutsk  \n",
       "1      114.03900146484375,62.534698486328125      Asia/Yakutsk  \n",
       "2        135.18800354004,48.5279998779300001  Asia/Vladivostok  \n",
       "3    158.453994750976562,53.1679000854492188    Asia/Kamchatka  \n",
       "4    142.718002319335938,46.8886985778808594     Asia/Sakhalin  \n",
       "..                                       ...               ...  \n",
       "99   32.7508010864257812,68.7817001342773438     Europe/Moscow  \n",
       "100  91.3850021362304688,53.7400016784667969  Asia/Krasnoyarsk  \n",
       "101   83.5384979248046875,53.363800048828125  Asia/Krasnoyarsk  \n",
       "102   37.3473014831539984,45.002101898192997     Europe/Moscow  \n",
       "103  124.914001464839998,56.9138984680179973      Asia/Yakutsk  \n",
       "\n",
       "[104 rows x 5 columns]"
      ]
     },
     "execution_count": 302,
     "metadata": {},
     "output_type": "execute_result"
    }
   ],
   "source": [
    "airports_data"
   ]
  },
  {
   "cell_type": "markdown",
   "id": "5fd674ac",
   "metadata": {},
   "source": [
    "#### Checking Descriptive Statistics of the dataset"
   ]
  },
  {
   "cell_type": "code",
   "execution_count": 303,
   "id": "1a8bc18c",
   "metadata": {},
   "outputs": [
    {
     "data": {
      "text/html": [
       "<div>\n",
       "<style scoped>\n",
       "    .dataframe tbody tr th:only-of-type {\n",
       "        vertical-align: middle;\n",
       "    }\n",
       "\n",
       "    .dataframe tbody tr th {\n",
       "        vertical-align: top;\n",
       "    }\n",
       "\n",
       "    .dataframe thead th {\n",
       "        text-align: right;\n",
       "    }\n",
       "</style>\n",
       "<table border=\"1\" class=\"dataframe\">\n",
       "  <thead>\n",
       "    <tr style=\"text-align: right;\">\n",
       "      <th></th>\n",
       "      <th>airport_code</th>\n",
       "      <th>airport_name</th>\n",
       "      <th>city</th>\n",
       "      <th>coordinates</th>\n",
       "      <th>timezone</th>\n",
       "    </tr>\n",
       "  </thead>\n",
       "  <tbody>\n",
       "    <tr>\n",
       "      <th>count</th>\n",
       "      <td>104</td>\n",
       "      <td>104</td>\n",
       "      <td>104</td>\n",
       "      <td>104</td>\n",
       "      <td>104</td>\n",
       "    </tr>\n",
       "    <tr>\n",
       "      <th>unique</th>\n",
       "      <td>104</td>\n",
       "      <td>103</td>\n",
       "      <td>103</td>\n",
       "      <td>104</td>\n",
       "      <td>17</td>\n",
       "    </tr>\n",
       "    <tr>\n",
       "      <th>top</th>\n",
       "      <td>YKS</td>\n",
       "      <td>Ulyanovsk</td>\n",
       "      <td>Ulyanovsk</td>\n",
       "      <td>129.77099609375,62.0932998657226562</td>\n",
       "      <td>Europe/Moscow</td>\n",
       "    </tr>\n",
       "    <tr>\n",
       "      <th>freq</th>\n",
       "      <td>1</td>\n",
       "      <td>2</td>\n",
       "      <td>2</td>\n",
       "      <td>1</td>\n",
       "      <td>44</td>\n",
       "    </tr>\n",
       "  </tbody>\n",
       "</table>\n",
       "</div>"
      ],
      "text/plain": [
       "       airport_code airport_name       city  \\\n",
       "count           104          104        104   \n",
       "unique          104          103        103   \n",
       "top             YKS    Ulyanovsk  Ulyanovsk   \n",
       "freq              1            2          2   \n",
       "\n",
       "                                coordinates       timezone  \n",
       "count                                   104            104  \n",
       "unique                                  104             17  \n",
       "top     129.77099609375,62.0932998657226562  Europe/Moscow  \n",
       "freq                                      1             44  "
      ]
     },
     "execution_count": 303,
     "metadata": {},
     "output_type": "execute_result"
    }
   ],
   "source": [
    "airports_data.describe()"
   ]
  },
  {
   "cell_type": "markdown",
   "id": "8d466ac0",
   "metadata": {},
   "source": [
    "#### Checking for Missing values in a dataset"
   ]
  },
  {
   "cell_type": "code",
   "execution_count": 306,
   "id": "79c463f3",
   "metadata": {},
   "outputs": [
    {
     "data": {
      "text/html": [
       "<div>\n",
       "<style scoped>\n",
       "    .dataframe tbody tr th:only-of-type {\n",
       "        vertical-align: middle;\n",
       "    }\n",
       "\n",
       "    .dataframe tbody tr th {\n",
       "        vertical-align: top;\n",
       "    }\n",
       "\n",
       "    .dataframe thead th {\n",
       "        text-align: right;\n",
       "    }\n",
       "</style>\n",
       "<table border=\"1\" class=\"dataframe\">\n",
       "  <thead>\n",
       "    <tr style=\"text-align: right;\">\n",
       "      <th></th>\n",
       "      <th>null values</th>\n",
       "    </tr>\n",
       "  </thead>\n",
       "  <tbody>\n",
       "    <tr>\n",
       "      <th>airport_code</th>\n",
       "      <td>0</td>\n",
       "    </tr>\n",
       "    <tr>\n",
       "      <th>airport_name</th>\n",
       "      <td>0</td>\n",
       "    </tr>\n",
       "    <tr>\n",
       "      <th>city</th>\n",
       "      <td>0</td>\n",
       "    </tr>\n",
       "    <tr>\n",
       "      <th>coordinates</th>\n",
       "      <td>0</td>\n",
       "    </tr>\n",
       "    <tr>\n",
       "      <th>timezone</th>\n",
       "      <td>0</td>\n",
       "    </tr>\n",
       "  </tbody>\n",
       "</table>\n",
       "</div>"
      ],
      "text/plain": [
       "              null values\n",
       "airport_code            0\n",
       "airport_name            0\n",
       "city                    0\n",
       "coordinates             0\n",
       "timezone                0"
      ]
     },
     "execution_count": 306,
     "metadata": {},
     "output_type": "execute_result"
    }
   ],
   "source": [
    "pd.DataFrame(airports_data.isnull().sum(), columns = ['null values'])"
   ]
  },
  {
   "cell_type": "markdown",
   "id": "930e4166",
   "metadata": {},
   "source": [
    "### Analysing Flights Data"
   ]
  },
  {
   "cell_type": "code",
   "execution_count": 332,
   "id": "7b80d03e",
   "metadata": {},
   "outputs": [],
   "source": [
    "flights = pd.read_sql_query('select * from flights', connection)"
   ]
  },
  {
   "cell_type": "markdown",
   "id": "1105ee04",
   "metadata": {},
   "source": [
    "#### Checking first and last five rows of the dataset"
   ]
  },
  {
   "cell_type": "code",
   "execution_count": 333,
   "id": "a6f014a2",
   "metadata": {},
   "outputs": [
    {
     "data": {
      "text/html": [
       "<div>\n",
       "<style scoped>\n",
       "    .dataframe tbody tr th:only-of-type {\n",
       "        vertical-align: middle;\n",
       "    }\n",
       "\n",
       "    .dataframe tbody tr th {\n",
       "        vertical-align: top;\n",
       "    }\n",
       "\n",
       "    .dataframe thead th {\n",
       "        text-align: right;\n",
       "    }\n",
       "</style>\n",
       "<table border=\"1\" class=\"dataframe\">\n",
       "  <thead>\n",
       "    <tr style=\"text-align: right;\">\n",
       "      <th></th>\n",
       "      <th>flight_id</th>\n",
       "      <th>flight_no</th>\n",
       "      <th>scheduled_departure</th>\n",
       "      <th>scheduled_arrival</th>\n",
       "      <th>departure_airport</th>\n",
       "      <th>arrival_airport</th>\n",
       "      <th>status</th>\n",
       "      <th>aircraft_code</th>\n",
       "      <th>actual_departure</th>\n",
       "      <th>actual_arrival</th>\n",
       "    </tr>\n",
       "  </thead>\n",
       "  <tbody>\n",
       "    <tr>\n",
       "      <th>0</th>\n",
       "      <td>1185</td>\n",
       "      <td>PG0134</td>\n",
       "      <td>2017-09-10 09:50:00+03</td>\n",
       "      <td>2017-09-10 14:55:00+03</td>\n",
       "      <td>DME</td>\n",
       "      <td>BTK</td>\n",
       "      <td>Scheduled</td>\n",
       "      <td>319</td>\n",
       "      <td>\\N</td>\n",
       "      <td>\\N</td>\n",
       "    </tr>\n",
       "    <tr>\n",
       "      <th>1</th>\n",
       "      <td>3979</td>\n",
       "      <td>PG0052</td>\n",
       "      <td>2017-08-25 14:50:00+03</td>\n",
       "      <td>2017-08-25 17:35:00+03</td>\n",
       "      <td>VKO</td>\n",
       "      <td>HMA</td>\n",
       "      <td>Scheduled</td>\n",
       "      <td>CR2</td>\n",
       "      <td>\\N</td>\n",
       "      <td>\\N</td>\n",
       "    </tr>\n",
       "    <tr>\n",
       "      <th>2</th>\n",
       "      <td>4739</td>\n",
       "      <td>PG0561</td>\n",
       "      <td>2017-09-05 12:30:00+03</td>\n",
       "      <td>2017-09-05 14:15:00+03</td>\n",
       "      <td>VKO</td>\n",
       "      <td>AER</td>\n",
       "      <td>Scheduled</td>\n",
       "      <td>763</td>\n",
       "      <td>\\N</td>\n",
       "      <td>\\N</td>\n",
       "    </tr>\n",
       "    <tr>\n",
       "      <th>3</th>\n",
       "      <td>5502</td>\n",
       "      <td>PG0529</td>\n",
       "      <td>2017-09-12 09:50:00+03</td>\n",
       "      <td>2017-09-12 11:20:00+03</td>\n",
       "      <td>SVO</td>\n",
       "      <td>UFA</td>\n",
       "      <td>Scheduled</td>\n",
       "      <td>763</td>\n",
       "      <td>\\N</td>\n",
       "      <td>\\N</td>\n",
       "    </tr>\n",
       "    <tr>\n",
       "      <th>4</th>\n",
       "      <td>6938</td>\n",
       "      <td>PG0461</td>\n",
       "      <td>2017-09-04 12:25:00+03</td>\n",
       "      <td>2017-09-04 13:20:00+03</td>\n",
       "      <td>SVO</td>\n",
       "      <td>ULV</td>\n",
       "      <td>Scheduled</td>\n",
       "      <td>SU9</td>\n",
       "      <td>\\N</td>\n",
       "      <td>\\N</td>\n",
       "    </tr>\n",
       "    <tr>\n",
       "      <th>...</th>\n",
       "      <td>...</td>\n",
       "      <td>...</td>\n",
       "      <td>...</td>\n",
       "      <td>...</td>\n",
       "      <td>...</td>\n",
       "      <td>...</td>\n",
       "      <td>...</td>\n",
       "      <td>...</td>\n",
       "      <td>...</td>\n",
       "      <td>...</td>\n",
       "    </tr>\n",
       "    <tr>\n",
       "      <th>33116</th>\n",
       "      <td>33117</td>\n",
       "      <td>PG0063</td>\n",
       "      <td>2017-08-02 19:25:00+03</td>\n",
       "      <td>2017-08-02 20:10:00+03</td>\n",
       "      <td>SKX</td>\n",
       "      <td>SVO</td>\n",
       "      <td>Arrived</td>\n",
       "      <td>CR2</td>\n",
       "      <td>2017-08-02 19:25:00+03</td>\n",
       "      <td>2017-08-02 20:10:00+03</td>\n",
       "    </tr>\n",
       "    <tr>\n",
       "      <th>33117</th>\n",
       "      <td>33118</td>\n",
       "      <td>PG0063</td>\n",
       "      <td>2017-07-28 19:25:00+03</td>\n",
       "      <td>2017-07-28 20:10:00+03</td>\n",
       "      <td>SKX</td>\n",
       "      <td>SVO</td>\n",
       "      <td>Arrived</td>\n",
       "      <td>CR2</td>\n",
       "      <td>2017-07-28 19:30:00+03</td>\n",
       "      <td>2017-07-28 20:15:00+03</td>\n",
       "    </tr>\n",
       "    <tr>\n",
       "      <th>33118</th>\n",
       "      <td>33119</td>\n",
       "      <td>PG0063</td>\n",
       "      <td>2017-09-08 19:25:00+03</td>\n",
       "      <td>2017-09-08 20:10:00+03</td>\n",
       "      <td>SKX</td>\n",
       "      <td>SVO</td>\n",
       "      <td>Scheduled</td>\n",
       "      <td>CR2</td>\n",
       "      <td>\\N</td>\n",
       "      <td>\\N</td>\n",
       "    </tr>\n",
       "    <tr>\n",
       "      <th>33119</th>\n",
       "      <td>33120</td>\n",
       "      <td>PG0063</td>\n",
       "      <td>2017-08-01 19:25:00+03</td>\n",
       "      <td>2017-08-01 20:10:00+03</td>\n",
       "      <td>SKX</td>\n",
       "      <td>SVO</td>\n",
       "      <td>Arrived</td>\n",
       "      <td>CR2</td>\n",
       "      <td>2017-08-01 19:26:00+03</td>\n",
       "      <td>2017-08-01 20:12:00+03</td>\n",
       "    </tr>\n",
       "    <tr>\n",
       "      <th>33120</th>\n",
       "      <td>33121</td>\n",
       "      <td>PG0063</td>\n",
       "      <td>2017-08-26 19:25:00+03</td>\n",
       "      <td>2017-08-26 20:10:00+03</td>\n",
       "      <td>SKX</td>\n",
       "      <td>SVO</td>\n",
       "      <td>Scheduled</td>\n",
       "      <td>CR2</td>\n",
       "      <td>\\N</td>\n",
       "      <td>\\N</td>\n",
       "    </tr>\n",
       "  </tbody>\n",
       "</table>\n",
       "<p>33121 rows × 10 columns</p>\n",
       "</div>"
      ],
      "text/plain": [
       "       flight_id flight_no     scheduled_departure       scheduled_arrival  \\\n",
       "0           1185    PG0134  2017-09-10 09:50:00+03  2017-09-10 14:55:00+03   \n",
       "1           3979    PG0052  2017-08-25 14:50:00+03  2017-08-25 17:35:00+03   \n",
       "2           4739    PG0561  2017-09-05 12:30:00+03  2017-09-05 14:15:00+03   \n",
       "3           5502    PG0529  2017-09-12 09:50:00+03  2017-09-12 11:20:00+03   \n",
       "4           6938    PG0461  2017-09-04 12:25:00+03  2017-09-04 13:20:00+03   \n",
       "...          ...       ...                     ...                     ...   \n",
       "33116      33117    PG0063  2017-08-02 19:25:00+03  2017-08-02 20:10:00+03   \n",
       "33117      33118    PG0063  2017-07-28 19:25:00+03  2017-07-28 20:10:00+03   \n",
       "33118      33119    PG0063  2017-09-08 19:25:00+03  2017-09-08 20:10:00+03   \n",
       "33119      33120    PG0063  2017-08-01 19:25:00+03  2017-08-01 20:10:00+03   \n",
       "33120      33121    PG0063  2017-08-26 19:25:00+03  2017-08-26 20:10:00+03   \n",
       "\n",
       "      departure_airport arrival_airport     status aircraft_code  \\\n",
       "0                   DME             BTK  Scheduled           319   \n",
       "1                   VKO             HMA  Scheduled           CR2   \n",
       "2                   VKO             AER  Scheduled           763   \n",
       "3                   SVO             UFA  Scheduled           763   \n",
       "4                   SVO             ULV  Scheduled           SU9   \n",
       "...                 ...             ...        ...           ...   \n",
       "33116               SKX             SVO    Arrived           CR2   \n",
       "33117               SKX             SVO    Arrived           CR2   \n",
       "33118               SKX             SVO  Scheduled           CR2   \n",
       "33119               SKX             SVO    Arrived           CR2   \n",
       "33120               SKX             SVO  Scheduled           CR2   \n",
       "\n",
       "             actual_departure          actual_arrival  \n",
       "0                          \\N                      \\N  \n",
       "1                          \\N                      \\N  \n",
       "2                          \\N                      \\N  \n",
       "3                          \\N                      \\N  \n",
       "4                          \\N                      \\N  \n",
       "...                       ...                     ...  \n",
       "33116  2017-08-02 19:25:00+03  2017-08-02 20:10:00+03  \n",
       "33117  2017-07-28 19:30:00+03  2017-07-28 20:15:00+03  \n",
       "33118                      \\N                      \\N  \n",
       "33119  2017-08-01 19:26:00+03  2017-08-01 20:12:00+03  \n",
       "33120                      \\N                      \\N  \n",
       "\n",
       "[33121 rows x 10 columns]"
      ]
     },
     "execution_count": 333,
     "metadata": {},
     "output_type": "execute_result"
    }
   ],
   "source": [
    "flights"
   ]
  },
  {
   "cell_type": "markdown",
   "id": "6ff29887",
   "metadata": {},
   "source": [
    "#### Checking shape of the dataset"
   ]
  },
  {
   "cell_type": "code",
   "execution_count": 334,
   "id": "2b220691",
   "metadata": {},
   "outputs": [
    {
     "data": {
      "text/html": [
       "<div>\n",
       "<style scoped>\n",
       "    .dataframe tbody tr th:only-of-type {\n",
       "        vertical-align: middle;\n",
       "    }\n",
       "\n",
       "    .dataframe tbody tr th {\n",
       "        vertical-align: top;\n",
       "    }\n",
       "\n",
       "    .dataframe thead th {\n",
       "        text-align: right;\n",
       "    }\n",
       "</style>\n",
       "<table border=\"1\" class=\"dataframe\">\n",
       "  <thead>\n",
       "    <tr style=\"text-align: right;\">\n",
       "      <th></th>\n",
       "      <th>shape of the dataset</th>\n",
       "    </tr>\n",
       "  </thead>\n",
       "  <tbody>\n",
       "    <tr>\n",
       "      <th>Number of rows</th>\n",
       "      <td>33121</td>\n",
       "    </tr>\n",
       "    <tr>\n",
       "      <th>Number of columns</th>\n",
       "      <td>10</td>\n",
       "    </tr>\n",
       "  </tbody>\n",
       "</table>\n",
       "</div>"
      ],
      "text/plain": [
       "                   shape of the dataset\n",
       "Number of rows                    33121\n",
       "Number of columns                    10"
      ]
     },
     "execution_count": 334,
     "metadata": {},
     "output_type": "execute_result"
    }
   ],
   "source": [
    "rows = ['Number of rows', 'Number of columns']\n",
    "pd.DataFrame(flights.shape, columns = ['shape of the dataset'], index = rows)"
   ]
  },
  {
   "cell_type": "markdown",
   "id": "e50df542",
   "metadata": {},
   "source": [
    "#### Checking Datatypes of Attributes in a dataset"
   ]
  },
  {
   "cell_type": "code",
   "execution_count": 335,
   "id": "cabb8d36",
   "metadata": {},
   "outputs": [
    {
     "name": "stdout",
     "output_type": "stream",
     "text": [
      "<class 'pandas.core.frame.DataFrame'>\n",
      "RangeIndex: 33121 entries, 0 to 33120\n",
      "Data columns (total 10 columns):\n",
      " #   Column               Non-Null Count  Dtype \n",
      "---  ------               --------------  ----- \n",
      " 0   flight_id            33121 non-null  int64 \n",
      " 1   flight_no            33121 non-null  object\n",
      " 2   scheduled_departure  33121 non-null  object\n",
      " 3   scheduled_arrival    33121 non-null  object\n",
      " 4   departure_airport    33121 non-null  object\n",
      " 5   arrival_airport      33121 non-null  object\n",
      " 6   status               33121 non-null  object\n",
      " 7   aircraft_code        33121 non-null  object\n",
      " 8   actual_departure     33121 non-null  object\n",
      " 9   actual_arrival       33121 non-null  object\n",
      "dtypes: int64(1), object(9)\n",
      "memory usage: 2.5+ MB\n"
     ]
    }
   ],
   "source": [
    "flights.info()"
   ]
  },
  {
   "cell_type": "code",
   "execution_count": 342,
   "id": "82a8030f",
   "metadata": {},
   "outputs": [],
   "source": [
    "flights['scheduled_departure'] = pd.to_datetime(flights['scheduled_departure'], dayfirst=True)\n",
    "flights['scheduled_arrival'] = pd.to_datetime(flights['scheduled_arrival'], dayfirst=True)"
   ]
  },
  {
   "cell_type": "code",
   "execution_count": 344,
   "id": "561e1bb2",
   "metadata": {},
   "outputs": [
    {
     "data": {
      "text/plain": [
       "flight_id                                              int64\n",
       "flight_no                                             object\n",
       "scheduled_departure    datetime64[ns, pytz.FixedOffset(180)]\n",
       "scheduled_arrival      datetime64[ns, pytz.FixedOffset(180)]\n",
       "departure_airport                                     object\n",
       "arrival_airport                                       object\n",
       "status                                                object\n",
       "aircraft_code                                         object\n",
       "actual_departure                                      object\n",
       "actual_arrival                                        object\n",
       "dtype: object"
      ]
     },
     "execution_count": 344,
     "metadata": {},
     "output_type": "execute_result"
    }
   ],
   "source": [
    "flights.dtypes"
   ]
  },
  {
   "cell_type": "markdown",
   "id": "beef572c",
   "metadata": {},
   "source": [
    "#### Checking Descriptive statistics of the dataset"
   ]
  },
  {
   "cell_type": "code",
   "execution_count": 359,
   "id": "160c075a",
   "metadata": {},
   "outputs": [
    {
     "data": {
      "text/html": [
       "<div>\n",
       "<style scoped>\n",
       "    .dataframe tbody tr th:only-of-type {\n",
       "        vertical-align: middle;\n",
       "    }\n",
       "\n",
       "    .dataframe tbody tr th {\n",
       "        vertical-align: top;\n",
       "    }\n",
       "\n",
       "    .dataframe thead th {\n",
       "        text-align: right;\n",
       "    }\n",
       "</style>\n",
       "<table border=\"1\" class=\"dataframe\">\n",
       "  <thead>\n",
       "    <tr style=\"text-align: right;\">\n",
       "      <th></th>\n",
       "      <th>flight_no</th>\n",
       "      <th>departure_airport</th>\n",
       "      <th>arrival_airport</th>\n",
       "      <th>status</th>\n",
       "      <th>aircraft_code</th>\n",
       "      <th>actual_departure</th>\n",
       "      <th>actual_arrival</th>\n",
       "    </tr>\n",
       "  </thead>\n",
       "  <tbody>\n",
       "    <tr>\n",
       "      <th>count</th>\n",
       "      <td>33121</td>\n",
       "      <td>33121</td>\n",
       "      <td>33121</td>\n",
       "      <td>33121</td>\n",
       "      <td>33121</td>\n",
       "      <td>33121</td>\n",
       "      <td>33121</td>\n",
       "    </tr>\n",
       "    <tr>\n",
       "      <th>unique</th>\n",
       "      <td>710</td>\n",
       "      <td>104</td>\n",
       "      <td>104</td>\n",
       "      <td>6</td>\n",
       "      <td>8</td>\n",
       "      <td>12108</td>\n",
       "      <td>11851</td>\n",
       "    </tr>\n",
       "    <tr>\n",
       "      <th>top</th>\n",
       "      <td>PG0134</td>\n",
       "      <td>DME</td>\n",
       "      <td>DME</td>\n",
       "      <td>Arrived</td>\n",
       "      <td>CN1</td>\n",
       "      <td>\\N</td>\n",
       "      <td>\\N</td>\n",
       "    </tr>\n",
       "    <tr>\n",
       "      <th>freq</th>\n",
       "      <td>61</td>\n",
       "      <td>3217</td>\n",
       "      <td>3217</td>\n",
       "      <td>16707</td>\n",
       "      <td>9273</td>\n",
       "      <td>16348</td>\n",
       "      <td>16406</td>\n",
       "    </tr>\n",
       "  </tbody>\n",
       "</table>\n",
       "</div>"
      ],
      "text/plain": [
       "       flight_no departure_airport arrival_airport   status aircraft_code  \\\n",
       "count      33121             33121           33121    33121         33121   \n",
       "unique       710               104             104        6             8   \n",
       "top       PG0134               DME             DME  Arrived           CN1   \n",
       "freq          61              3217            3217    16707          9273   \n",
       "\n",
       "       actual_departure actual_arrival  \n",
       "count             33121          33121  \n",
       "unique            12108          11851  \n",
       "top                  \\N             \\N  \n",
       "freq              16348          16406  "
      ]
     },
     "execution_count": 359,
     "metadata": {},
     "output_type": "execute_result"
    }
   ],
   "source": [
    "flights.select_dtypes('object').describe()"
   ]
  },
  {
   "cell_type": "markdown",
   "id": "22555c33",
   "metadata": {},
   "source": [
    "#### Checking for Missing values in a dataset"
   ]
  },
  {
   "cell_type": "code",
   "execution_count": 360,
   "id": "3a7e5c38",
   "metadata": {},
   "outputs": [
    {
     "data": {
      "text/html": [
       "<div>\n",
       "<style scoped>\n",
       "    .dataframe tbody tr th:only-of-type {\n",
       "        vertical-align: middle;\n",
       "    }\n",
       "\n",
       "    .dataframe tbody tr th {\n",
       "        vertical-align: top;\n",
       "    }\n",
       "\n",
       "    .dataframe thead th {\n",
       "        text-align: right;\n",
       "    }\n",
       "</style>\n",
       "<table border=\"1\" class=\"dataframe\">\n",
       "  <thead>\n",
       "    <tr style=\"text-align: right;\">\n",
       "      <th></th>\n",
       "      <th>Null values</th>\n",
       "    </tr>\n",
       "  </thead>\n",
       "  <tbody>\n",
       "    <tr>\n",
       "      <th>flight_id</th>\n",
       "      <td>0</td>\n",
       "    </tr>\n",
       "    <tr>\n",
       "      <th>flight_no</th>\n",
       "      <td>0</td>\n",
       "    </tr>\n",
       "    <tr>\n",
       "      <th>scheduled_departure</th>\n",
       "      <td>0</td>\n",
       "    </tr>\n",
       "    <tr>\n",
       "      <th>scheduled_arrival</th>\n",
       "      <td>0</td>\n",
       "    </tr>\n",
       "    <tr>\n",
       "      <th>departure_airport</th>\n",
       "      <td>0</td>\n",
       "    </tr>\n",
       "    <tr>\n",
       "      <th>arrival_airport</th>\n",
       "      <td>0</td>\n",
       "    </tr>\n",
       "    <tr>\n",
       "      <th>status</th>\n",
       "      <td>0</td>\n",
       "    </tr>\n",
       "    <tr>\n",
       "      <th>aircraft_code</th>\n",
       "      <td>0</td>\n",
       "    </tr>\n",
       "    <tr>\n",
       "      <th>actual_departure</th>\n",
       "      <td>0</td>\n",
       "    </tr>\n",
       "    <tr>\n",
       "      <th>actual_arrival</th>\n",
       "      <td>0</td>\n",
       "    </tr>\n",
       "  </tbody>\n",
       "</table>\n",
       "</div>"
      ],
      "text/plain": [
       "                     Null values\n",
       "flight_id                      0\n",
       "flight_no                      0\n",
       "scheduled_departure            0\n",
       "scheduled_arrival              0\n",
       "departure_airport              0\n",
       "arrival_airport                0\n",
       "status                         0\n",
       "aircraft_code                  0\n",
       "actual_departure               0\n",
       "actual_arrival                 0"
      ]
     },
     "execution_count": 360,
     "metadata": {},
     "output_type": "execute_result"
    }
   ],
   "source": [
    "pd.DataFrame(flights.isnull().sum(), columns = ['Null values'])"
   ]
  },
  {
   "cell_type": "code",
   "execution_count": 365,
   "id": "75d1f257",
   "metadata": {},
   "outputs": [
    {
     "data": {
      "image/png": "[encoded data removed]",
      "text/plain": [
       "<Figure size 640x480 with 1 Axes>"
      ]
     },
     "metadata": {},
     "output_type": "display_data"
    }
   ],
   "source": [
    "ax = sns.countplot(data=flights, x = 'status', order = flights['status'].value_counts().index, edgecolor='black', linewidth=1)\n",
    "total = flights['status'].count()\n",
    "for c in ax.containers:\n",
    "    ax.bar_label(c, fmt = lambda x: f'{(x/total)*100:0.1f}%')"
   ]
  },
  {
   "cell_type": "markdown",
   "id": "841fef0c",
   "metadata": {},
   "source": [
    "#### Number of departure across different airports"
   ]
  },
  {
   "cell_type": "code",
   "execution_count": 602,
   "id": "9ead118f",
   "metadata": {},
   "outputs": [
    {
     "data": {
      "text/plain": [
       "departure_airport\n",
       "DME    3217\n",
       "SVO    2981\n",
       "LED    1900\n",
       "VKO    1719\n",
       "OVB    1055\n",
       "KJA     707\n",
       "SVX     689\n",
       "PEE     619\n",
       "ROV     617\n",
       "BZK     610\n",
       "Name: flight_no, dtype: int64"
      ]
     },
     "execution_count": 602,
     "metadata": {},
     "output_type": "execute_result"
    }
   ],
   "source": [
    "flights.groupby(['departure_airport'])['flight_no'].count().sort_values(ascending=False).head(10)"
   ]
  },
  {
   "cell_type": "markdown",
   "id": "8882e12d",
   "metadata": {},
   "source": [
    "#### Number of Arrival across different airports"
   ]
  },
  {
   "cell_type": "code",
   "execution_count": 606,
   "id": "6ecaa9c9",
   "metadata": {},
   "outputs": [
    {
     "data": {
      "text/plain": [
       "arrival_airport\n",
       "DME    3217\n",
       "SVO    2982\n",
       "LED    1902\n",
       "VKO    1717\n",
       "OVB    1055\n",
       "       ... \n",
       "PYJ      27\n",
       "PKC      26\n",
       "NYA      26\n",
       "USK      18\n",
       "KXK      17\n",
       "Name: flight_no, Length: 104, dtype: int64"
      ]
     },
     "execution_count": 606,
     "metadata": {},
     "output_type": "execute_result"
    }
   ],
   "source": [
    "flights.groupby(['arrival_airport'])['flight_no'].count().sort_values(ascending=False)"
   ]
  },
  {
   "cell_type": "markdown",
   "id": "37b81570",
   "metadata": {},
   "source": [
    "### Analysing Seats"
   ]
  },
  {
   "cell_type": "code",
   "execution_count": 366,
   "id": "9e7ac5c3",
   "metadata": {},
   "outputs": [],
   "source": [
    "seats = pd.read_sql_query('select * from seats', connection)"
   ]
  },
  {
   "cell_type": "markdown",
   "id": "56e6e2fb",
   "metadata": {},
   "source": [
    "#### Checking first and last five rows of the dataset"
   ]
  },
  {
   "cell_type": "code",
   "execution_count": 367,
   "id": "5a3776c6",
   "metadata": {},
   "outputs": [
    {
     "data": {
      "text/html": [
       "<div>\n",
       "<style scoped>\n",
       "    .dataframe tbody tr th:only-of-type {\n",
       "        vertical-align: middle;\n",
       "    }\n",
       "\n",
       "    .dataframe tbody tr th {\n",
       "        vertical-align: top;\n",
       "    }\n",
       "\n",
       "    .dataframe thead th {\n",
       "        text-align: right;\n",
       "    }\n",
       "</style>\n",
       "<table border=\"1\" class=\"dataframe\">\n",
       "  <thead>\n",
       "    <tr style=\"text-align: right;\">\n",
       "      <th></th>\n",
       "      <th>aircraft_code</th>\n",
       "      <th>seat_no</th>\n",
       "      <th>fare_conditions</th>\n",
       "    </tr>\n",
       "  </thead>\n",
       "  <tbody>\n",
       "    <tr>\n",
       "      <th>0</th>\n",
       "      <td>319</td>\n",
       "      <td>2A</td>\n",
       "      <td>Business</td>\n",
       "    </tr>\n",
       "    <tr>\n",
       "      <th>1</th>\n",
       "      <td>319</td>\n",
       "      <td>2C</td>\n",
       "      <td>Business</td>\n",
       "    </tr>\n",
       "    <tr>\n",
       "      <th>2</th>\n",
       "      <td>319</td>\n",
       "      <td>2D</td>\n",
       "      <td>Business</td>\n",
       "    </tr>\n",
       "    <tr>\n",
       "      <th>3</th>\n",
       "      <td>319</td>\n",
       "      <td>2F</td>\n",
       "      <td>Business</td>\n",
       "    </tr>\n",
       "    <tr>\n",
       "      <th>4</th>\n",
       "      <td>319</td>\n",
       "      <td>3A</td>\n",
       "      <td>Business</td>\n",
       "    </tr>\n",
       "    <tr>\n",
       "      <th>...</th>\n",
       "      <td>...</td>\n",
       "      <td>...</td>\n",
       "      <td>...</td>\n",
       "    </tr>\n",
       "    <tr>\n",
       "      <th>1334</th>\n",
       "      <td>773</td>\n",
       "      <td>48H</td>\n",
       "      <td>Economy</td>\n",
       "    </tr>\n",
       "    <tr>\n",
       "      <th>1335</th>\n",
       "      <td>773</td>\n",
       "      <td>48K</td>\n",
       "      <td>Economy</td>\n",
       "    </tr>\n",
       "    <tr>\n",
       "      <th>1336</th>\n",
       "      <td>773</td>\n",
       "      <td>49A</td>\n",
       "      <td>Economy</td>\n",
       "    </tr>\n",
       "    <tr>\n",
       "      <th>1337</th>\n",
       "      <td>773</td>\n",
       "      <td>49C</td>\n",
       "      <td>Economy</td>\n",
       "    </tr>\n",
       "    <tr>\n",
       "      <th>1338</th>\n",
       "      <td>773</td>\n",
       "      <td>49D</td>\n",
       "      <td>Economy</td>\n",
       "    </tr>\n",
       "  </tbody>\n",
       "</table>\n",
       "<p>1339 rows × 3 columns</p>\n",
       "</div>"
      ],
      "text/plain": [
       "     aircraft_code seat_no fare_conditions\n",
       "0              319      2A        Business\n",
       "1              319      2C        Business\n",
       "2              319      2D        Business\n",
       "3              319      2F        Business\n",
       "4              319      3A        Business\n",
       "...            ...     ...             ...\n",
       "1334           773     48H         Economy\n",
       "1335           773     48K         Economy\n",
       "1336           773     49A         Economy\n",
       "1337           773     49C         Economy\n",
       "1338           773     49D         Economy\n",
       "\n",
       "[1339 rows x 3 columns]"
      ]
     },
     "execution_count": 367,
     "metadata": {},
     "output_type": "execute_result"
    }
   ],
   "source": [
    "seats"
   ]
  },
  {
   "cell_type": "markdown",
   "id": "645d5407",
   "metadata": {},
   "source": [
    "#### Checking shape of the dataset"
   ]
  },
  {
   "cell_type": "code",
   "execution_count": 368,
   "id": "d7c921aa",
   "metadata": {},
   "outputs": [
    {
     "data": {
      "text/html": [
       "<div>\n",
       "<style scoped>\n",
       "    .dataframe tbody tr th:only-of-type {\n",
       "        vertical-align: middle;\n",
       "    }\n",
       "\n",
       "    .dataframe tbody tr th {\n",
       "        vertical-align: top;\n",
       "    }\n",
       "\n",
       "    .dataframe thead th {\n",
       "        text-align: right;\n",
       "    }\n",
       "</style>\n",
       "<table border=\"1\" class=\"dataframe\">\n",
       "  <thead>\n",
       "    <tr style=\"text-align: right;\">\n",
       "      <th></th>\n",
       "      <th>shape of dataset</th>\n",
       "    </tr>\n",
       "  </thead>\n",
       "  <tbody>\n",
       "    <tr>\n",
       "      <th>Number of rows</th>\n",
       "      <td>1339</td>\n",
       "    </tr>\n",
       "    <tr>\n",
       "      <th>Number of columns</th>\n",
       "      <td>3</td>\n",
       "    </tr>\n",
       "  </tbody>\n",
       "</table>\n",
       "</div>"
      ],
      "text/plain": [
       "                   shape of dataset\n",
       "Number of rows                 1339\n",
       "Number of columns                 3"
      ]
     },
     "execution_count": 368,
     "metadata": {},
     "output_type": "execute_result"
    }
   ],
   "source": [
    "rows = ['Number of rows', 'Number of columns']\n",
    "pd.DataFrame(seats.shape, columns = ['shape of dataset'], index=rows)"
   ]
  },
  {
   "cell_type": "markdown",
   "id": "bd7f6039",
   "metadata": {},
   "source": [
    "#### Checking Datatype of Attributes in a dataset"
   ]
  },
  {
   "cell_type": "code",
   "execution_count": 369,
   "id": "cb08ec56",
   "metadata": {},
   "outputs": [
    {
     "name": "stdout",
     "output_type": "stream",
     "text": [
      "<class 'pandas.core.frame.DataFrame'>\n",
      "RangeIndex: 1339 entries, 0 to 1338\n",
      "Data columns (total 3 columns):\n",
      " #   Column           Non-Null Count  Dtype \n",
      "---  ------           --------------  ----- \n",
      " 0   aircraft_code    1339 non-null   object\n",
      " 1   seat_no          1339 non-null   object\n",
      " 2   fare_conditions  1339 non-null   object\n",
      "dtypes: object(3)\n",
      "memory usage: 31.5+ KB\n"
     ]
    }
   ],
   "source": [
    "seats.info()"
   ]
  },
  {
   "cell_type": "markdown",
   "id": "0fc488fa",
   "metadata": {},
   "source": [
    "#### Checking Descriptive statistics of the dataset"
   ]
  },
  {
   "cell_type": "code",
   "execution_count": 370,
   "id": "2c3605e7",
   "metadata": {},
   "outputs": [
    {
     "data": {
      "text/html": [
       "<div>\n",
       "<style scoped>\n",
       "    .dataframe tbody tr th:only-of-type {\n",
       "        vertical-align: middle;\n",
       "    }\n",
       "\n",
       "    .dataframe tbody tr th {\n",
       "        vertical-align: top;\n",
       "    }\n",
       "\n",
       "    .dataframe thead th {\n",
       "        text-align: right;\n",
       "    }\n",
       "</style>\n",
       "<table border=\"1\" class=\"dataframe\">\n",
       "  <thead>\n",
       "    <tr style=\"text-align: right;\">\n",
       "      <th></th>\n",
       "      <th>aircraft_code</th>\n",
       "      <th>seat_no</th>\n",
       "      <th>fare_conditions</th>\n",
       "    </tr>\n",
       "  </thead>\n",
       "  <tbody>\n",
       "    <tr>\n",
       "      <th>count</th>\n",
       "      <td>1339</td>\n",
       "      <td>1339</td>\n",
       "      <td>1339</td>\n",
       "    </tr>\n",
       "    <tr>\n",
       "      <th>unique</th>\n",
       "      <td>9</td>\n",
       "      <td>461</td>\n",
       "      <td>3</td>\n",
       "    </tr>\n",
       "    <tr>\n",
       "      <th>top</th>\n",
       "      <td>773</td>\n",
       "      <td>2A</td>\n",
       "      <td>Economy</td>\n",
       "    </tr>\n",
       "    <tr>\n",
       "      <th>freq</th>\n",
       "      <td>402</td>\n",
       "      <td>9</td>\n",
       "      <td>1139</td>\n",
       "    </tr>\n",
       "  </tbody>\n",
       "</table>\n",
       "</div>"
      ],
      "text/plain": [
       "       aircraft_code seat_no fare_conditions\n",
       "count           1339    1339            1339\n",
       "unique             9     461               3\n",
       "top              773      2A         Economy\n",
       "freq             402       9            1139"
      ]
     },
     "execution_count": 370,
     "metadata": {},
     "output_type": "execute_result"
    }
   ],
   "source": [
    "seats.describe()"
   ]
  },
  {
   "cell_type": "markdown",
   "id": "4c8ec180",
   "metadata": {},
   "source": [
    "#### Checking for Missing values in a dataset"
   ]
  },
  {
   "cell_type": "code",
   "execution_count": 371,
   "id": "a62a68a4",
   "metadata": {},
   "outputs": [
    {
     "data": {
      "text/html": [
       "<div>\n",
       "<style scoped>\n",
       "    .dataframe tbody tr th:only-of-type {\n",
       "        vertical-align: middle;\n",
       "    }\n",
       "\n",
       "    .dataframe tbody tr th {\n",
       "        vertical-align: top;\n",
       "    }\n",
       "\n",
       "    .dataframe thead th {\n",
       "        text-align: right;\n",
       "    }\n",
       "</style>\n",
       "<table border=\"1\" class=\"dataframe\">\n",
       "  <thead>\n",
       "    <tr style=\"text-align: right;\">\n",
       "      <th></th>\n",
       "      <th>Null values</th>\n",
       "    </tr>\n",
       "  </thead>\n",
       "  <tbody>\n",
       "    <tr>\n",
       "      <th>aircraft_code</th>\n",
       "      <td>0</td>\n",
       "    </tr>\n",
       "    <tr>\n",
       "      <th>seat_no</th>\n",
       "      <td>0</td>\n",
       "    </tr>\n",
       "    <tr>\n",
       "      <th>fare_conditions</th>\n",
       "      <td>0</td>\n",
       "    </tr>\n",
       "  </tbody>\n",
       "</table>\n",
       "</div>"
      ],
      "text/plain": [
       "                 Null values\n",
       "aircraft_code              0\n",
       "seat_no                    0\n",
       "fare_conditions            0"
      ]
     },
     "execution_count": 371,
     "metadata": {},
     "output_type": "execute_result"
    }
   ],
   "source": [
    "pd.DataFrame(seats.isnull().sum(), columns = ['Null values'])"
   ]
  },
  {
   "cell_type": "code",
   "execution_count": 672,
   "id": "7d551912",
   "metadata": {},
   "outputs": [
    {
     "data": {
      "image/png": "[encoded data removed]",
      "text/plain": [
       "<Figure size 600x300 with 1 Axes>"
      ]
     },
     "metadata": {},
     "output_type": "display_data"
    }
   ],
   "source": [
    "plt.figure(figsize = (6,3))\n",
    "sns.countplot(data=seats, x = 'fare_conditions', order = seats['fare_conditions'].value_counts().index,\n",
    "             edgecolor='black', linewidth=1)\n",
    "plt.title('Value count for fare conditions');"
   ]
  },
  {
   "cell_type": "code",
   "execution_count": 424,
   "id": "64b95b70",
   "metadata": {},
   "outputs": [
    {
     "data": {
      "image/png": "[encoded data removed]",
      "text/plain": [
       "<Figure size 640x480 with 1 Axes>"
      ]
     },
     "metadata": {},
     "output_type": "display_data"
    }
   ],
   "source": [
    "sns.countplot(data=seats, x = 'aircraft_code', hue = 'fare_conditions', order = seats['aircraft_code'].value_counts().index,\n",
    "             edgecolor='black', linewidth=1)\n",
    "plt.title('Seating capacity across different Aircrafts');"
   ]
  },
  {
   "cell_type": "markdown",
   "id": "069caa00",
   "metadata": {},
   "source": [
    "#### Checking Seating Capacity across different Aircraft codes"
   ]
  },
  {
   "cell_type": "code",
   "execution_count": 420,
   "id": "5eebf3a5",
   "metadata": {},
   "outputs": [
    {
     "data": {
      "text/html": [
       "<div>\n",
       "<style scoped>\n",
       "    .dataframe tbody tr th:only-of-type {\n",
       "        vertical-align: middle;\n",
       "    }\n",
       "\n",
       "    .dataframe tbody tr th {\n",
       "        vertical-align: top;\n",
       "    }\n",
       "\n",
       "    .dataframe thead th {\n",
       "        text-align: right;\n",
       "    }\n",
       "</style>\n",
       "<table border=\"1\" class=\"dataframe\">\n",
       "  <thead>\n",
       "    <tr style=\"text-align: right;\">\n",
       "      <th>fare_conditions</th>\n",
       "      <th>Business</th>\n",
       "      <th>Comfort</th>\n",
       "      <th>Economy</th>\n",
       "      <th>All</th>\n",
       "    </tr>\n",
       "    <tr>\n",
       "      <th>aircraft_code</th>\n",
       "      <th></th>\n",
       "      <th></th>\n",
       "      <th></th>\n",
       "      <th></th>\n",
       "    </tr>\n",
       "  </thead>\n",
       "  <tbody>\n",
       "    <tr>\n",
       "      <th>319</th>\n",
       "      <td>20</td>\n",
       "      <td>0</td>\n",
       "      <td>96</td>\n",
       "      <td>116</td>\n",
       "    </tr>\n",
       "    <tr>\n",
       "      <th>320</th>\n",
       "      <td>20</td>\n",
       "      <td>0</td>\n",
       "      <td>120</td>\n",
       "      <td>140</td>\n",
       "    </tr>\n",
       "    <tr>\n",
       "      <th>321</th>\n",
       "      <td>28</td>\n",
       "      <td>0</td>\n",
       "      <td>142</td>\n",
       "      <td>170</td>\n",
       "    </tr>\n",
       "    <tr>\n",
       "      <th>733</th>\n",
       "      <td>12</td>\n",
       "      <td>0</td>\n",
       "      <td>118</td>\n",
       "      <td>130</td>\n",
       "    </tr>\n",
       "    <tr>\n",
       "      <th>763</th>\n",
       "      <td>30</td>\n",
       "      <td>0</td>\n",
       "      <td>192</td>\n",
       "      <td>222</td>\n",
       "    </tr>\n",
       "    <tr>\n",
       "      <th>773</th>\n",
       "      <td>30</td>\n",
       "      <td>48</td>\n",
       "      <td>324</td>\n",
       "      <td>402</td>\n",
       "    </tr>\n",
       "    <tr>\n",
       "      <th>CN1</th>\n",
       "      <td>0</td>\n",
       "      <td>0</td>\n",
       "      <td>12</td>\n",
       "      <td>12</td>\n",
       "    </tr>\n",
       "    <tr>\n",
       "      <th>CR2</th>\n",
       "      <td>0</td>\n",
       "      <td>0</td>\n",
       "      <td>50</td>\n",
       "      <td>50</td>\n",
       "    </tr>\n",
       "    <tr>\n",
       "      <th>SU9</th>\n",
       "      <td>12</td>\n",
       "      <td>0</td>\n",
       "      <td>85</td>\n",
       "      <td>97</td>\n",
       "    </tr>\n",
       "    <tr>\n",
       "      <th>All</th>\n",
       "      <td>152</td>\n",
       "      <td>48</td>\n",
       "      <td>1139</td>\n",
       "      <td>1339</td>\n",
       "    </tr>\n",
       "  </tbody>\n",
       "</table>\n",
       "</div>"
      ],
      "text/plain": [
       "fare_conditions  Business  Comfort  Economy   All\n",
       "aircraft_code                                    \n",
       "319                    20        0       96   116\n",
       "320                    20        0      120   140\n",
       "321                    28        0      142   170\n",
       "733                    12        0      118   130\n",
       "763                    30        0      192   222\n",
       "773                    30       48      324   402\n",
       "CN1                     0        0       12    12\n",
       "CR2                     0        0       50    50\n",
       "SU9                    12        0       85    97\n",
       "All                   152       48     1139  1339"
      ]
     },
     "execution_count": 420,
     "metadata": {},
     "output_type": "execute_result"
    }
   ],
   "source": [
    "pd.crosstab(seats['aircraft_code'], seats['fare_conditions'], margins=True)"
   ]
  },
  {
   "cell_type": "markdown",
   "id": "73099a87",
   "metadata": {},
   "source": [
    "### Analysing Bookings"
   ]
  },
  {
   "cell_type": "code",
   "execution_count": 555,
   "id": "2f8b8436",
   "metadata": {},
   "outputs": [],
   "source": [
    "bookings = pd.read_sql_query('select * from bookings', connection)"
   ]
  },
  {
   "cell_type": "markdown",
   "id": "eebc9384",
   "metadata": {},
   "source": [
    "#### Checking first and last five rows of the dataset"
   ]
  },
  {
   "cell_type": "code",
   "execution_count": 556,
   "id": "6a3ffba1",
   "metadata": {},
   "outputs": [
    {
     "data": {
      "text/html": [
       "<div>\n",
       "<style scoped>\n",
       "    .dataframe tbody tr th:only-of-type {\n",
       "        vertical-align: middle;\n",
       "    }\n",
       "\n",
       "    .dataframe tbody tr th {\n",
       "        vertical-align: top;\n",
       "    }\n",
       "\n",
       "    .dataframe thead th {\n",
       "        text-align: right;\n",
       "    }\n",
       "</style>\n",
       "<table border=\"1\" class=\"dataframe\">\n",
       "  <thead>\n",
       "    <tr style=\"text-align: right;\">\n",
       "      <th></th>\n",
       "      <th>book_ref</th>\n",
       "      <th>book_date</th>\n",
       "      <th>total_amount</th>\n",
       "    </tr>\n",
       "  </thead>\n",
       "  <tbody>\n",
       "    <tr>\n",
       "      <th>0</th>\n",
       "      <td>00000F</td>\n",
       "      <td>2017-07-05 03:12:00+03</td>\n",
       "      <td>265700</td>\n",
       "    </tr>\n",
       "    <tr>\n",
       "      <th>1</th>\n",
       "      <td>000012</td>\n",
       "      <td>2017-07-14 09:02:00+03</td>\n",
       "      <td>37900</td>\n",
       "    </tr>\n",
       "    <tr>\n",
       "      <th>2</th>\n",
       "      <td>000068</td>\n",
       "      <td>2017-08-15 14:27:00+03</td>\n",
       "      <td>18100</td>\n",
       "    </tr>\n",
       "    <tr>\n",
       "      <th>3</th>\n",
       "      <td>000181</td>\n",
       "      <td>2017-08-10 13:28:00+03</td>\n",
       "      <td>131800</td>\n",
       "    </tr>\n",
       "    <tr>\n",
       "      <th>4</th>\n",
       "      <td>0002D8</td>\n",
       "      <td>2017-08-07 21:40:00+03</td>\n",
       "      <td>23600</td>\n",
       "    </tr>\n",
       "    <tr>\n",
       "      <th>...</th>\n",
       "      <td>...</td>\n",
       "      <td>...</td>\n",
       "      <td>...</td>\n",
       "    </tr>\n",
       "    <tr>\n",
       "      <th>262783</th>\n",
       "      <td>FFFEF3</td>\n",
       "      <td>2017-07-17 07:23:00+03</td>\n",
       "      <td>56000</td>\n",
       "    </tr>\n",
       "    <tr>\n",
       "      <th>262784</th>\n",
       "      <td>FFFF2C</td>\n",
       "      <td>2017-08-08 05:55:00+03</td>\n",
       "      <td>10800</td>\n",
       "    </tr>\n",
       "    <tr>\n",
       "      <th>262785</th>\n",
       "      <td>FFFF43</td>\n",
       "      <td>2017-07-20 20:42:00+03</td>\n",
       "      <td>78500</td>\n",
       "    </tr>\n",
       "    <tr>\n",
       "      <th>262786</th>\n",
       "      <td>FFFFA8</td>\n",
       "      <td>2017-08-08 04:45:00+03</td>\n",
       "      <td>28800</td>\n",
       "    </tr>\n",
       "    <tr>\n",
       "      <th>262787</th>\n",
       "      <td>FFFFF7</td>\n",
       "      <td>2017-07-01 22:12:00+03</td>\n",
       "      <td>73600</td>\n",
       "    </tr>\n",
       "  </tbody>\n",
       "</table>\n",
       "<p>262788 rows × 3 columns</p>\n",
       "</div>"
      ],
      "text/plain": [
       "       book_ref               book_date  total_amount\n",
       "0        00000F  2017-07-05 03:12:00+03        265700\n",
       "1        000012  2017-07-14 09:02:00+03         37900\n",
       "2        000068  2017-08-15 14:27:00+03         18100\n",
       "3        000181  2017-08-10 13:28:00+03        131800\n",
       "4        0002D8  2017-08-07 21:40:00+03         23600\n",
       "...         ...                     ...           ...\n",
       "262783   FFFEF3  2017-07-17 07:23:00+03         56000\n",
       "262784   FFFF2C  2017-08-08 05:55:00+03         10800\n",
       "262785   FFFF43  2017-07-20 20:42:00+03         78500\n",
       "262786   FFFFA8  2017-08-08 04:45:00+03         28800\n",
       "262787   FFFFF7  2017-07-01 22:12:00+03         73600\n",
       "\n",
       "[262788 rows x 3 columns]"
      ]
     },
     "execution_count": 556,
     "metadata": {},
     "output_type": "execute_result"
    }
   ],
   "source": [
    "bookings"
   ]
  },
  {
   "cell_type": "markdown",
   "id": "51e9d1d2",
   "metadata": {},
   "source": [
    "#### Checking shape of the dataset"
   ]
  },
  {
   "cell_type": "code",
   "execution_count": 557,
   "id": "99bcbae0",
   "metadata": {},
   "outputs": [
    {
     "data": {
      "text/html": [
       "<div>\n",
       "<style scoped>\n",
       "    .dataframe tbody tr th:only-of-type {\n",
       "        vertical-align: middle;\n",
       "    }\n",
       "\n",
       "    .dataframe tbody tr th {\n",
       "        vertical-align: top;\n",
       "    }\n",
       "\n",
       "    .dataframe thead th {\n",
       "        text-align: right;\n",
       "    }\n",
       "</style>\n",
       "<table border=\"1\" class=\"dataframe\">\n",
       "  <thead>\n",
       "    <tr style=\"text-align: right;\">\n",
       "      <th></th>\n",
       "      <th>shape of the dataset</th>\n",
       "    </tr>\n",
       "  </thead>\n",
       "  <tbody>\n",
       "    <tr>\n",
       "      <th>Number of rows</th>\n",
       "      <td>262788</td>\n",
       "    </tr>\n",
       "    <tr>\n",
       "      <th>Number of columns</th>\n",
       "      <td>3</td>\n",
       "    </tr>\n",
       "  </tbody>\n",
       "</table>\n",
       "</div>"
      ],
      "text/plain": [
       "                   shape of the dataset\n",
       "Number of rows                   262788\n",
       "Number of columns                     3"
      ]
     },
     "execution_count": 557,
     "metadata": {},
     "output_type": "execute_result"
    }
   ],
   "source": [
    "rows = ['Number of rows', 'Number of columns']\n",
    "pd.DataFrame(bookings.shape, columns = ['shape of the dataset'], index=rows)"
   ]
  },
  {
   "cell_type": "markdown",
   "id": "10d7a7ed",
   "metadata": {},
   "source": [
    "#### Checking datatypes of Attributes in a dataset"
   ]
  },
  {
   "cell_type": "code",
   "execution_count": 558,
   "id": "9ed3c814",
   "metadata": {},
   "outputs": [
    {
     "name": "stdout",
     "output_type": "stream",
     "text": [
      "<class 'pandas.core.frame.DataFrame'>\n",
      "RangeIndex: 262788 entries, 0 to 262787\n",
      "Data columns (total 3 columns):\n",
      " #   Column        Non-Null Count   Dtype \n",
      "---  ------        --------------   ----- \n",
      " 0   book_ref      262788 non-null  object\n",
      " 1   book_date     262788 non-null  object\n",
      " 2   total_amount  262788 non-null  int64 \n",
      "dtypes: int64(1), object(2)\n",
      "memory usage: 6.0+ MB\n"
     ]
    }
   ],
   "source": [
    "bookings.info()"
   ]
  },
  {
   "cell_type": "code",
   "execution_count": 559,
   "id": "d7665658",
   "metadata": {},
   "outputs": [],
   "source": [
    "bookings['book_date'] = pd.to_datetime(bookings['book_date'], dayfirst=True)"
   ]
  },
  {
   "cell_type": "code",
   "execution_count": 560,
   "id": "a37ff636",
   "metadata": {},
   "outputs": [
    {
     "data": {
      "text/plain": [
       "book_ref                                       object\n",
       "book_date       datetime64[ns, pytz.FixedOffset(180)]\n",
       "total_amount                                    int64\n",
       "dtype: object"
      ]
     },
     "execution_count": 560,
     "metadata": {},
     "output_type": "execute_result"
    }
   ],
   "source": [
    "bookings.dtypes"
   ]
  },
  {
   "cell_type": "markdown",
   "id": "bf26a9eb",
   "metadata": {},
   "source": [
    "#### Checking Descriptive statistics of the dataset"
   ]
  },
  {
   "cell_type": "code",
   "execution_count": 561,
   "id": "fb487a62",
   "metadata": {},
   "outputs": [
    {
     "data": {
      "text/html": [
       "<div>\n",
       "<style scoped>\n",
       "    .dataframe tbody tr th:only-of-type {\n",
       "        vertical-align: middle;\n",
       "    }\n",
       "\n",
       "    .dataframe tbody tr th {\n",
       "        vertical-align: top;\n",
       "    }\n",
       "\n",
       "    .dataframe thead th {\n",
       "        text-align: right;\n",
       "    }\n",
       "</style>\n",
       "<table border=\"1\" class=\"dataframe\">\n",
       "  <thead>\n",
       "    <tr style=\"text-align: right;\">\n",
       "      <th></th>\n",
       "      <th>total_amount</th>\n",
       "    </tr>\n",
       "  </thead>\n",
       "  <tbody>\n",
       "    <tr>\n",
       "      <th>count</th>\n",
       "      <td>2.627880e+05</td>\n",
       "    </tr>\n",
       "    <tr>\n",
       "      <th>mean</th>\n",
       "      <td>7.902561e+04</td>\n",
       "    </tr>\n",
       "    <tr>\n",
       "      <th>std</th>\n",
       "      <td>7.762192e+04</td>\n",
       "    </tr>\n",
       "    <tr>\n",
       "      <th>min</th>\n",
       "      <td>3.400000e+03</td>\n",
       "    </tr>\n",
       "    <tr>\n",
       "      <th>25%</th>\n",
       "      <td>2.900000e+04</td>\n",
       "    </tr>\n",
       "    <tr>\n",
       "      <th>50%</th>\n",
       "      <td>5.590000e+04</td>\n",
       "    </tr>\n",
       "    <tr>\n",
       "      <th>75%</th>\n",
       "      <td>9.920000e+04</td>\n",
       "    </tr>\n",
       "    <tr>\n",
       "      <th>max</th>\n",
       "      <td>1.204500e+06</td>\n",
       "    </tr>\n",
       "  </tbody>\n",
       "</table>\n",
       "</div>"
      ],
      "text/plain": [
       "       total_amount\n",
       "count  2.627880e+05\n",
       "mean   7.902561e+04\n",
       "std    7.762192e+04\n",
       "min    3.400000e+03\n",
       "25%    2.900000e+04\n",
       "50%    5.590000e+04\n",
       "75%    9.920000e+04\n",
       "max    1.204500e+06"
      ]
     },
     "execution_count": 561,
     "metadata": {},
     "output_type": "execute_result"
    }
   ],
   "source": [
    "bookings.describe()"
   ]
  },
  {
   "cell_type": "markdown",
   "id": "9fa19126",
   "metadata": {},
   "source": [
    "#### Checking for Missing values in a dataset"
   ]
  },
  {
   "cell_type": "code",
   "execution_count": 562,
   "id": "5dbc40ac",
   "metadata": {},
   "outputs": [
    {
     "data": {
      "text/html": [
       "<div>\n",
       "<style scoped>\n",
       "    .dataframe tbody tr th:only-of-type {\n",
       "        vertical-align: middle;\n",
       "    }\n",
       "\n",
       "    .dataframe tbody tr th {\n",
       "        vertical-align: top;\n",
       "    }\n",
       "\n",
       "    .dataframe thead th {\n",
       "        text-align: right;\n",
       "    }\n",
       "</style>\n",
       "<table border=\"1\" class=\"dataframe\">\n",
       "  <thead>\n",
       "    <tr style=\"text-align: right;\">\n",
       "      <th></th>\n",
       "      <th>Null values</th>\n",
       "    </tr>\n",
       "  </thead>\n",
       "  <tbody>\n",
       "    <tr>\n",
       "      <th>book_ref</th>\n",
       "      <td>0</td>\n",
       "    </tr>\n",
       "    <tr>\n",
       "      <th>book_date</th>\n",
       "      <td>0</td>\n",
       "    </tr>\n",
       "    <tr>\n",
       "      <th>total_amount</th>\n",
       "      <td>0</td>\n",
       "    </tr>\n",
       "  </tbody>\n",
       "</table>\n",
       "</div>"
      ],
      "text/plain": [
       "              Null values\n",
       "book_ref                0\n",
       "book_date               0\n",
       "total_amount            0"
      ]
     },
     "execution_count": 562,
     "metadata": {},
     "output_type": "execute_result"
    }
   ],
   "source": [
    "pd.DataFrame(bookings.isnull().sum(), columns = ['Null values'])"
   ]
  },
  {
   "cell_type": "markdown",
   "id": "09f60888",
   "metadata": {},
   "source": [
    "#### Creating new column for month and date"
   ]
  },
  {
   "cell_type": "code",
   "execution_count": 563,
   "id": "14dc053a",
   "metadata": {},
   "outputs": [],
   "source": [
    "bookings['month'] = bookings['book_date'].dt.month"
   ]
  },
  {
   "cell_type": "code",
   "execution_count": 564,
   "id": "7683734e",
   "metadata": {},
   "outputs": [],
   "source": [
    "bookings['date'] = bookings['book_date'].dt.date"
   ]
  },
  {
   "cell_type": "code",
   "execution_count": 565,
   "id": "049c2814",
   "metadata": {},
   "outputs": [],
   "source": [
    "bookings['date'] = pd.to_datetime(bookings['date'], dayfirst=True)"
   ]
  },
  {
   "cell_type": "code",
   "execution_count": 566,
   "id": "f3383d28",
   "metadata": {},
   "outputs": [
    {
     "data": {
      "text/plain": [
       "book_ref                                       object\n",
       "book_date       datetime64[ns, pytz.FixedOffset(180)]\n",
       "total_amount                                    int64\n",
       "month                                           int64\n",
       "date                                   datetime64[ns]\n",
       "dtype: object"
      ]
     },
     "execution_count": 566,
     "metadata": {},
     "output_type": "execute_result"
    }
   ],
   "source": [
    "bookings.dtypes"
   ]
  },
  {
   "cell_type": "code",
   "execution_count": 567,
   "id": "3ecdf0e2",
   "metadata": {},
   "outputs": [
    {
     "data": {
      "text/html": [
       "<div>\n",
       "<style scoped>\n",
       "    .dataframe tbody tr th:only-of-type {\n",
       "        vertical-align: middle;\n",
       "    }\n",
       "\n",
       "    .dataframe tbody tr th {\n",
       "        vertical-align: top;\n",
       "    }\n",
       "\n",
       "    .dataframe thead th {\n",
       "        text-align: right;\n",
       "    }\n",
       "</style>\n",
       "<table border=\"1\" class=\"dataframe\">\n",
       "  <thead>\n",
       "    <tr style=\"text-align: right;\">\n",
       "      <th></th>\n",
       "      <th>book_ref</th>\n",
       "      <th>book_date</th>\n",
       "      <th>total_amount</th>\n",
       "      <th>month</th>\n",
       "      <th>date</th>\n",
       "    </tr>\n",
       "  </thead>\n",
       "  <tbody>\n",
       "    <tr>\n",
       "      <th>0</th>\n",
       "      <td>00000F</td>\n",
       "      <td>2017-07-05 03:12:00+03:00</td>\n",
       "      <td>265700</td>\n",
       "      <td>7</td>\n",
       "      <td>2017-07-05</td>\n",
       "    </tr>\n",
       "    <tr>\n",
       "      <th>1</th>\n",
       "      <td>000012</td>\n",
       "      <td>2017-07-14 09:02:00+03:00</td>\n",
       "      <td>37900</td>\n",
       "      <td>7</td>\n",
       "      <td>2017-07-14</td>\n",
       "    </tr>\n",
       "    <tr>\n",
       "      <th>2</th>\n",
       "      <td>000068</td>\n",
       "      <td>2017-08-15 14:27:00+03:00</td>\n",
       "      <td>18100</td>\n",
       "      <td>8</td>\n",
       "      <td>2017-08-15</td>\n",
       "    </tr>\n",
       "    <tr>\n",
       "      <th>3</th>\n",
       "      <td>000181</td>\n",
       "      <td>2017-08-10 13:28:00+03:00</td>\n",
       "      <td>131800</td>\n",
       "      <td>8</td>\n",
       "      <td>2017-08-10</td>\n",
       "    </tr>\n",
       "    <tr>\n",
       "      <th>4</th>\n",
       "      <td>0002D8</td>\n",
       "      <td>2017-08-07 21:40:00+03:00</td>\n",
       "      <td>23600</td>\n",
       "      <td>8</td>\n",
       "      <td>2017-08-07</td>\n",
       "    </tr>\n",
       "    <tr>\n",
       "      <th>...</th>\n",
       "      <td>...</td>\n",
       "      <td>...</td>\n",
       "      <td>...</td>\n",
       "      <td>...</td>\n",
       "      <td>...</td>\n",
       "    </tr>\n",
       "    <tr>\n",
       "      <th>262783</th>\n",
       "      <td>FFFEF3</td>\n",
       "      <td>2017-07-17 07:23:00+03:00</td>\n",
       "      <td>56000</td>\n",
       "      <td>7</td>\n",
       "      <td>2017-07-17</td>\n",
       "    </tr>\n",
       "    <tr>\n",
       "      <th>262784</th>\n",
       "      <td>FFFF2C</td>\n",
       "      <td>2017-08-08 05:55:00+03:00</td>\n",
       "      <td>10800</td>\n",
       "      <td>8</td>\n",
       "      <td>2017-08-08</td>\n",
       "    </tr>\n",
       "    <tr>\n",
       "      <th>262785</th>\n",
       "      <td>FFFF43</td>\n",
       "      <td>2017-07-20 20:42:00+03:00</td>\n",
       "      <td>78500</td>\n",
       "      <td>7</td>\n",
       "      <td>2017-07-20</td>\n",
       "    </tr>\n",
       "    <tr>\n",
       "      <th>262786</th>\n",
       "      <td>FFFFA8</td>\n",
       "      <td>2017-08-08 04:45:00+03:00</td>\n",
       "      <td>28800</td>\n",
       "      <td>8</td>\n",
       "      <td>2017-08-08</td>\n",
       "    </tr>\n",
       "    <tr>\n",
       "      <th>262787</th>\n",
       "      <td>FFFFF7</td>\n",
       "      <td>2017-07-01 22:12:00+03:00</td>\n",
       "      <td>73600</td>\n",
       "      <td>7</td>\n",
       "      <td>2017-07-01</td>\n",
       "    </tr>\n",
       "  </tbody>\n",
       "</table>\n",
       "<p>262788 rows × 5 columns</p>\n",
       "</div>"
      ],
      "text/plain": [
       "       book_ref                 book_date  total_amount  month       date\n",
       "0        00000F 2017-07-05 03:12:00+03:00        265700      7 2017-07-05\n",
       "1        000012 2017-07-14 09:02:00+03:00         37900      7 2017-07-14\n",
       "2        000068 2017-08-15 14:27:00+03:00         18100      8 2017-08-15\n",
       "3        000181 2017-08-10 13:28:00+03:00        131800      8 2017-08-10\n",
       "4        0002D8 2017-08-07 21:40:00+03:00         23600      8 2017-08-07\n",
       "...         ...                       ...           ...    ...        ...\n",
       "262783   FFFEF3 2017-07-17 07:23:00+03:00         56000      7 2017-07-17\n",
       "262784   FFFF2C 2017-08-08 05:55:00+03:00         10800      8 2017-08-08\n",
       "262785   FFFF43 2017-07-20 20:42:00+03:00         78500      7 2017-07-20\n",
       "262786   FFFFA8 2017-08-08 04:45:00+03:00         28800      8 2017-08-08\n",
       "262787   FFFFF7 2017-07-01 22:12:00+03:00         73600      7 2017-07-01\n",
       "\n",
       "[262788 rows x 5 columns]"
      ]
     },
     "execution_count": 567,
     "metadata": {},
     "output_type": "execute_result"
    }
   ],
   "source": [
    "bookings"
   ]
  },
  {
   "cell_type": "markdown",
   "id": "b214b671",
   "metadata": {},
   "source": [
    "#### Plotting graph and table showing total amount earned with respect to month"
   ]
  },
  {
   "cell_type": "code",
   "execution_count": 568,
   "id": "6f3bc7aa",
   "metadata": {},
   "outputs": [
    {
     "data": {
      "text/plain": [
       "month\n",
       "6      557361000\n",
       "7    13234251800\n",
       "8     6975368100\n",
       "Name: total_amount, dtype: int64"
      ]
     },
     "execution_count": 568,
     "metadata": {},
     "output_type": "execute_result"
    }
   ],
   "source": [
    "bookings.groupby(['month'])['total_amount'].sum()"
   ]
  },
  {
   "cell_type": "code",
   "execution_count": 569,
   "id": "bc11cdd5",
   "metadata": {},
   "outputs": [
    {
     "data": {
      "image/png": "[encoded data removed]",
      "text/plain": [
       "<Figure size 1200x300 with 1 Axes>"
      ]
     },
     "metadata": {},
     "output_type": "display_data"
    }
   ],
   "source": [
    "plt.figure(figsize = (12,3))\n",
    "sns.lineplot(data=bookings, x = 'month', y = 'total_amount', ci=False, marker='o')\n",
    "plt.grid();"
   ]
  },
  {
   "cell_type": "markdown",
   "id": "c1913832",
   "metadata": {},
   "source": [
    "- From above table we can say that total amount of ticket booking is higher for the month of July followed by August"
   ]
  },
  {
   "cell_type": "markdown",
   "id": "6269b36b",
   "metadata": {},
   "source": [
    "#### Plotting graph and table showing Total amount earned with time"
   ]
  },
  {
   "cell_type": "code",
   "execution_count": 570,
   "id": "2c1354d2",
   "metadata": {
    "scrolled": true
   },
   "outputs": [
    {
     "data": {
      "text/html": [
       "<div>\n",
       "<style scoped>\n",
       "    .dataframe tbody tr th:only-of-type {\n",
       "        vertical-align: middle;\n",
       "    }\n",
       "\n",
       "    .dataframe tbody tr th {\n",
       "        vertical-align: top;\n",
       "    }\n",
       "\n",
       "    .dataframe thead th {\n",
       "        text-align: right;\n",
       "    }\n",
       "</style>\n",
       "<table border=\"1\" class=\"dataframe\">\n",
       "  <thead>\n",
       "    <tr style=\"text-align: right;\">\n",
       "      <th></th>\n",
       "      <th>total_amount</th>\n",
       "    </tr>\n",
       "    <tr>\n",
       "      <th>date</th>\n",
       "      <th></th>\n",
       "    </tr>\n",
       "  </thead>\n",
       "  <tbody>\n",
       "    <tr>\n",
       "      <th>2017-06-21</th>\n",
       "      <td>441900</td>\n",
       "    </tr>\n",
       "    <tr>\n",
       "      <th>2017-06-22</th>\n",
       "      <td>775300</td>\n",
       "    </tr>\n",
       "    <tr>\n",
       "      <th>2017-06-23</th>\n",
       "      <td>1822000</td>\n",
       "    </tr>\n",
       "    <tr>\n",
       "      <th>2017-06-24</th>\n",
       "      <td>5977000</td>\n",
       "    </tr>\n",
       "    <tr>\n",
       "      <th>2017-06-25</th>\n",
       "      <td>15305400</td>\n",
       "    </tr>\n",
       "    <tr>\n",
       "      <th>2017-06-26</th>\n",
       "      <td>29049100</td>\n",
       "    </tr>\n",
       "    <tr>\n",
       "      <th>2017-06-27</th>\n",
       "      <td>54339900</td>\n",
       "    </tr>\n",
       "    <tr>\n",
       "      <th>2017-06-28</th>\n",
       "      <td>91256400</td>\n",
       "    </tr>\n",
       "    <tr>\n",
       "      <th>2017-06-29</th>\n",
       "      <td>152484000</td>\n",
       "    </tr>\n",
       "    <tr>\n",
       "      <th>2017-06-30</th>\n",
       "      <td>205910000</td>\n",
       "    </tr>\n",
       "    <tr>\n",
       "      <th>2017-07-01</th>\n",
       "      <td>281864700</td>\n",
       "    </tr>\n",
       "    <tr>\n",
       "      <th>2017-07-02</th>\n",
       "      <td>332231100</td>\n",
       "    </tr>\n",
       "    <tr>\n",
       "      <th>2017-07-03</th>\n",
       "      <td>384108400</td>\n",
       "    </tr>\n",
       "    <tr>\n",
       "      <th>2017-07-04</th>\n",
       "      <td>409175900</td>\n",
       "    </tr>\n",
       "    <tr>\n",
       "      <th>2017-07-05</th>\n",
       "      <td>424680000</td>\n",
       "    </tr>\n",
       "    <tr>\n",
       "      <th>2017-07-06</th>\n",
       "      <td>434393100</td>\n",
       "    </tr>\n",
       "    <tr>\n",
       "      <th>2017-07-07</th>\n",
       "      <td>443575300</td>\n",
       "    </tr>\n",
       "    <tr>\n",
       "      <th>2017-07-08</th>\n",
       "      <td>430814500</td>\n",
       "    </tr>\n",
       "    <tr>\n",
       "      <th>2017-07-09</th>\n",
       "      <td>444432000</td>\n",
       "    </tr>\n",
       "    <tr>\n",
       "      <th>2017-07-10</th>\n",
       "      <td>441434900</td>\n",
       "    </tr>\n",
       "    <tr>\n",
       "      <th>2017-07-11</th>\n",
       "      <td>437876000</td>\n",
       "    </tr>\n",
       "    <tr>\n",
       "      <th>2017-07-12</th>\n",
       "      <td>426721800</td>\n",
       "    </tr>\n",
       "    <tr>\n",
       "      <th>2017-07-13</th>\n",
       "      <td>432826700</td>\n",
       "    </tr>\n",
       "    <tr>\n",
       "      <th>2017-07-14</th>\n",
       "      <td>460449000</td>\n",
       "    </tr>\n",
       "    <tr>\n",
       "      <th>2017-07-15</th>\n",
       "      <td>441120100</td>\n",
       "    </tr>\n",
       "    <tr>\n",
       "      <th>2017-07-16</th>\n",
       "      <td>448014600</td>\n",
       "    </tr>\n",
       "    <tr>\n",
       "      <th>2017-07-17</th>\n",
       "      <td>430686400</td>\n",
       "    </tr>\n",
       "    <tr>\n",
       "      <th>2017-07-18</th>\n",
       "      <td>440378400</td>\n",
       "    </tr>\n",
       "    <tr>\n",
       "      <th>2017-07-19</th>\n",
       "      <td>448547900</td>\n",
       "    </tr>\n",
       "    <tr>\n",
       "      <th>2017-07-20</th>\n",
       "      <td>445062300</td>\n",
       "    </tr>\n",
       "    <tr>\n",
       "      <th>2017-07-21</th>\n",
       "      <td>437084500</td>\n",
       "    </tr>\n",
       "    <tr>\n",
       "      <th>2017-07-22</th>\n",
       "      <td>427789700</td>\n",
       "    </tr>\n",
       "    <tr>\n",
       "      <th>2017-07-23</th>\n",
       "      <td>433387400</td>\n",
       "    </tr>\n",
       "    <tr>\n",
       "      <th>2017-07-24</th>\n",
       "      <td>433862000</td>\n",
       "    </tr>\n",
       "    <tr>\n",
       "      <th>2017-07-25</th>\n",
       "      <td>455336100</td>\n",
       "    </tr>\n",
       "    <tr>\n",
       "      <th>2017-07-26</th>\n",
       "      <td>434484900</td>\n",
       "    </tr>\n",
       "    <tr>\n",
       "      <th>2017-07-27</th>\n",
       "      <td>427743700</td>\n",
       "    </tr>\n",
       "    <tr>\n",
       "      <th>2017-07-28</th>\n",
       "      <td>446519200</td>\n",
       "    </tr>\n",
       "    <tr>\n",
       "      <th>2017-07-29</th>\n",
       "      <td>423439400</td>\n",
       "    </tr>\n",
       "    <tr>\n",
       "      <th>2017-07-30</th>\n",
       "      <td>436956700</td>\n",
       "    </tr>\n",
       "    <tr>\n",
       "      <th>2017-07-31</th>\n",
       "      <td>439255100</td>\n",
       "    </tr>\n",
       "    <tr>\n",
       "      <th>2017-08-01</th>\n",
       "      <td>447861400</td>\n",
       "    </tr>\n",
       "    <tr>\n",
       "      <th>2017-08-02</th>\n",
       "      <td>442331900</td>\n",
       "    </tr>\n",
       "    <tr>\n",
       "      <th>2017-08-03</th>\n",
       "      <td>428452000</td>\n",
       "    </tr>\n",
       "    <tr>\n",
       "      <th>2017-08-04</th>\n",
       "      <td>451766500</td>\n",
       "    </tr>\n",
       "    <tr>\n",
       "      <th>2017-08-05</th>\n",
       "      <td>450449600</td>\n",
       "    </tr>\n",
       "    <tr>\n",
       "      <th>2017-08-06</th>\n",
       "      <td>456387300</td>\n",
       "    </tr>\n",
       "    <tr>\n",
       "      <th>2017-08-07</th>\n",
       "      <td>452158300</td>\n",
       "    </tr>\n",
       "    <tr>\n",
       "      <th>2017-08-08</th>\n",
       "      <td>467666600</td>\n",
       "    </tr>\n",
       "    <tr>\n",
       "      <th>2017-08-09</th>\n",
       "      <td>479377800</td>\n",
       "    </tr>\n",
       "    <tr>\n",
       "      <th>2017-08-10</th>\n",
       "      <td>485604400</td>\n",
       "    </tr>\n",
       "    <tr>\n",
       "      <th>2017-08-11</th>\n",
       "      <td>490795600</td>\n",
       "    </tr>\n",
       "    <tr>\n",
       "      <th>2017-08-12</th>\n",
       "      <td>492638500</td>\n",
       "    </tr>\n",
       "    <tr>\n",
       "      <th>2017-08-13</th>\n",
       "      <td>509633600</td>\n",
       "    </tr>\n",
       "    <tr>\n",
       "      <th>2017-08-14</th>\n",
       "      <td>524600500</td>\n",
       "    </tr>\n",
       "    <tr>\n",
       "      <th>2017-08-15</th>\n",
       "      <td>395644100</td>\n",
       "    </tr>\n",
       "  </tbody>\n",
       "</table>\n",
       "</div>"
      ],
      "text/plain": [
       "            total_amount\n",
       "date                    \n",
       "2017-06-21        441900\n",
       "2017-06-22        775300\n",
       "2017-06-23       1822000\n",
       "2017-06-24       5977000\n",
       "2017-06-25      15305400\n",
       "2017-06-26      29049100\n",
       "2017-06-27      54339900\n",
       "2017-06-28      91256400\n",
       "2017-06-29     152484000\n",
       "2017-06-30     205910000\n",
       "2017-07-01     281864700\n",
       "2017-07-02     332231100\n",
       "2017-07-03     384108400\n",
       "2017-07-04     409175900\n",
       "2017-07-05     424680000\n",
       "2017-07-06     434393100\n",
       "2017-07-07     443575300\n",
       "2017-07-08     430814500\n",
       "2017-07-09     444432000\n",
       "2017-07-10     441434900\n",
       "2017-07-11     437876000\n",
       "2017-07-12     426721800\n",
       "2017-07-13     432826700\n",
       "2017-07-14     460449000\n",
       "2017-07-15     441120100\n",
       "2017-07-16     448014600\n",
       "2017-07-17     430686400\n",
       "2017-07-18     440378400\n",
       "2017-07-19     448547900\n",
       "2017-07-20     445062300\n",
       "2017-07-21     437084500\n",
       "2017-07-22     427789700\n",
       "2017-07-23     433387400\n",
       "2017-07-24     433862000\n",
       "2017-07-25     455336100\n",
       "2017-07-26     434484900\n",
       "2017-07-27     427743700\n",
       "2017-07-28     446519200\n",
       "2017-07-29     423439400\n",
       "2017-07-30     436956700\n",
       "2017-07-31     439255100\n",
       "2017-08-01     447861400\n",
       "2017-08-02     442331900\n",
       "2017-08-03     428452000\n",
       "2017-08-04     451766500\n",
       "2017-08-05     450449600\n",
       "2017-08-06     456387300\n",
       "2017-08-07     452158300\n",
       "2017-08-08     467666600\n",
       "2017-08-09     479377800\n",
       "2017-08-10     485604400\n",
       "2017-08-11     490795600\n",
       "2017-08-12     492638500\n",
       "2017-08-13     509633600\n",
       "2017-08-14     524600500\n",
       "2017-08-15     395644100"
      ]
     },
     "execution_count": 570,
     "metadata": {},
     "output_type": "execute_result"
    }
   ],
   "source": [
    "x = bookings.groupby(['date'])[['total_amount']].sum()\n",
    "x"
   ]
  },
  {
   "cell_type": "code",
   "execution_count": 571,
   "id": "e6715be9",
   "metadata": {},
   "outputs": [
    {
     "data": {
      "image/png": "[encoded data removed]",
      "text/plain": [
       "<Figure size 1200x300 with 1 Axes>"
      ]
     },
     "metadata": {},
     "output_type": "display_data"
    }
   ],
   "source": [
    "plt.figure(figsize = (12,3))\n",
    "plt.plot(x.index, x['total_amount'], marker = 'o')\n",
    "plt.grid()\n",
    "plt.xlabel('date')\n",
    "plt.ylabel('total amount')\n",
    "plt.title('Total amount earned with time');"
   ]
  },
  {
   "cell_type": "markdown",
   "id": "4da7fd37",
   "metadata": {},
   "source": [
    "### Analysing Tickets"
   ]
  },
  {
   "cell_type": "code",
   "execution_count": 573,
   "id": "d47753d5",
   "metadata": {},
   "outputs": [],
   "source": [
    "tickets = pd.read_sql_query('select * from tickets', connection)"
   ]
  },
  {
   "cell_type": "code",
   "execution_count": 574,
   "id": "78adc7e2",
   "metadata": {},
   "outputs": [
    {
     "data": {
      "text/html": [
       "<div>\n",
       "<style scoped>\n",
       "    .dataframe tbody tr th:only-of-type {\n",
       "        vertical-align: middle;\n",
       "    }\n",
       "\n",
       "    .dataframe tbody tr th {\n",
       "        vertical-align: top;\n",
       "    }\n",
       "\n",
       "    .dataframe thead th {\n",
       "        text-align: right;\n",
       "    }\n",
       "</style>\n",
       "<table border=\"1\" class=\"dataframe\">\n",
       "  <thead>\n",
       "    <tr style=\"text-align: right;\">\n",
       "      <th></th>\n",
       "      <th>ticket_no</th>\n",
       "      <th>book_ref</th>\n",
       "      <th>passenger_id</th>\n",
       "    </tr>\n",
       "  </thead>\n",
       "  <tbody>\n",
       "    <tr>\n",
       "      <th>0</th>\n",
       "      <td>0005432000987</td>\n",
       "      <td>06B046</td>\n",
       "      <td>8149 604011</td>\n",
       "    </tr>\n",
       "    <tr>\n",
       "      <th>1</th>\n",
       "      <td>0005432000988</td>\n",
       "      <td>06B046</td>\n",
       "      <td>8499 420203</td>\n",
       "    </tr>\n",
       "    <tr>\n",
       "      <th>2</th>\n",
       "      <td>0005432000989</td>\n",
       "      <td>E170C3</td>\n",
       "      <td>1011 752484</td>\n",
       "    </tr>\n",
       "    <tr>\n",
       "      <th>3</th>\n",
       "      <td>0005432000990</td>\n",
       "      <td>E170C3</td>\n",
       "      <td>4849 400049</td>\n",
       "    </tr>\n",
       "    <tr>\n",
       "      <th>4</th>\n",
       "      <td>0005432000991</td>\n",
       "      <td>F313DD</td>\n",
       "      <td>6615 976589</td>\n",
       "    </tr>\n",
       "    <tr>\n",
       "      <th>...</th>\n",
       "      <td>...</td>\n",
       "      <td>...</td>\n",
       "      <td>...</td>\n",
       "    </tr>\n",
       "    <tr>\n",
       "      <th>366728</th>\n",
       "      <td>0005435999869</td>\n",
       "      <td>D730BA</td>\n",
       "      <td>0474 690760</td>\n",
       "    </tr>\n",
       "    <tr>\n",
       "      <th>366729</th>\n",
       "      <td>0005435999870</td>\n",
       "      <td>D730BA</td>\n",
       "      <td>6535 751108</td>\n",
       "    </tr>\n",
       "    <tr>\n",
       "      <th>366730</th>\n",
       "      <td>0005435999871</td>\n",
       "      <td>A1AD46</td>\n",
       "      <td>1596 156448</td>\n",
       "    </tr>\n",
       "    <tr>\n",
       "      <th>366731</th>\n",
       "      <td>0005435999872</td>\n",
       "      <td>7B6A53</td>\n",
       "      <td>9374 822707</td>\n",
       "    </tr>\n",
       "    <tr>\n",
       "      <th>366732</th>\n",
       "      <td>0005435999873</td>\n",
       "      <td>7B6A53</td>\n",
       "      <td>7380 075822</td>\n",
       "    </tr>\n",
       "  </tbody>\n",
       "</table>\n",
       "<p>366733 rows × 3 columns</p>\n",
       "</div>"
      ],
      "text/plain": [
       "            ticket_no book_ref passenger_id\n",
       "0       0005432000987   06B046  8149 604011\n",
       "1       0005432000988   06B046  8499 420203\n",
       "2       0005432000989   E170C3  1011 752484\n",
       "3       0005432000990   E170C3  4849 400049\n",
       "4       0005432000991   F313DD  6615 976589\n",
       "...               ...      ...          ...\n",
       "366728  0005435999869   D730BA  0474 690760\n",
       "366729  0005435999870   D730BA  6535 751108\n",
       "366730  0005435999871   A1AD46  1596 156448\n",
       "366731  0005435999872   7B6A53  9374 822707\n",
       "366732  0005435999873   7B6A53  7380 075822\n",
       "\n",
       "[366733 rows x 3 columns]"
      ]
     },
     "execution_count": 574,
     "metadata": {},
     "output_type": "execute_result"
    }
   ],
   "source": [
    "tickets"
   ]
  },
  {
   "cell_type": "markdown",
   "id": "7ad208b0",
   "metadata": {},
   "source": [
    "#### Checking shape of the dataset"
   ]
  },
  {
   "cell_type": "code",
   "execution_count": 575,
   "id": "dfa81e00",
   "metadata": {},
   "outputs": [
    {
     "data": {
      "text/html": [
       "<div>\n",
       "<style scoped>\n",
       "    .dataframe tbody tr th:only-of-type {\n",
       "        vertical-align: middle;\n",
       "    }\n",
       "\n",
       "    .dataframe tbody tr th {\n",
       "        vertical-align: top;\n",
       "    }\n",
       "\n",
       "    .dataframe thead th {\n",
       "        text-align: right;\n",
       "    }\n",
       "</style>\n",
       "<table border=\"1\" class=\"dataframe\">\n",
       "  <thead>\n",
       "    <tr style=\"text-align: right;\">\n",
       "      <th></th>\n",
       "      <th>shape of dataset</th>\n",
       "    </tr>\n",
       "  </thead>\n",
       "  <tbody>\n",
       "    <tr>\n",
       "      <th>Number of rows</th>\n",
       "      <td>366733</td>\n",
       "    </tr>\n",
       "    <tr>\n",
       "      <th>Number of columns</th>\n",
       "      <td>3</td>\n",
       "    </tr>\n",
       "  </tbody>\n",
       "</table>\n",
       "</div>"
      ],
      "text/plain": [
       "                   shape of dataset\n",
       "Number of rows               366733\n",
       "Number of columns                 3"
      ]
     },
     "execution_count": 575,
     "metadata": {},
     "output_type": "execute_result"
    }
   ],
   "source": [
    "rows = ['Number of rows', 'Number of columns']\n",
    "pd.DataFrame(tickets.shape, columns = ['shape of dataset'], index=rows)"
   ]
  },
  {
   "cell_type": "markdown",
   "id": "8d7bfab9",
   "metadata": {},
   "source": [
    "#### Checking datatype of Attributes in a dataset"
   ]
  },
  {
   "cell_type": "code",
   "execution_count": 576,
   "id": "2d834fb1",
   "metadata": {},
   "outputs": [
    {
     "name": "stdout",
     "output_type": "stream",
     "text": [
      "<class 'pandas.core.frame.DataFrame'>\n",
      "RangeIndex: 366733 entries, 0 to 366732\n",
      "Data columns (total 3 columns):\n",
      " #   Column        Non-Null Count   Dtype \n",
      "---  ------        --------------   ----- \n",
      " 0   ticket_no     366733 non-null  object\n",
      " 1   book_ref      366733 non-null  object\n",
      " 2   passenger_id  366733 non-null  object\n",
      "dtypes: object(3)\n",
      "memory usage: 8.4+ MB\n"
     ]
    }
   ],
   "source": [
    "tickets.info()"
   ]
  },
  {
   "cell_type": "markdown",
   "id": "c02e9672",
   "metadata": {},
   "source": [
    "#### Checking for Missing values in a dataset"
   ]
  },
  {
   "cell_type": "code",
   "execution_count": 577,
   "id": "f87317b1",
   "metadata": {},
   "outputs": [
    {
     "data": {
      "text/html": [
       "<div>\n",
       "<style scoped>\n",
       "    .dataframe tbody tr th:only-of-type {\n",
       "        vertical-align: middle;\n",
       "    }\n",
       "\n",
       "    .dataframe tbody tr th {\n",
       "        vertical-align: top;\n",
       "    }\n",
       "\n",
       "    .dataframe thead th {\n",
       "        text-align: right;\n",
       "    }\n",
       "</style>\n",
       "<table border=\"1\" class=\"dataframe\">\n",
       "  <thead>\n",
       "    <tr style=\"text-align: right;\">\n",
       "      <th></th>\n",
       "      <th>null values</th>\n",
       "    </tr>\n",
       "  </thead>\n",
       "  <tbody>\n",
       "    <tr>\n",
       "      <th>ticket_no</th>\n",
       "      <td>0</td>\n",
       "    </tr>\n",
       "    <tr>\n",
       "      <th>book_ref</th>\n",
       "      <td>0</td>\n",
       "    </tr>\n",
       "    <tr>\n",
       "      <th>passenger_id</th>\n",
       "      <td>0</td>\n",
       "    </tr>\n",
       "  </tbody>\n",
       "</table>\n",
       "</div>"
      ],
      "text/plain": [
       "              null values\n",
       "ticket_no               0\n",
       "book_ref                0\n",
       "passenger_id            0"
      ]
     },
     "execution_count": 577,
     "metadata": {},
     "output_type": "execute_result"
    }
   ],
   "source": [
    "pd.DataFrame(tickets.isnull().sum(), columns = ['null values'])"
   ]
  },
  {
   "cell_type": "markdown",
   "id": "0430b3a1",
   "metadata": {},
   "source": [
    "### Note: Bookings table and Tickets table has common column 'book_ref' so we will going to use Inner join in order to combine both the tables"
   ]
  },
  {
   "cell_type": "markdown",
   "id": "1210bf1c",
   "metadata": {},
   "source": [
    "### To combine the two tables their are 2 methods\n",
    "- Either we can use SQL query\n",
    "- Or we can use Pandas function merge()"
   ]
  },
  {
   "cell_type": "markdown",
   "id": "925ea106",
   "metadata": {},
   "source": [
    "#### Method:1 Using SQL query"
   ]
  },
  {
   "cell_type": "code",
   "execution_count": 588,
   "id": "dcb51dbb",
   "metadata": {},
   "outputs": [],
   "source": [
    "tickets2 = pd.read_sql_query('select * from tickets inner join bookings \\\n",
    "                             on tickets.book_ref = bookings.book_ref', connection)"
   ]
  },
  {
   "cell_type": "code",
   "execution_count": 589,
   "id": "c472ceec",
   "metadata": {},
   "outputs": [
    {
     "data": {
      "text/html": [
       "<div>\n",
       "<style scoped>\n",
       "    .dataframe tbody tr th:only-of-type {\n",
       "        vertical-align: middle;\n",
       "    }\n",
       "\n",
       "    .dataframe tbody tr th {\n",
       "        vertical-align: top;\n",
       "    }\n",
       "\n",
       "    .dataframe thead th {\n",
       "        text-align: right;\n",
       "    }\n",
       "</style>\n",
       "<table border=\"1\" class=\"dataframe\">\n",
       "  <thead>\n",
       "    <tr style=\"text-align: right;\">\n",
       "      <th></th>\n",
       "      <th>ticket_no</th>\n",
       "      <th>book_ref</th>\n",
       "      <th>passenger_id</th>\n",
       "      <th>book_ref</th>\n",
       "      <th>book_date</th>\n",
       "      <th>total_amount</th>\n",
       "    </tr>\n",
       "  </thead>\n",
       "  <tbody>\n",
       "    <tr>\n",
       "      <th>0</th>\n",
       "      <td>0005432000987</td>\n",
       "      <td>06B046</td>\n",
       "      <td>8149 604011</td>\n",
       "      <td>06B046</td>\n",
       "      <td>2017-07-05 20:19:00+03</td>\n",
       "      <td>12400</td>\n",
       "    </tr>\n",
       "    <tr>\n",
       "      <th>1</th>\n",
       "      <td>0005432000988</td>\n",
       "      <td>06B046</td>\n",
       "      <td>8499 420203</td>\n",
       "      <td>06B046</td>\n",
       "      <td>2017-07-05 20:19:00+03</td>\n",
       "      <td>12400</td>\n",
       "    </tr>\n",
       "    <tr>\n",
       "      <th>2</th>\n",
       "      <td>0005432000989</td>\n",
       "      <td>E170C3</td>\n",
       "      <td>1011 752484</td>\n",
       "      <td>E170C3</td>\n",
       "      <td>2017-06-29 01:55:00+03</td>\n",
       "      <td>24700</td>\n",
       "    </tr>\n",
       "    <tr>\n",
       "      <th>3</th>\n",
       "      <td>0005432000990</td>\n",
       "      <td>E170C3</td>\n",
       "      <td>4849 400049</td>\n",
       "      <td>E170C3</td>\n",
       "      <td>2017-06-29 01:55:00+03</td>\n",
       "      <td>24700</td>\n",
       "    </tr>\n",
       "    <tr>\n",
       "      <th>4</th>\n",
       "      <td>0005432000991</td>\n",
       "      <td>F313DD</td>\n",
       "      <td>6615 976589</td>\n",
       "      <td>F313DD</td>\n",
       "      <td>2017-07-03 04:37:00+03</td>\n",
       "      <td>30900</td>\n",
       "    </tr>\n",
       "    <tr>\n",
       "      <th>...</th>\n",
       "      <td>...</td>\n",
       "      <td>...</td>\n",
       "      <td>...</td>\n",
       "      <td>...</td>\n",
       "      <td>...</td>\n",
       "      <td>...</td>\n",
       "    </tr>\n",
       "    <tr>\n",
       "      <th>366728</th>\n",
       "      <td>0005435999869</td>\n",
       "      <td>D730BA</td>\n",
       "      <td>0474 690760</td>\n",
       "      <td>D730BA</td>\n",
       "      <td>2017-08-14 11:50:00+03</td>\n",
       "      <td>210600</td>\n",
       "    </tr>\n",
       "    <tr>\n",
       "      <th>366729</th>\n",
       "      <td>0005435999870</td>\n",
       "      <td>D730BA</td>\n",
       "      <td>6535 751108</td>\n",
       "      <td>D730BA</td>\n",
       "      <td>2017-08-14 11:50:00+03</td>\n",
       "      <td>210600</td>\n",
       "    </tr>\n",
       "    <tr>\n",
       "      <th>366730</th>\n",
       "      <td>0005435999871</td>\n",
       "      <td>A1AD46</td>\n",
       "      <td>1596 156448</td>\n",
       "      <td>A1AD46</td>\n",
       "      <td>2017-08-13 03:49:00+03</td>\n",
       "      <td>45900</td>\n",
       "    </tr>\n",
       "    <tr>\n",
       "      <th>366731</th>\n",
       "      <td>0005435999872</td>\n",
       "      <td>7B6A53</td>\n",
       "      <td>9374 822707</td>\n",
       "      <td>7B6A53</td>\n",
       "      <td>2017-08-15 15:54:00+03</td>\n",
       "      <td>219400</td>\n",
       "    </tr>\n",
       "    <tr>\n",
       "      <th>366732</th>\n",
       "      <td>0005435999873</td>\n",
       "      <td>7B6A53</td>\n",
       "      <td>7380 075822</td>\n",
       "      <td>7B6A53</td>\n",
       "      <td>2017-08-15 15:54:00+03</td>\n",
       "      <td>219400</td>\n",
       "    </tr>\n",
       "  </tbody>\n",
       "</table>\n",
       "<p>366733 rows × 6 columns</p>\n",
       "</div>"
      ],
      "text/plain": [
       "            ticket_no book_ref passenger_id book_ref               book_date  \\\n",
       "0       0005432000987   06B046  8149 604011   06B046  2017-07-05 20:19:00+03   \n",
       "1       0005432000988   06B046  8499 420203   06B046  2017-07-05 20:19:00+03   \n",
       "2       0005432000989   E170C3  1011 752484   E170C3  2017-06-29 01:55:00+03   \n",
       "3       0005432000990   E170C3  4849 400049   E170C3  2017-06-29 01:55:00+03   \n",
       "4       0005432000991   F313DD  6615 976589   F313DD  2017-07-03 04:37:00+03   \n",
       "...               ...      ...          ...      ...                     ...   \n",
       "366728  0005435999869   D730BA  0474 690760   D730BA  2017-08-14 11:50:00+03   \n",
       "366729  0005435999870   D730BA  6535 751108   D730BA  2017-08-14 11:50:00+03   \n",
       "366730  0005435999871   A1AD46  1596 156448   A1AD46  2017-08-13 03:49:00+03   \n",
       "366731  0005435999872   7B6A53  9374 822707   7B6A53  2017-08-15 15:54:00+03   \n",
       "366732  0005435999873   7B6A53  7380 075822   7B6A53  2017-08-15 15:54:00+03   \n",
       "\n",
       "        total_amount  \n",
       "0              12400  \n",
       "1              12400  \n",
       "2              24700  \n",
       "3              24700  \n",
       "4              30900  \n",
       "...              ...  \n",
       "366728        210600  \n",
       "366729        210600  \n",
       "366730         45900  \n",
       "366731        219400  \n",
       "366732        219400  \n",
       "\n",
       "[366733 rows x 6 columns]"
      ]
     },
     "execution_count": 589,
     "metadata": {},
     "output_type": "execute_result"
    }
   ],
   "source": [
    "tickets2"
   ]
  },
  {
   "cell_type": "markdown",
   "id": "55e7b433",
   "metadata": {},
   "source": [
    "#### Method:2 Using Pandas function"
   ]
  },
  {
   "cell_type": "code",
   "execution_count": 580,
   "id": "2eaa06c5",
   "metadata": {},
   "outputs": [],
   "source": [
    "t2 = pd.merge(tickets, bookings, how = 'inner', on = 'book_ref')"
   ]
  },
  {
   "cell_type": "code",
   "execution_count": 582,
   "id": "dc0bae24",
   "metadata": {},
   "outputs": [
    {
     "data": {
      "text/html": [
       "<div>\n",
       "<style scoped>\n",
       "    .dataframe tbody tr th:only-of-type {\n",
       "        vertical-align: middle;\n",
       "    }\n",
       "\n",
       "    .dataframe tbody tr th {\n",
       "        vertical-align: top;\n",
       "    }\n",
       "\n",
       "    .dataframe thead th {\n",
       "        text-align: right;\n",
       "    }\n",
       "</style>\n",
       "<table border=\"1\" class=\"dataframe\">\n",
       "  <thead>\n",
       "    <tr style=\"text-align: right;\">\n",
       "      <th></th>\n",
       "      <th>ticket_no</th>\n",
       "      <th>book_ref</th>\n",
       "      <th>passenger_id</th>\n",
       "      <th>book_date</th>\n",
       "      <th>total_amount</th>\n",
       "      <th>month</th>\n",
       "      <th>date</th>\n",
       "    </tr>\n",
       "  </thead>\n",
       "  <tbody>\n",
       "    <tr>\n",
       "      <th>0</th>\n",
       "      <td>0005432000987</td>\n",
       "      <td>06B046</td>\n",
       "      <td>8149 604011</td>\n",
       "      <td>2017-07-05 20:19:00+03:00</td>\n",
       "      <td>12400</td>\n",
       "      <td>7</td>\n",
       "      <td>2017-07-05</td>\n",
       "    </tr>\n",
       "    <tr>\n",
       "      <th>1</th>\n",
       "      <td>0005432000988</td>\n",
       "      <td>06B046</td>\n",
       "      <td>8499 420203</td>\n",
       "      <td>2017-07-05 20:19:00+03:00</td>\n",
       "      <td>12400</td>\n",
       "      <td>7</td>\n",
       "      <td>2017-07-05</td>\n",
       "    </tr>\n",
       "    <tr>\n",
       "      <th>2</th>\n",
       "      <td>0005432000989</td>\n",
       "      <td>E170C3</td>\n",
       "      <td>1011 752484</td>\n",
       "      <td>2017-06-29 01:55:00+03:00</td>\n",
       "      <td>24700</td>\n",
       "      <td>6</td>\n",
       "      <td>2017-06-29</td>\n",
       "    </tr>\n",
       "    <tr>\n",
       "      <th>3</th>\n",
       "      <td>0005432000990</td>\n",
       "      <td>E170C3</td>\n",
       "      <td>4849 400049</td>\n",
       "      <td>2017-06-29 01:55:00+03:00</td>\n",
       "      <td>24700</td>\n",
       "      <td>6</td>\n",
       "      <td>2017-06-29</td>\n",
       "    </tr>\n",
       "    <tr>\n",
       "      <th>4</th>\n",
       "      <td>0005432000991</td>\n",
       "      <td>F313DD</td>\n",
       "      <td>6615 976589</td>\n",
       "      <td>2017-07-03 04:37:00+03:00</td>\n",
       "      <td>30900</td>\n",
       "      <td>7</td>\n",
       "      <td>2017-07-03</td>\n",
       "    </tr>\n",
       "    <tr>\n",
       "      <th>...</th>\n",
       "      <td>...</td>\n",
       "      <td>...</td>\n",
       "      <td>...</td>\n",
       "      <td>...</td>\n",
       "      <td>...</td>\n",
       "      <td>...</td>\n",
       "      <td>...</td>\n",
       "    </tr>\n",
       "    <tr>\n",
       "      <th>366728</th>\n",
       "      <td>0005435999869</td>\n",
       "      <td>D730BA</td>\n",
       "      <td>0474 690760</td>\n",
       "      <td>2017-08-14 11:50:00+03:00</td>\n",
       "      <td>210600</td>\n",
       "      <td>8</td>\n",
       "      <td>2017-08-14</td>\n",
       "    </tr>\n",
       "    <tr>\n",
       "      <th>366729</th>\n",
       "      <td>0005435999870</td>\n",
       "      <td>D730BA</td>\n",
       "      <td>6535 751108</td>\n",
       "      <td>2017-08-14 11:50:00+03:00</td>\n",
       "      <td>210600</td>\n",
       "      <td>8</td>\n",
       "      <td>2017-08-14</td>\n",
       "    </tr>\n",
       "    <tr>\n",
       "      <th>366730</th>\n",
       "      <td>0005435999871</td>\n",
       "      <td>A1AD46</td>\n",
       "      <td>1596 156448</td>\n",
       "      <td>2017-08-13 03:49:00+03:00</td>\n",
       "      <td>45900</td>\n",
       "      <td>8</td>\n",
       "      <td>2017-08-13</td>\n",
       "    </tr>\n",
       "    <tr>\n",
       "      <th>366731</th>\n",
       "      <td>0005435999872</td>\n",
       "      <td>7B6A53</td>\n",
       "      <td>9374 822707</td>\n",
       "      <td>2017-08-15 15:54:00+03:00</td>\n",
       "      <td>219400</td>\n",
       "      <td>8</td>\n",
       "      <td>2017-08-15</td>\n",
       "    </tr>\n",
       "    <tr>\n",
       "      <th>366732</th>\n",
       "      <td>0005435999873</td>\n",
       "      <td>7B6A53</td>\n",
       "      <td>7380 075822</td>\n",
       "      <td>2017-08-15 15:54:00+03:00</td>\n",
       "      <td>219400</td>\n",
       "      <td>8</td>\n",
       "      <td>2017-08-15</td>\n",
       "    </tr>\n",
       "  </tbody>\n",
       "</table>\n",
       "<p>366733 rows × 7 columns</p>\n",
       "</div>"
      ],
      "text/plain": [
       "            ticket_no book_ref passenger_id                 book_date  \\\n",
       "0       0005432000987   06B046  8149 604011 2017-07-05 20:19:00+03:00   \n",
       "1       0005432000988   06B046  8499 420203 2017-07-05 20:19:00+03:00   \n",
       "2       0005432000989   E170C3  1011 752484 2017-06-29 01:55:00+03:00   \n",
       "3       0005432000990   E170C3  4849 400049 2017-06-29 01:55:00+03:00   \n",
       "4       0005432000991   F313DD  6615 976589 2017-07-03 04:37:00+03:00   \n",
       "...               ...      ...          ...                       ...   \n",
       "366728  0005435999869   D730BA  0474 690760 2017-08-14 11:50:00+03:00   \n",
       "366729  0005435999870   D730BA  6535 751108 2017-08-14 11:50:00+03:00   \n",
       "366730  0005435999871   A1AD46  1596 156448 2017-08-13 03:49:00+03:00   \n",
       "366731  0005435999872   7B6A53  9374 822707 2017-08-15 15:54:00+03:00   \n",
       "366732  0005435999873   7B6A53  7380 075822 2017-08-15 15:54:00+03:00   \n",
       "\n",
       "        total_amount  month       date  \n",
       "0              12400      7 2017-07-05  \n",
       "1              12400      7 2017-07-05  \n",
       "2              24700      6 2017-06-29  \n",
       "3              24700      6 2017-06-29  \n",
       "4              30900      7 2017-07-03  \n",
       "...              ...    ...        ...  \n",
       "366728        210600      8 2017-08-14  \n",
       "366729        210600      8 2017-08-14  \n",
       "366730         45900      8 2017-08-13  \n",
       "366731        219400      8 2017-08-15  \n",
       "366732        219400      8 2017-08-15  \n",
       "\n",
       "[366733 rows x 7 columns]"
      ]
     },
     "execution_count": 582,
     "metadata": {},
     "output_type": "execute_result"
    }
   ],
   "source": [
    "t2"
   ]
  },
  {
   "cell_type": "markdown",
   "id": "b1578899",
   "metadata": {},
   "source": [
    "#### Plotting graph to check Number of Tickets sold with time"
   ]
  },
  {
   "cell_type": "code",
   "execution_count": 585,
   "id": "8e053f0a",
   "metadata": {
    "scrolled": true
   },
   "outputs": [
    {
     "data": {
      "text/html": [
       "<div>\n",
       "<style scoped>\n",
       "    .dataframe tbody tr th:only-of-type {\n",
       "        vertical-align: middle;\n",
       "    }\n",
       "\n",
       "    .dataframe tbody tr th {\n",
       "        vertical-align: top;\n",
       "    }\n",
       "\n",
       "    .dataframe thead th {\n",
       "        text-align: right;\n",
       "    }\n",
       "</style>\n",
       "<table border=\"1\" class=\"dataframe\">\n",
       "  <thead>\n",
       "    <tr style=\"text-align: right;\">\n",
       "      <th></th>\n",
       "      <th>ticket_no</th>\n",
       "    </tr>\n",
       "    <tr>\n",
       "      <th>date</th>\n",
       "      <th></th>\n",
       "    </tr>\n",
       "  </thead>\n",
       "  <tbody>\n",
       "    <tr>\n",
       "      <th>2017-06-21</th>\n",
       "      <td>6</td>\n",
       "    </tr>\n",
       "    <tr>\n",
       "      <th>2017-06-22</th>\n",
       "      <td>12</td>\n",
       "    </tr>\n",
       "    <tr>\n",
       "      <th>2017-06-23</th>\n",
       "      <td>28</td>\n",
       "    </tr>\n",
       "    <tr>\n",
       "      <th>2017-06-24</th>\n",
       "      <td>106</td>\n",
       "    </tr>\n",
       "    <tr>\n",
       "      <th>2017-06-25</th>\n",
       "      <td>266</td>\n",
       "    </tr>\n",
       "    <tr>\n",
       "      <th>2017-06-26</th>\n",
       "      <td>499</td>\n",
       "    </tr>\n",
       "    <tr>\n",
       "      <th>2017-06-27</th>\n",
       "      <td>1028</td>\n",
       "    </tr>\n",
       "    <tr>\n",
       "      <th>2017-06-28</th>\n",
       "      <td>1678</td>\n",
       "    </tr>\n",
       "    <tr>\n",
       "      <th>2017-06-29</th>\n",
       "      <td>2765</td>\n",
       "    </tr>\n",
       "    <tr>\n",
       "      <th>2017-06-30</th>\n",
       "      <td>3772</td>\n",
       "    </tr>\n",
       "    <tr>\n",
       "      <th>2017-07-01</th>\n",
       "      <td>4936</td>\n",
       "    </tr>\n",
       "    <tr>\n",
       "      <th>2017-07-02</th>\n",
       "      <td>5780</td>\n",
       "    </tr>\n",
       "    <tr>\n",
       "      <th>2017-07-03</th>\n",
       "      <td>6686</td>\n",
       "    </tr>\n",
       "    <tr>\n",
       "      <th>2017-07-04</th>\n",
       "      <td>7112</td>\n",
       "    </tr>\n",
       "    <tr>\n",
       "      <th>2017-07-05</th>\n",
       "      <td>7484</td>\n",
       "    </tr>\n",
       "    <tr>\n",
       "      <th>2017-07-06</th>\n",
       "      <td>7656</td>\n",
       "    </tr>\n",
       "    <tr>\n",
       "      <th>2017-07-07</th>\n",
       "      <td>7722</td>\n",
       "    </tr>\n",
       "    <tr>\n",
       "      <th>2017-07-08</th>\n",
       "      <td>7586</td>\n",
       "    </tr>\n",
       "    <tr>\n",
       "      <th>2017-07-09</th>\n",
       "      <td>7860</td>\n",
       "    </tr>\n",
       "    <tr>\n",
       "      <th>2017-07-10</th>\n",
       "      <td>7749</td>\n",
       "    </tr>\n",
       "    <tr>\n",
       "      <th>2017-07-11</th>\n",
       "      <td>7852</td>\n",
       "    </tr>\n",
       "    <tr>\n",
       "      <th>2017-07-12</th>\n",
       "      <td>7691</td>\n",
       "    </tr>\n",
       "    <tr>\n",
       "      <th>2017-07-13</th>\n",
       "      <td>7641</td>\n",
       "    </tr>\n",
       "    <tr>\n",
       "      <th>2017-07-14</th>\n",
       "      <td>7932</td>\n",
       "    </tr>\n",
       "    <tr>\n",
       "      <th>2017-07-15</th>\n",
       "      <td>7668</td>\n",
       "    </tr>\n",
       "    <tr>\n",
       "      <th>2017-07-16</th>\n",
       "      <td>7896</td>\n",
       "    </tr>\n",
       "    <tr>\n",
       "      <th>2017-07-17</th>\n",
       "      <td>7546</td>\n",
       "    </tr>\n",
       "    <tr>\n",
       "      <th>2017-07-18</th>\n",
       "      <td>7745</td>\n",
       "    </tr>\n",
       "    <tr>\n",
       "      <th>2017-07-19</th>\n",
       "      <td>7821</td>\n",
       "    </tr>\n",
       "    <tr>\n",
       "      <th>2017-07-20</th>\n",
       "      <td>7637</td>\n",
       "    </tr>\n",
       "    <tr>\n",
       "      <th>2017-07-21</th>\n",
       "      <td>7771</td>\n",
       "    </tr>\n",
       "    <tr>\n",
       "      <th>2017-07-22</th>\n",
       "      <td>7698</td>\n",
       "    </tr>\n",
       "    <tr>\n",
       "      <th>2017-07-23</th>\n",
       "      <td>7627</td>\n",
       "    </tr>\n",
       "    <tr>\n",
       "      <th>2017-07-24</th>\n",
       "      <td>7667</td>\n",
       "    </tr>\n",
       "    <tr>\n",
       "      <th>2017-07-25</th>\n",
       "      <td>7826</td>\n",
       "    </tr>\n",
       "    <tr>\n",
       "      <th>2017-07-26</th>\n",
       "      <td>7730</td>\n",
       "    </tr>\n",
       "    <tr>\n",
       "      <th>2017-07-27</th>\n",
       "      <td>7636</td>\n",
       "    </tr>\n",
       "    <tr>\n",
       "      <th>2017-07-28</th>\n",
       "      <td>7827</td>\n",
       "    </tr>\n",
       "    <tr>\n",
       "      <th>2017-07-29</th>\n",
       "      <td>7588</td>\n",
       "    </tr>\n",
       "    <tr>\n",
       "      <th>2017-07-30</th>\n",
       "      <td>7732</td>\n",
       "    </tr>\n",
       "    <tr>\n",
       "      <th>2017-07-31</th>\n",
       "      <td>7653</td>\n",
       "    </tr>\n",
       "    <tr>\n",
       "      <th>2017-08-01</th>\n",
       "      <td>7740</td>\n",
       "    </tr>\n",
       "    <tr>\n",
       "      <th>2017-08-02</th>\n",
       "      <td>7669</td>\n",
       "    </tr>\n",
       "    <tr>\n",
       "      <th>2017-08-03</th>\n",
       "      <td>7756</td>\n",
       "    </tr>\n",
       "    <tr>\n",
       "      <th>2017-08-04</th>\n",
       "      <td>7908</td>\n",
       "    </tr>\n",
       "    <tr>\n",
       "      <th>2017-08-05</th>\n",
       "      <td>8064</td>\n",
       "    </tr>\n",
       "    <tr>\n",
       "      <th>2017-08-06</th>\n",
       "      <td>8016</td>\n",
       "    </tr>\n",
       "    <tr>\n",
       "      <th>2017-08-07</th>\n",
       "      <td>7910</td>\n",
       "    </tr>\n",
       "    <tr>\n",
       "      <th>2017-08-08</th>\n",
       "      <td>8153</td>\n",
       "    </tr>\n",
       "    <tr>\n",
       "      <th>2017-08-09</th>\n",
       "      <td>8258</td>\n",
       "    </tr>\n",
       "    <tr>\n",
       "      <th>2017-08-10</th>\n",
       "      <td>8493</td>\n",
       "    </tr>\n",
       "    <tr>\n",
       "      <th>2017-08-11</th>\n",
       "      <td>8737</td>\n",
       "    </tr>\n",
       "    <tr>\n",
       "      <th>2017-08-12</th>\n",
       "      <td>8870</td>\n",
       "    </tr>\n",
       "    <tr>\n",
       "      <th>2017-08-13</th>\n",
       "      <td>9151</td>\n",
       "    </tr>\n",
       "    <tr>\n",
       "      <th>2017-08-14</th>\n",
       "      <td>9574</td>\n",
       "    </tr>\n",
       "    <tr>\n",
       "      <th>2017-08-15</th>\n",
       "      <td>7519</td>\n",
       "    </tr>\n",
       "  </tbody>\n",
       "</table>\n",
       "</div>"
      ],
      "text/plain": [
       "            ticket_no\n",
       "date                 \n",
       "2017-06-21          6\n",
       "2017-06-22         12\n",
       "2017-06-23         28\n",
       "2017-06-24        106\n",
       "2017-06-25        266\n",
       "2017-06-26        499\n",
       "2017-06-27       1028\n",
       "2017-06-28       1678\n",
       "2017-06-29       2765\n",
       "2017-06-30       3772\n",
       "2017-07-01       4936\n",
       "2017-07-02       5780\n",
       "2017-07-03       6686\n",
       "2017-07-04       7112\n",
       "2017-07-05       7484\n",
       "2017-07-06       7656\n",
       "2017-07-07       7722\n",
       "2017-07-08       7586\n",
       "2017-07-09       7860\n",
       "2017-07-10       7749\n",
       "2017-07-11       7852\n",
       "2017-07-12       7691\n",
       "2017-07-13       7641\n",
       "2017-07-14       7932\n",
       "2017-07-15       7668\n",
       "2017-07-16       7896\n",
       "2017-07-17       7546\n",
       "2017-07-18       7745\n",
       "2017-07-19       7821\n",
       "2017-07-20       7637\n",
       "2017-07-21       7771\n",
       "2017-07-22       7698\n",
       "2017-07-23       7627\n",
       "2017-07-24       7667\n",
       "2017-07-25       7826\n",
       "2017-07-26       7730\n",
       "2017-07-27       7636\n",
       "2017-07-28       7827\n",
       "2017-07-29       7588\n",
       "2017-07-30       7732\n",
       "2017-07-31       7653\n",
       "2017-08-01       7740\n",
       "2017-08-02       7669\n",
       "2017-08-03       7756\n",
       "2017-08-04       7908\n",
       "2017-08-05       8064\n",
       "2017-08-06       8016\n",
       "2017-08-07       7910\n",
       "2017-08-08       8153\n",
       "2017-08-09       8258\n",
       "2017-08-10       8493\n",
       "2017-08-11       8737\n",
       "2017-08-12       8870\n",
       "2017-08-13       9151\n",
       "2017-08-14       9574\n",
       "2017-08-15       7519"
      ]
     },
     "execution_count": 585,
     "metadata": {},
     "output_type": "execute_result"
    }
   ],
   "source": [
    "x = t2.groupby(['date'])[['ticket_no']].count()\n",
    "x"
   ]
  },
  {
   "cell_type": "code",
   "execution_count": 587,
   "id": "7f3716a2",
   "metadata": {},
   "outputs": [
    {
     "data": {
      "image/png": "[encoded data removed]",
      "text/plain": [
       "<Figure size 1200x300 with 1 Axes>"
      ]
     },
     "metadata": {},
     "output_type": "display_data"
    }
   ],
   "source": [
    "plt.figure(figsize = (12,3))\n",
    "plt.plot(x.index, x['ticket_no'], marker = 'o')\n",
    "plt.grid()\n",
    "plt.xlabel('date')\n",
    "plt.ylabel('Number of tickets sold');"
   ]
  },
  {
   "cell_type": "markdown",
   "id": "df833b55",
   "metadata": {},
   "source": [
    "### Analysing Ticket_Flights data"
   ]
  },
  {
   "cell_type": "code",
   "execution_count": 664,
   "id": "43e7b6ec",
   "metadata": {},
   "outputs": [],
   "source": [
    "ticket_flights = pd.read_sql_query('select * from ticket_flights', connection)"
   ]
  },
  {
   "cell_type": "markdown",
   "id": "f07306b2",
   "metadata": {},
   "source": [
    "#### Checking first and last five rows of the dataset"
   ]
  },
  {
   "cell_type": "code",
   "execution_count": 665,
   "id": "6e7957b9",
   "metadata": {},
   "outputs": [
    {
     "data": {
      "text/html": [
       "<div>\n",
       "<style scoped>\n",
       "    .dataframe tbody tr th:only-of-type {\n",
       "        vertical-align: middle;\n",
       "    }\n",
       "\n",
       "    .dataframe tbody tr th {\n",
       "        vertical-align: top;\n",
       "    }\n",
       "\n",
       "    .dataframe thead th {\n",
       "        text-align: right;\n",
       "    }\n",
       "</style>\n",
       "<table border=\"1\" class=\"dataframe\">\n",
       "  <thead>\n",
       "    <tr style=\"text-align: right;\">\n",
       "      <th></th>\n",
       "      <th>ticket_no</th>\n",
       "      <th>flight_id</th>\n",
       "      <th>fare_conditions</th>\n",
       "      <th>amount</th>\n",
       "    </tr>\n",
       "  </thead>\n",
       "  <tbody>\n",
       "    <tr>\n",
       "      <th>0</th>\n",
       "      <td>0005432159776</td>\n",
       "      <td>30625</td>\n",
       "      <td>Business</td>\n",
       "      <td>42100</td>\n",
       "    </tr>\n",
       "    <tr>\n",
       "      <th>1</th>\n",
       "      <td>0005435212351</td>\n",
       "      <td>30625</td>\n",
       "      <td>Business</td>\n",
       "      <td>42100</td>\n",
       "    </tr>\n",
       "    <tr>\n",
       "      <th>2</th>\n",
       "      <td>0005435212386</td>\n",
       "      <td>30625</td>\n",
       "      <td>Business</td>\n",
       "      <td>42100</td>\n",
       "    </tr>\n",
       "    <tr>\n",
       "      <th>3</th>\n",
       "      <td>0005435212381</td>\n",
       "      <td>30625</td>\n",
       "      <td>Business</td>\n",
       "      <td>42100</td>\n",
       "    </tr>\n",
       "    <tr>\n",
       "      <th>4</th>\n",
       "      <td>0005432211370</td>\n",
       "      <td>30625</td>\n",
       "      <td>Business</td>\n",
       "      <td>42100</td>\n",
       "    </tr>\n",
       "    <tr>\n",
       "      <th>...</th>\n",
       "      <td>...</td>\n",
       "      <td>...</td>\n",
       "      <td>...</td>\n",
       "      <td>...</td>\n",
       "    </tr>\n",
       "    <tr>\n",
       "      <th>1045721</th>\n",
       "      <td>0005435097522</td>\n",
       "      <td>32094</td>\n",
       "      <td>Economy</td>\n",
       "      <td>5200</td>\n",
       "    </tr>\n",
       "    <tr>\n",
       "      <th>1045722</th>\n",
       "      <td>0005435097521</td>\n",
       "      <td>32094</td>\n",
       "      <td>Economy</td>\n",
       "      <td>5200</td>\n",
       "    </tr>\n",
       "    <tr>\n",
       "      <th>1045723</th>\n",
       "      <td>0005435104384</td>\n",
       "      <td>32094</td>\n",
       "      <td>Economy</td>\n",
       "      <td>5200</td>\n",
       "    </tr>\n",
       "    <tr>\n",
       "      <th>1045724</th>\n",
       "      <td>0005435104352</td>\n",
       "      <td>32094</td>\n",
       "      <td>Economy</td>\n",
       "      <td>5200</td>\n",
       "    </tr>\n",
       "    <tr>\n",
       "      <th>1045725</th>\n",
       "      <td>0005435104389</td>\n",
       "      <td>32094</td>\n",
       "      <td>Economy</td>\n",
       "      <td>5200</td>\n",
       "    </tr>\n",
       "  </tbody>\n",
       "</table>\n",
       "<p>1045726 rows × 4 columns</p>\n",
       "</div>"
      ],
      "text/plain": [
       "             ticket_no  flight_id fare_conditions  amount\n",
       "0        0005432159776      30625        Business   42100\n",
       "1        0005435212351      30625        Business   42100\n",
       "2        0005435212386      30625        Business   42100\n",
       "3        0005435212381      30625        Business   42100\n",
       "4        0005432211370      30625        Business   42100\n",
       "...                ...        ...             ...     ...\n",
       "1045721  0005435097522      32094         Economy    5200\n",
       "1045722  0005435097521      32094         Economy    5200\n",
       "1045723  0005435104384      32094         Economy    5200\n",
       "1045724  0005435104352      32094         Economy    5200\n",
       "1045725  0005435104389      32094         Economy    5200\n",
       "\n",
       "[1045726 rows x 4 columns]"
      ]
     },
     "execution_count": 665,
     "metadata": {},
     "output_type": "execute_result"
    }
   ],
   "source": [
    "ticket_flights"
   ]
  },
  {
   "cell_type": "markdown",
   "id": "072b086b",
   "metadata": {},
   "source": [
    "#### Checking shape of the dataset"
   ]
  },
  {
   "cell_type": "code",
   "execution_count": 666,
   "id": "392bc182",
   "metadata": {},
   "outputs": [
    {
     "data": {
      "text/html": [
       "<div>\n",
       "<style scoped>\n",
       "    .dataframe tbody tr th:only-of-type {\n",
       "        vertical-align: middle;\n",
       "    }\n",
       "\n",
       "    .dataframe tbody tr th {\n",
       "        vertical-align: top;\n",
       "    }\n",
       "\n",
       "    .dataframe thead th {\n",
       "        text-align: right;\n",
       "    }\n",
       "</style>\n",
       "<table border=\"1\" class=\"dataframe\">\n",
       "  <thead>\n",
       "    <tr style=\"text-align: right;\">\n",
       "      <th></th>\n",
       "      <th>shape of dataset</th>\n",
       "    </tr>\n",
       "  </thead>\n",
       "  <tbody>\n",
       "    <tr>\n",
       "      <th>Number of rows</th>\n",
       "      <td>1045726</td>\n",
       "    </tr>\n",
       "    <tr>\n",
       "      <th>Number of columns</th>\n",
       "      <td>4</td>\n",
       "    </tr>\n",
       "  </tbody>\n",
       "</table>\n",
       "</div>"
      ],
      "text/plain": [
       "                   shape of dataset\n",
       "Number of rows              1045726\n",
       "Number of columns                 4"
      ]
     },
     "execution_count": 666,
     "metadata": {},
     "output_type": "execute_result"
    }
   ],
   "source": [
    "rows = ['Number of rows', 'Number of columns']\n",
    "pd.DataFrame(ticket_flights.shape, columns = ['shape of dataset'], index=rows)"
   ]
  },
  {
   "cell_type": "markdown",
   "id": "f652d3be",
   "metadata": {},
   "source": [
    "#### Checking datatypes of Attributes in a dataset"
   ]
  },
  {
   "cell_type": "code",
   "execution_count": 667,
   "id": "94387452",
   "metadata": {},
   "outputs": [
    {
     "name": "stdout",
     "output_type": "stream",
     "text": [
      "<class 'pandas.core.frame.DataFrame'>\n",
      "RangeIndex: 1045726 entries, 0 to 1045725\n",
      "Data columns (total 4 columns):\n",
      " #   Column           Non-Null Count    Dtype \n",
      "---  ------           --------------    ----- \n",
      " 0   ticket_no        1045726 non-null  object\n",
      " 1   flight_id        1045726 non-null  int64 \n",
      " 2   fare_conditions  1045726 non-null  object\n",
      " 3   amount           1045726 non-null  int64 \n",
      "dtypes: int64(2), object(2)\n",
      "memory usage: 31.9+ MB\n"
     ]
    }
   ],
   "source": [
    "ticket_flights.info()"
   ]
  },
  {
   "cell_type": "markdown",
   "id": "88c0b378",
   "metadata": {},
   "source": [
    "#### Checking for Missing values in a dataset"
   ]
  },
  {
   "cell_type": "code",
   "execution_count": 668,
   "id": "a0cf154e",
   "metadata": {},
   "outputs": [
    {
     "data": {
      "text/html": [
       "<div>\n",
       "<style scoped>\n",
       "    .dataframe tbody tr th:only-of-type {\n",
       "        vertical-align: middle;\n",
       "    }\n",
       "\n",
       "    .dataframe tbody tr th {\n",
       "        vertical-align: top;\n",
       "    }\n",
       "\n",
       "    .dataframe thead th {\n",
       "        text-align: right;\n",
       "    }\n",
       "</style>\n",
       "<table border=\"1\" class=\"dataframe\">\n",
       "  <thead>\n",
       "    <tr style=\"text-align: right;\">\n",
       "      <th></th>\n",
       "      <th>Null values</th>\n",
       "    </tr>\n",
       "  </thead>\n",
       "  <tbody>\n",
       "    <tr>\n",
       "      <th>ticket_no</th>\n",
       "      <td>0</td>\n",
       "    </tr>\n",
       "    <tr>\n",
       "      <th>flight_id</th>\n",
       "      <td>0</td>\n",
       "    </tr>\n",
       "    <tr>\n",
       "      <th>fare_conditions</th>\n",
       "      <td>0</td>\n",
       "    </tr>\n",
       "    <tr>\n",
       "      <th>amount</th>\n",
       "      <td>0</td>\n",
       "    </tr>\n",
       "  </tbody>\n",
       "</table>\n",
       "</div>"
      ],
      "text/plain": [
       "                 Null values\n",
       "ticket_no                  0\n",
       "flight_id                  0\n",
       "fare_conditions            0\n",
       "amount                     0"
      ]
     },
     "execution_count": 668,
     "metadata": {},
     "output_type": "execute_result"
    }
   ],
   "source": [
    "pd.DataFrame(ticket_flights.isnull().sum(), columns = ['Null values'])"
   ]
  },
  {
   "cell_type": "markdown",
   "id": "c3840aaf",
   "metadata": {},
   "source": [
    "#### Checking Ticket Amount for different classes/fare_conditions"
   ]
  },
  {
   "cell_type": "code",
   "execution_count": 669,
   "id": "9eccaf2a",
   "metadata": {},
   "outputs": [
    {
     "data": {
      "text/html": [
       "<div>\n",
       "<style scoped>\n",
       "    .dataframe tbody tr th:only-of-type {\n",
       "        vertical-align: middle;\n",
       "    }\n",
       "\n",
       "    .dataframe tbody tr th {\n",
       "        vertical-align: top;\n",
       "    }\n",
       "\n",
       "    .dataframe thead th {\n",
       "        text-align: right;\n",
       "    }\n",
       "</style>\n",
       "<table border=\"1\" class=\"dataframe\">\n",
       "  <thead>\n",
       "    <tr style=\"text-align: right;\">\n",
       "      <th></th>\n",
       "      <th>amount</th>\n",
       "    </tr>\n",
       "    <tr>\n",
       "      <th>fare_conditions</th>\n",
       "      <th></th>\n",
       "    </tr>\n",
       "  </thead>\n",
       "  <tbody>\n",
       "    <tr>\n",
       "      <th>Business</th>\n",
       "      <td>51143.416139</td>\n",
       "    </tr>\n",
       "    <tr>\n",
       "      <th>Comfort</th>\n",
       "      <td>32740.552889</td>\n",
       "    </tr>\n",
       "    <tr>\n",
       "      <th>Economy</th>\n",
       "      <td>15959.813335</td>\n",
       "    </tr>\n",
       "  </tbody>\n",
       "</table>\n",
       "</div>"
      ],
      "text/plain": [
       "                       amount\n",
       "fare_conditions              \n",
       "Business         51143.416139\n",
       "Comfort          32740.552889\n",
       "Economy          15959.813335"
      ]
     },
     "execution_count": 669,
     "metadata": {},
     "output_type": "execute_result"
    }
   ],
   "source": [
    "ticket_flights.groupby(['fare_conditions'])[['amount']].mean()"
   ]
  },
  {
   "cell_type": "code",
   "execution_count": 670,
   "id": "17a29b84",
   "metadata": {},
   "outputs": [
    {
     "data": {
      "image/png": "[encoded data removed]",
      "text/plain": [
       "<Figure size 600x300 with 1 Axes>"
      ]
     },
     "metadata": {},
     "output_type": "display_data"
    }
   ],
   "source": [
    "plt.figure(figsize = (6,3))\n",
    "sns.barplot(data=ticket_flights, x = 'fare_conditions', y = 'amount', ci=False, edgecolor='black', linewidth=1)\n",
    "plt.title('Ticket amount for different classes');"
   ]
  },
  {
   "cell_type": "markdown",
   "id": "3849286e",
   "metadata": {},
   "source": [
    "- From above table we can say that on an Average ticket price is Higher for Business class and lowest price is for Economy class"
   ]
  },
  {
   "cell_type": "markdown",
   "id": "4b0b87dc",
   "metadata": {},
   "source": [
    "### NOTE: Now we will going to join flights table and ticket_flights table having common column flight_id"
   ]
  },
  {
   "cell_type": "markdown",
   "id": "9ddeea8d",
   "metadata": {},
   "source": [
    "- Using SQL query\n",
    "- Or we can use Pandas function"
   ]
  },
  {
   "cell_type": "markdown",
   "id": "c29d38a1",
   "metadata": {},
   "source": [
    "#### Checking Fare distribution for different Aircrafts"
   ]
  },
  {
   "cell_type": "code",
   "execution_count": 715,
   "id": "2a15098d",
   "metadata": {},
   "outputs": [],
   "source": [
    "fare = pd.read_sql_query('select f.aircraft_code, tf.fare_conditions, avg(tf.amount) as average_amount \\\n",
    "                         from ticket_flights tf inner join flights f \\\n",
    "                       on tf.flight_id = f.flight_id \\\n",
    "                       group by f.aircraft_code, tf.fare_conditions', connection)"
   ]
  },
  {
   "cell_type": "code",
   "execution_count": 716,
   "id": "a9f53463",
   "metadata": {},
   "outputs": [
    {
     "data": {
      "text/html": [
       "<div>\n",
       "<style scoped>\n",
       "    .dataframe tbody tr th:only-of-type {\n",
       "        vertical-align: middle;\n",
       "    }\n",
       "\n",
       "    .dataframe tbody tr th {\n",
       "        vertical-align: top;\n",
       "    }\n",
       "\n",
       "    .dataframe thead th {\n",
       "        text-align: right;\n",
       "    }\n",
       "</style>\n",
       "<table border=\"1\" class=\"dataframe\">\n",
       "  <thead>\n",
       "    <tr style=\"text-align: right;\">\n",
       "      <th></th>\n",
       "      <th>aircraft_code</th>\n",
       "      <th>fare_conditions</th>\n",
       "      <th>average_amount</th>\n",
       "    </tr>\n",
       "  </thead>\n",
       "  <tbody>\n",
       "    <tr>\n",
       "      <th>0</th>\n",
       "      <td>319</td>\n",
       "      <td>Business</td>\n",
       "      <td>113550.557703</td>\n",
       "    </tr>\n",
       "    <tr>\n",
       "      <th>1</th>\n",
       "      <td>319</td>\n",
       "      <td>Economy</td>\n",
       "      <td>38311.402347</td>\n",
       "    </tr>\n",
       "    <tr>\n",
       "      <th>2</th>\n",
       "      <td>321</td>\n",
       "      <td>Business</td>\n",
       "      <td>34435.662664</td>\n",
       "    </tr>\n",
       "    <tr>\n",
       "      <th>3</th>\n",
       "      <td>321</td>\n",
       "      <td>Economy</td>\n",
       "      <td>11534.974764</td>\n",
       "    </tr>\n",
       "    <tr>\n",
       "      <th>4</th>\n",
       "      <td>733</td>\n",
       "      <td>Business</td>\n",
       "      <td>41865.626175</td>\n",
       "    </tr>\n",
       "    <tr>\n",
       "      <th>5</th>\n",
       "      <td>733</td>\n",
       "      <td>Economy</td>\n",
       "      <td>13985.152000</td>\n",
       "    </tr>\n",
       "    <tr>\n",
       "      <th>6</th>\n",
       "      <td>763</td>\n",
       "      <td>Business</td>\n",
       "      <td>82839.842866</td>\n",
       "    </tr>\n",
       "    <tr>\n",
       "      <th>7</th>\n",
       "      <td>763</td>\n",
       "      <td>Economy</td>\n",
       "      <td>27594.721829</td>\n",
       "    </tr>\n",
       "    <tr>\n",
       "      <th>8</th>\n",
       "      <td>773</td>\n",
       "      <td>Business</td>\n",
       "      <td>57779.909435</td>\n",
       "    </tr>\n",
       "    <tr>\n",
       "      <th>9</th>\n",
       "      <td>773</td>\n",
       "      <td>Comfort</td>\n",
       "      <td>32740.552889</td>\n",
       "    </tr>\n",
       "    <tr>\n",
       "      <th>10</th>\n",
       "      <td>773</td>\n",
       "      <td>Economy</td>\n",
       "      <td>19265.225693</td>\n",
       "    </tr>\n",
       "    <tr>\n",
       "      <th>11</th>\n",
       "      <td>CN1</td>\n",
       "      <td>Economy</td>\n",
       "      <td>6568.552345</td>\n",
       "    </tr>\n",
       "    <tr>\n",
       "      <th>12</th>\n",
       "      <td>CR2</td>\n",
       "      <td>Economy</td>\n",
       "      <td>13207.661102</td>\n",
       "    </tr>\n",
       "    <tr>\n",
       "      <th>13</th>\n",
       "      <td>SU9</td>\n",
       "      <td>Business</td>\n",
       "      <td>33487.849829</td>\n",
       "    </tr>\n",
       "    <tr>\n",
       "      <th>14</th>\n",
       "      <td>SU9</td>\n",
       "      <td>Economy</td>\n",
       "      <td>11220.183400</td>\n",
       "    </tr>\n",
       "  </tbody>\n",
       "</table>\n",
       "</div>"
      ],
      "text/plain": [
       "   aircraft_code fare_conditions  average_amount\n",
       "0            319        Business   113550.557703\n",
       "1            319         Economy    38311.402347\n",
       "2            321        Business    34435.662664\n",
       "3            321         Economy    11534.974764\n",
       "4            733        Business    41865.626175\n",
       "5            733         Economy    13985.152000\n",
       "6            763        Business    82839.842866\n",
       "7            763         Economy    27594.721829\n",
       "8            773        Business    57779.909435\n",
       "9            773         Comfort    32740.552889\n",
       "10           773         Economy    19265.225693\n",
       "11           CN1         Economy     6568.552345\n",
       "12           CR2         Economy    13207.661102\n",
       "13           SU9        Business    33487.849829\n",
       "14           SU9         Economy    11220.183400"
      ]
     },
     "execution_count": 716,
     "metadata": {},
     "output_type": "execute_result"
    }
   ],
   "source": [
    "fare"
   ]
  },
  {
   "cell_type": "code",
   "execution_count": 662,
   "id": "2f2b3608",
   "metadata": {},
   "outputs": [
    {
     "data": {
      "image/png": "[encoded data removed]",
      "text/plain": [
       "<Figure size 600x300 with 1 Axes>"
      ]
     },
     "metadata": {},
     "output_type": "display_data"
    }
   ],
   "source": [
    "plt.figure(figsize = (6,3))\n",
    "sns.barplot(data=fare, x = 'aircraft_code', y = 'average_amount', hue = 'fare_conditions', ci=False, \n",
    "           edgecolor='black', linewidth=1)\n",
    "plt.title('fare amount for different classes wrt Aircrafts')\n",
    "plt.legend(bbox_to_anchor=[1,1]);"
   ]
  },
  {
   "cell_type": "markdown",
   "id": "29456663",
   "metadata": {},
   "source": [
    "- From above table and graph we can say that on an Average fare amount for Airbus-319 Business class is Higher as compared to other Fleets"
   ]
  },
  {
   "cell_type": "markdown",
   "id": "e87a1740",
   "metadata": {},
   "source": [
    "#### Checking Total Revenue generated and Average Revenue generated per ticket for different Aircrafts"
   ]
  },
  {
   "cell_type": "code",
   "execution_count": 713,
   "id": "5fc59931",
   "metadata": {},
   "outputs": [],
   "source": [
    "revenue = pd.read_sql_query('select f.aircraft_code, count(*) as ticket_count, sum(tf.amount) as total_revenue, \\\n",
    "                            sum(tf.amount)/count(*) as revenue_per_ticket \\\n",
    "                            from ticket_flights tf inner join flights f \\\n",
    "                            on tf.flight_id = f.flight_id \\\n",
    "                            group by f.aircraft_code', connection)"
   ]
  },
  {
   "cell_type": "code",
   "execution_count": 714,
   "id": "ea1cfaa1",
   "metadata": {},
   "outputs": [
    {
     "data": {
      "text/html": [
       "<div>\n",
       "<style scoped>\n",
       "    .dataframe tbody tr th:only-of-type {\n",
       "        vertical-align: middle;\n",
       "    }\n",
       "\n",
       "    .dataframe tbody tr th {\n",
       "        vertical-align: top;\n",
       "    }\n",
       "\n",
       "    .dataframe thead th {\n",
       "        text-align: right;\n",
       "    }\n",
       "</style>\n",
       "<table border=\"1\" class=\"dataframe\">\n",
       "  <thead>\n",
       "    <tr style=\"text-align: right;\">\n",
       "      <th></th>\n",
       "      <th>aircraft_code</th>\n",
       "      <th>ticket_count</th>\n",
       "      <th>total_revenue</th>\n",
       "      <th>revenue_per_ticket</th>\n",
       "    </tr>\n",
       "  </thead>\n",
       "  <tbody>\n",
       "    <tr>\n",
       "      <th>0</th>\n",
       "      <td>319</td>\n",
       "      <td>52853</td>\n",
       "      <td>2706163100</td>\n",
       "      <td>51201</td>\n",
       "    </tr>\n",
       "    <tr>\n",
       "      <th>1</th>\n",
       "      <td>321</td>\n",
       "      <td>107129</td>\n",
       "      <td>1638164100</td>\n",
       "      <td>15291</td>\n",
       "    </tr>\n",
       "    <tr>\n",
       "      <th>2</th>\n",
       "      <td>733</td>\n",
       "      <td>86102</td>\n",
       "      <td>1426552100</td>\n",
       "      <td>16568</td>\n",
       "    </tr>\n",
       "    <tr>\n",
       "      <th>3</th>\n",
       "      <td>763</td>\n",
       "      <td>124774</td>\n",
       "      <td>4371277100</td>\n",
       "      <td>35033</td>\n",
       "    </tr>\n",
       "    <tr>\n",
       "      <th>4</th>\n",
       "      <td>773</td>\n",
       "      <td>144376</td>\n",
       "      <td>3431205500</td>\n",
       "      <td>23765</td>\n",
       "    </tr>\n",
       "    <tr>\n",
       "      <th>5</th>\n",
       "      <td>CN1</td>\n",
       "      <td>14672</td>\n",
       "      <td>96373800</td>\n",
       "      <td>6568</td>\n",
       "    </tr>\n",
       "    <tr>\n",
       "      <th>6</th>\n",
       "      <td>CR2</td>\n",
       "      <td>150122</td>\n",
       "      <td>1982760500</td>\n",
       "      <td>13207</td>\n",
       "    </tr>\n",
       "    <tr>\n",
       "      <th>7</th>\n",
       "      <td>SU9</td>\n",
       "      <td>365698</td>\n",
       "      <td>5114484700</td>\n",
       "      <td>13985</td>\n",
       "    </tr>\n",
       "  </tbody>\n",
       "</table>\n",
       "</div>"
      ],
      "text/plain": [
       "  aircraft_code  ticket_count  total_revenue  revenue_per_ticket\n",
       "0           319         52853     2706163100               51201\n",
       "1           321        107129     1638164100               15291\n",
       "2           733         86102     1426552100               16568\n",
       "3           763        124774     4371277100               35033\n",
       "4           773        144376     3431205500               23765\n",
       "5           CN1         14672       96373800                6568\n",
       "6           CR2        150122     1982760500               13207\n",
       "7           SU9        365698     5114484700               13985"
      ]
     },
     "execution_count": 714,
     "metadata": {},
     "output_type": "execute_result"
    }
   ],
   "source": [
    "revenue"
   ]
  },
  {
   "cell_type": "code",
   "execution_count": 675,
   "id": "5667efa9",
   "metadata": {},
   "outputs": [
    {
     "data": {
      "image/png": "[encoded data removed]",
      "text/plain": [
       "<Figure size 1200x300 with 2 Axes>"
      ]
     },
     "metadata": {},
     "output_type": "display_data"
    }
   ],
   "source": [
    "plt.figure(figsize = (12,3))\n",
    "plt.subplot(1,2,1)\n",
    "sns.barplot(data=revenue, x = 'aircraft_code', y = 'total_revenue', ci=False, edgecolor='black', linewidth=1)\n",
    "plt.title('Total Revenue generated by different Aircrafts')\n",
    "plt.subplot(1,2,2)\n",
    "sns.barplot(data=revenue, x = 'aircraft_code', y = 'ticket_count', ci=False, edgecolor='black', linewidth=1)\n",
    "plt.title('Ticket count for different Aircrafts')\n",
    "plt.tight_layout();"
   ]
  },
  {
   "cell_type": "markdown",
   "id": "7db99627",
   "metadata": {},
   "source": [
    "### Analysing Boarding_passes data"
   ]
  },
  {
   "cell_type": "code",
   "execution_count": 633,
   "id": "e02a1151",
   "metadata": {},
   "outputs": [],
   "source": [
    "boarding_passes = pd.read_sql_query('select * from boarding_passes', connection)"
   ]
  },
  {
   "cell_type": "markdown",
   "id": "576ff431",
   "metadata": {},
   "source": [
    "#### Checking first and last five rows of the dataset"
   ]
  },
  {
   "cell_type": "code",
   "execution_count": 634,
   "id": "f02df31e",
   "metadata": {},
   "outputs": [
    {
     "data": {
      "text/html": [
       "<div>\n",
       "<style scoped>\n",
       "    .dataframe tbody tr th:only-of-type {\n",
       "        vertical-align: middle;\n",
       "    }\n",
       "\n",
       "    .dataframe tbody tr th {\n",
       "        vertical-align: top;\n",
       "    }\n",
       "\n",
       "    .dataframe thead th {\n",
       "        text-align: right;\n",
       "    }\n",
       "</style>\n",
       "<table border=\"1\" class=\"dataframe\">\n",
       "  <thead>\n",
       "    <tr style=\"text-align: right;\">\n",
       "      <th></th>\n",
       "      <th>ticket_no</th>\n",
       "      <th>flight_id</th>\n",
       "      <th>boarding_no</th>\n",
       "      <th>seat_no</th>\n",
       "    </tr>\n",
       "  </thead>\n",
       "  <tbody>\n",
       "    <tr>\n",
       "      <th>0</th>\n",
       "      <td>0005435212351</td>\n",
       "      <td>30625</td>\n",
       "      <td>1</td>\n",
       "      <td>2D</td>\n",
       "    </tr>\n",
       "    <tr>\n",
       "      <th>1</th>\n",
       "      <td>0005435212386</td>\n",
       "      <td>30625</td>\n",
       "      <td>2</td>\n",
       "      <td>3G</td>\n",
       "    </tr>\n",
       "    <tr>\n",
       "      <th>2</th>\n",
       "      <td>0005435212381</td>\n",
       "      <td>30625</td>\n",
       "      <td>3</td>\n",
       "      <td>4H</td>\n",
       "    </tr>\n",
       "    <tr>\n",
       "      <th>3</th>\n",
       "      <td>0005432211370</td>\n",
       "      <td>30625</td>\n",
       "      <td>4</td>\n",
       "      <td>5D</td>\n",
       "    </tr>\n",
       "    <tr>\n",
       "      <th>4</th>\n",
       "      <td>0005435212357</td>\n",
       "      <td>30625</td>\n",
       "      <td>5</td>\n",
       "      <td>11A</td>\n",
       "    </tr>\n",
       "    <tr>\n",
       "      <th>...</th>\n",
       "      <td>...</td>\n",
       "      <td>...</td>\n",
       "      <td>...</td>\n",
       "      <td>...</td>\n",
       "    </tr>\n",
       "    <tr>\n",
       "      <th>579681</th>\n",
       "      <td>0005434302871</td>\n",
       "      <td>19945</td>\n",
       "      <td>85</td>\n",
       "      <td>20F</td>\n",
       "    </tr>\n",
       "    <tr>\n",
       "      <th>579682</th>\n",
       "      <td>0005432892791</td>\n",
       "      <td>19945</td>\n",
       "      <td>86</td>\n",
       "      <td>21C</td>\n",
       "    </tr>\n",
       "    <tr>\n",
       "      <th>579683</th>\n",
       "      <td>0005434302869</td>\n",
       "      <td>19945</td>\n",
       "      <td>87</td>\n",
       "      <td>20E</td>\n",
       "    </tr>\n",
       "    <tr>\n",
       "      <th>579684</th>\n",
       "      <td>0005432802476</td>\n",
       "      <td>19945</td>\n",
       "      <td>88</td>\n",
       "      <td>21F</td>\n",
       "    </tr>\n",
       "    <tr>\n",
       "      <th>579685</th>\n",
       "      <td>0005432802482</td>\n",
       "      <td>19945</td>\n",
       "      <td>89</td>\n",
       "      <td>21E</td>\n",
       "    </tr>\n",
       "  </tbody>\n",
       "</table>\n",
       "<p>579686 rows × 4 columns</p>\n",
       "</div>"
      ],
      "text/plain": [
       "            ticket_no  flight_id  boarding_no seat_no\n",
       "0       0005435212351      30625            1      2D\n",
       "1       0005435212386      30625            2      3G\n",
       "2       0005435212381      30625            3      4H\n",
       "3       0005432211370      30625            4      5D\n",
       "4       0005435212357      30625            5     11A\n",
       "...               ...        ...          ...     ...\n",
       "579681  0005434302871      19945           85     20F\n",
       "579682  0005432892791      19945           86     21C\n",
       "579683  0005434302869      19945           87     20E\n",
       "579684  0005432802476      19945           88     21F\n",
       "579685  0005432802482      19945           89     21E\n",
       "\n",
       "[579686 rows x 4 columns]"
      ]
     },
     "execution_count": 634,
     "metadata": {},
     "output_type": "execute_result"
    }
   ],
   "source": [
    "boarding_passes"
   ]
  },
  {
   "cell_type": "markdown",
   "id": "2b739c33",
   "metadata": {},
   "source": [
    "#### Checking shape of the dataset"
   ]
  },
  {
   "cell_type": "code",
   "execution_count": 678,
   "id": "8a500460",
   "metadata": {},
   "outputs": [
    {
     "data": {
      "text/html": [
       "<div>\n",
       "<style scoped>\n",
       "    .dataframe tbody tr th:only-of-type {\n",
       "        vertical-align: middle;\n",
       "    }\n",
       "\n",
       "    .dataframe tbody tr th {\n",
       "        vertical-align: top;\n",
       "    }\n",
       "\n",
       "    .dataframe thead th {\n",
       "        text-align: right;\n",
       "    }\n",
       "</style>\n",
       "<table border=\"1\" class=\"dataframe\">\n",
       "  <thead>\n",
       "    <tr style=\"text-align: right;\">\n",
       "      <th></th>\n",
       "      <th>shape of dataset</th>\n",
       "    </tr>\n",
       "  </thead>\n",
       "  <tbody>\n",
       "    <tr>\n",
       "      <th>Number of rows</th>\n",
       "      <td>579686</td>\n",
       "    </tr>\n",
       "    <tr>\n",
       "      <th>Number of columns</th>\n",
       "      <td>4</td>\n",
       "    </tr>\n",
       "  </tbody>\n",
       "</table>\n",
       "</div>"
      ],
      "text/plain": [
       "                   shape of dataset\n",
       "Number of rows               579686\n",
       "Number of columns                 4"
      ]
     },
     "execution_count": 678,
     "metadata": {},
     "output_type": "execute_result"
    }
   ],
   "source": [
    "rows = ['Number of rows', 'Number of columns']\n",
    "pd.DataFrame(boarding_passes.shape, columns = ['shape of dataset'], index=rows)"
   ]
  },
  {
   "cell_type": "markdown",
   "id": "7ab624b5",
   "metadata": {},
   "source": [
    "#### Checking datatype of Attributes in a dataset"
   ]
  },
  {
   "cell_type": "code",
   "execution_count": 679,
   "id": "80937d31",
   "metadata": {},
   "outputs": [
    {
     "name": "stdout",
     "output_type": "stream",
     "text": [
      "<class 'pandas.core.frame.DataFrame'>\n",
      "RangeIndex: 579686 entries, 0 to 579685\n",
      "Data columns (total 4 columns):\n",
      " #   Column       Non-Null Count   Dtype \n",
      "---  ------       --------------   ----- \n",
      " 0   ticket_no    579686 non-null  object\n",
      " 1   flight_id    579686 non-null  int64 \n",
      " 2   boarding_no  579686 non-null  int64 \n",
      " 3   seat_no      579686 non-null  object\n",
      "dtypes: int64(2), object(2)\n",
      "memory usage: 17.7+ MB\n"
     ]
    }
   ],
   "source": [
    "boarding_passes.info()"
   ]
  },
  {
   "cell_type": "markdown",
   "id": "698e98fb",
   "metadata": {},
   "source": [
    "#### Checking Missing values in a dataset"
   ]
  },
  {
   "cell_type": "code",
   "execution_count": 680,
   "id": "765bb90f",
   "metadata": {},
   "outputs": [
    {
     "data": {
      "text/html": [
       "<div>\n",
       "<style scoped>\n",
       "    .dataframe tbody tr th:only-of-type {\n",
       "        vertical-align: middle;\n",
       "    }\n",
       "\n",
       "    .dataframe tbody tr th {\n",
       "        vertical-align: top;\n",
       "    }\n",
       "\n",
       "    .dataframe thead th {\n",
       "        text-align: right;\n",
       "    }\n",
       "</style>\n",
       "<table border=\"1\" class=\"dataframe\">\n",
       "  <thead>\n",
       "    <tr style=\"text-align: right;\">\n",
       "      <th></th>\n",
       "      <th>Null values</th>\n",
       "    </tr>\n",
       "  </thead>\n",
       "  <tbody>\n",
       "    <tr>\n",
       "      <th>ticket_no</th>\n",
       "      <td>0</td>\n",
       "    </tr>\n",
       "    <tr>\n",
       "      <th>flight_id</th>\n",
       "      <td>0</td>\n",
       "    </tr>\n",
       "    <tr>\n",
       "      <th>boarding_no</th>\n",
       "      <td>0</td>\n",
       "    </tr>\n",
       "    <tr>\n",
       "      <th>seat_no</th>\n",
       "      <td>0</td>\n",
       "    </tr>\n",
       "  </tbody>\n",
       "</table>\n",
       "</div>"
      ],
      "text/plain": [
       "             Null values\n",
       "ticket_no              0\n",
       "flight_id              0\n",
       "boarding_no            0\n",
       "seat_no                0"
      ]
     },
     "execution_count": 680,
     "metadata": {},
     "output_type": "execute_result"
    }
   ],
   "source": [
    "pd.DataFrame(boarding_passes.isnull().sum(), columns = ['Null values'])"
   ]
  },
  {
   "cell_type": "markdown",
   "id": "826f4cf0",
   "metadata": {},
   "source": [
    "#### Checking Occuptancy Rate for different Aircrafts"
   ]
  },
  {
   "cell_type": "code",
   "execution_count": 747,
   "id": "038dff20",
   "metadata": {},
   "outputs": [],
   "source": [
    "booked_seats = pd.read_sql_query('select f.aircraft_code, bp.flight_id, count(*) as booked_seats \\\n",
    "                              from boarding_passes bp inner join flights f \\\n",
    "                              on bp.flight_id = f.flight_id \\\n",
    "                              group by f.aircraft_code, bp.flight_id', connection)"
   ]
  },
  {
   "cell_type": "code",
   "execution_count": 748,
   "id": "73e3fce7",
   "metadata": {},
   "outputs": [
    {
     "data": {
      "text/html": [
       "<div>\n",
       "<style scoped>\n",
       "    .dataframe tbody tr th:only-of-type {\n",
       "        vertical-align: middle;\n",
       "    }\n",
       "\n",
       "    .dataframe tbody tr th {\n",
       "        vertical-align: top;\n",
       "    }\n",
       "\n",
       "    .dataframe thead th {\n",
       "        text-align: right;\n",
       "    }\n",
       "</style>\n",
       "<table border=\"1\" class=\"dataframe\">\n",
       "  <thead>\n",
       "    <tr style=\"text-align: right;\">\n",
       "      <th></th>\n",
       "      <th>aircraft_code</th>\n",
       "      <th>flight_id</th>\n",
       "      <th>booked_seats</th>\n",
       "    </tr>\n",
       "  </thead>\n",
       "  <tbody>\n",
       "    <tr>\n",
       "      <th>0</th>\n",
       "      <td>319</td>\n",
       "      <td>1162</td>\n",
       "      <td>51</td>\n",
       "    </tr>\n",
       "    <tr>\n",
       "      <th>1</th>\n",
       "      <td>319</td>\n",
       "      <td>1166</td>\n",
       "      <td>54</td>\n",
       "    </tr>\n",
       "    <tr>\n",
       "      <th>2</th>\n",
       "      <td>319</td>\n",
       "      <td>1167</td>\n",
       "      <td>57</td>\n",
       "    </tr>\n",
       "    <tr>\n",
       "      <th>3</th>\n",
       "      <td>319</td>\n",
       "      <td>1168</td>\n",
       "      <td>60</td>\n",
       "    </tr>\n",
       "    <tr>\n",
       "      <th>4</th>\n",
       "      <td>319</td>\n",
       "      <td>1170</td>\n",
       "      <td>58</td>\n",
       "    </tr>\n",
       "    <tr>\n",
       "      <th>...</th>\n",
       "      <td>...</td>\n",
       "      <td>...</td>\n",
       "      <td>...</td>\n",
       "    </tr>\n",
       "    <tr>\n",
       "      <th>11513</th>\n",
       "      <td>SU9</td>\n",
       "      <td>32925</td>\n",
       "      <td>12</td>\n",
       "    </tr>\n",
       "    <tr>\n",
       "      <th>11514</th>\n",
       "      <td>SU9</td>\n",
       "      <td>32928</td>\n",
       "      <td>25</td>\n",
       "    </tr>\n",
       "    <tr>\n",
       "      <th>11515</th>\n",
       "      <td>SU9</td>\n",
       "      <td>32931</td>\n",
       "      <td>12</td>\n",
       "    </tr>\n",
       "    <tr>\n",
       "      <th>11516</th>\n",
       "      <td>SU9</td>\n",
       "      <td>32933</td>\n",
       "      <td>16</td>\n",
       "    </tr>\n",
       "    <tr>\n",
       "      <th>11517</th>\n",
       "      <td>SU9</td>\n",
       "      <td>32937</td>\n",
       "      <td>6</td>\n",
       "    </tr>\n",
       "  </tbody>\n",
       "</table>\n",
       "<p>11518 rows × 3 columns</p>\n",
       "</div>"
      ],
      "text/plain": [
       "      aircraft_code  flight_id  booked_seats\n",
       "0               319       1162            51\n",
       "1               319       1166            54\n",
       "2               319       1167            57\n",
       "3               319       1168            60\n",
       "4               319       1170            58\n",
       "...             ...        ...           ...\n",
       "11513           SU9      32925            12\n",
       "11514           SU9      32928            25\n",
       "11515           SU9      32931            12\n",
       "11516           SU9      32933            16\n",
       "11517           SU9      32937             6\n",
       "\n",
       "[11518 rows x 3 columns]"
      ]
     },
     "execution_count": 748,
     "metadata": {},
     "output_type": "execute_result"
    }
   ],
   "source": [
    "booked_seats"
   ]
  },
  {
   "cell_type": "code",
   "execution_count": 755,
   "id": "24932ff5",
   "metadata": {},
   "outputs": [],
   "source": [
    "total_seats = pd.read_sql_query('select aircraft_code, count(*) as number_of_seats from seats \\\n",
    "                                group by aircraft_code', connection)"
   ]
  },
  {
   "cell_type": "code",
   "execution_count": 756,
   "id": "8b14de7f",
   "metadata": {},
   "outputs": [
    {
     "data": {
      "text/html": [
       "<div>\n",
       "<style scoped>\n",
       "    .dataframe tbody tr th:only-of-type {\n",
       "        vertical-align: middle;\n",
       "    }\n",
       "\n",
       "    .dataframe tbody tr th {\n",
       "        vertical-align: top;\n",
       "    }\n",
       "\n",
       "    .dataframe thead th {\n",
       "        text-align: right;\n",
       "    }\n",
       "</style>\n",
       "<table border=\"1\" class=\"dataframe\">\n",
       "  <thead>\n",
       "    <tr style=\"text-align: right;\">\n",
       "      <th></th>\n",
       "      <th>aircraft_code</th>\n",
       "      <th>number_of_seats</th>\n",
       "    </tr>\n",
       "  </thead>\n",
       "  <tbody>\n",
       "    <tr>\n",
       "      <th>0</th>\n",
       "      <td>319</td>\n",
       "      <td>116</td>\n",
       "    </tr>\n",
       "    <tr>\n",
       "      <th>1</th>\n",
       "      <td>320</td>\n",
       "      <td>140</td>\n",
       "    </tr>\n",
       "    <tr>\n",
       "      <th>2</th>\n",
       "      <td>321</td>\n",
       "      <td>170</td>\n",
       "    </tr>\n",
       "    <tr>\n",
       "      <th>3</th>\n",
       "      <td>733</td>\n",
       "      <td>130</td>\n",
       "    </tr>\n",
       "    <tr>\n",
       "      <th>4</th>\n",
       "      <td>763</td>\n",
       "      <td>222</td>\n",
       "    </tr>\n",
       "    <tr>\n",
       "      <th>5</th>\n",
       "      <td>773</td>\n",
       "      <td>402</td>\n",
       "    </tr>\n",
       "    <tr>\n",
       "      <th>6</th>\n",
       "      <td>CN1</td>\n",
       "      <td>12</td>\n",
       "    </tr>\n",
       "    <tr>\n",
       "      <th>7</th>\n",
       "      <td>CR2</td>\n",
       "      <td>50</td>\n",
       "    </tr>\n",
       "    <tr>\n",
       "      <th>8</th>\n",
       "      <td>SU9</td>\n",
       "      <td>97</td>\n",
       "    </tr>\n",
       "  </tbody>\n",
       "</table>\n",
       "</div>"
      ],
      "text/plain": [
       "  aircraft_code  number_of_seats\n",
       "0           319              116\n",
       "1           320              140\n",
       "2           321              170\n",
       "3           733              130\n",
       "4           763              222\n",
       "5           773              402\n",
       "6           CN1               12\n",
       "7           CR2               50\n",
       "8           SU9               97"
      ]
     },
     "execution_count": 756,
     "metadata": {},
     "output_type": "execute_result"
    }
   ],
   "source": [
    "total_seats"
   ]
  },
  {
   "cell_type": "code",
   "execution_count": 772,
   "id": "c3b1e923",
   "metadata": {},
   "outputs": [],
   "source": [
    "occupancy_rate = pd.read_sql_query('select a.aircraft_code, avg(a.seats_count) as booked_seats, b.num_seats,\\\n",
    "                                   avg(a.seats_count)/b.num_seats as occupancy_rate from \\\n",
    "                                   (select f.aircraft_code, f.flight_id, count(*) as seats_count \\\n",
    "                                  from boarding_passes bp inner join flights f \\\n",
    "                                  on bp.flight_id = f.flight_id \\\n",
    "                                  group by f.aircraft_code, f.flight_id) as a \\\n",
    "                                   inner join (select s.aircraft_code, count(*) as num_seats from seats s \\\n",
    "                                   group by s.aircraft_code) as b \\\n",
    "                                   on a.aircraft_code = b.aircraft_code \\\n",
    "                                   group by a.aircraft_code', connection)"
   ]
  },
  {
   "cell_type": "code",
   "execution_count": 773,
   "id": "b602bc78",
   "metadata": {},
   "outputs": [
    {
     "data": {
      "text/html": [
       "<div>\n",
       "<style scoped>\n",
       "    .dataframe tbody tr th:only-of-type {\n",
       "        vertical-align: middle;\n",
       "    }\n",
       "\n",
       "    .dataframe tbody tr th {\n",
       "        vertical-align: top;\n",
       "    }\n",
       "\n",
       "    .dataframe thead th {\n",
       "        text-align: right;\n",
       "    }\n",
       "</style>\n",
       "<table border=\"1\" class=\"dataframe\">\n",
       "  <thead>\n",
       "    <tr style=\"text-align: right;\">\n",
       "      <th></th>\n",
       "      <th>aircraft_code</th>\n",
       "      <th>booked_seats</th>\n",
       "      <th>num_seats</th>\n",
       "      <th>occupancy_rate</th>\n",
       "    </tr>\n",
       "  </thead>\n",
       "  <tbody>\n",
       "    <tr>\n",
       "      <th>0</th>\n",
       "      <td>319</td>\n",
       "      <td>53.583181</td>\n",
       "      <td>116</td>\n",
       "      <td>0.461924</td>\n",
       "    </tr>\n",
       "    <tr>\n",
       "      <th>1</th>\n",
       "      <td>321</td>\n",
       "      <td>88.809231</td>\n",
       "      <td>170</td>\n",
       "      <td>0.522407</td>\n",
       "    </tr>\n",
       "    <tr>\n",
       "      <th>2</th>\n",
       "      <td>733</td>\n",
       "      <td>80.255462</td>\n",
       "      <td>130</td>\n",
       "      <td>0.617350</td>\n",
       "    </tr>\n",
       "    <tr>\n",
       "      <th>3</th>\n",
       "      <td>763</td>\n",
       "      <td>113.937294</td>\n",
       "      <td>222</td>\n",
       "      <td>0.513231</td>\n",
       "    </tr>\n",
       "    <tr>\n",
       "      <th>4</th>\n",
       "      <td>773</td>\n",
       "      <td>264.925806</td>\n",
       "      <td>402</td>\n",
       "      <td>0.659019</td>\n",
       "    </tr>\n",
       "    <tr>\n",
       "      <th>5</th>\n",
       "      <td>CN1</td>\n",
       "      <td>6.004431</td>\n",
       "      <td>12</td>\n",
       "      <td>0.500369</td>\n",
       "    </tr>\n",
       "    <tr>\n",
       "      <th>6</th>\n",
       "      <td>CR2</td>\n",
       "      <td>21.482847</td>\n",
       "      <td>50</td>\n",
       "      <td>0.429657</td>\n",
       "    </tr>\n",
       "    <tr>\n",
       "      <th>7</th>\n",
       "      <td>SU9</td>\n",
       "      <td>56.812113</td>\n",
       "      <td>97</td>\n",
       "      <td>0.585692</td>\n",
       "    </tr>\n",
       "  </tbody>\n",
       "</table>\n",
       "</div>"
      ],
      "text/plain": [
       "  aircraft_code  booked_seats  num_seats  occupancy_rate\n",
       "0           319     53.583181        116        0.461924\n",
       "1           321     88.809231        170        0.522407\n",
       "2           733     80.255462        130        0.617350\n",
       "3           763    113.937294        222        0.513231\n",
       "4           773    264.925806        402        0.659019\n",
       "5           CN1      6.004431         12        0.500369\n",
       "6           CR2     21.482847         50        0.429657\n",
       "7           SU9     56.812113         97        0.585692"
      ]
     },
     "execution_count": 773,
     "metadata": {},
     "output_type": "execute_result"
    }
   ],
   "source": [
    "occupancy_rate"
   ]
  },
  {
   "cell_type": "markdown",
   "id": "ae540420",
   "metadata": {},
   "source": [
    "#### Now we will going to calculate how much the total annual turnover would increase by giving all aircraft a 10% higher occupancy rate"
   ]
  },
  {
   "cell_type": "code",
   "execution_count": 774,
   "id": "049d77a4",
   "metadata": {},
   "outputs": [],
   "source": [
    "occupancy_rate['Increase_occupancy_rate_by_10%'] = occupancy_rate['occupancy_rate'] + occupancy_rate['occupancy_rate']*0.1"
   ]
  },
  {
   "cell_type": "code",
   "execution_count": 775,
   "id": "5bffd409",
   "metadata": {},
   "outputs": [
    {
     "data": {
      "text/html": [
       "<div>\n",
       "<style scoped>\n",
       "    .dataframe tbody tr th:only-of-type {\n",
       "        vertical-align: middle;\n",
       "    }\n",
       "\n",
       "    .dataframe tbody tr th {\n",
       "        vertical-align: top;\n",
       "    }\n",
       "\n",
       "    .dataframe thead th {\n",
       "        text-align: right;\n",
       "    }\n",
       "</style>\n",
       "<table border=\"1\" class=\"dataframe\">\n",
       "  <thead>\n",
       "    <tr style=\"text-align: right;\">\n",
       "      <th></th>\n",
       "      <th>aircraft_code</th>\n",
       "      <th>booked_seats</th>\n",
       "      <th>num_seats</th>\n",
       "      <th>occupancy_rate</th>\n",
       "      <th>Increase_occupancy_rate_by_10%</th>\n",
       "    </tr>\n",
       "  </thead>\n",
       "  <tbody>\n",
       "    <tr>\n",
       "      <th>0</th>\n",
       "      <td>319</td>\n",
       "      <td>53.583181</td>\n",
       "      <td>116</td>\n",
       "      <td>0.461924</td>\n",
       "      <td>0.508116</td>\n",
       "    </tr>\n",
       "    <tr>\n",
       "      <th>1</th>\n",
       "      <td>321</td>\n",
       "      <td>88.809231</td>\n",
       "      <td>170</td>\n",
       "      <td>0.522407</td>\n",
       "      <td>0.574648</td>\n",
       "    </tr>\n",
       "    <tr>\n",
       "      <th>2</th>\n",
       "      <td>733</td>\n",
       "      <td>80.255462</td>\n",
       "      <td>130</td>\n",
       "      <td>0.617350</td>\n",
       "      <td>0.679085</td>\n",
       "    </tr>\n",
       "    <tr>\n",
       "      <th>3</th>\n",
       "      <td>763</td>\n",
       "      <td>113.937294</td>\n",
       "      <td>222</td>\n",
       "      <td>0.513231</td>\n",
       "      <td>0.564554</td>\n",
       "    </tr>\n",
       "    <tr>\n",
       "      <th>4</th>\n",
       "      <td>773</td>\n",
       "      <td>264.925806</td>\n",
       "      <td>402</td>\n",
       "      <td>0.659019</td>\n",
       "      <td>0.724921</td>\n",
       "    </tr>\n",
       "    <tr>\n",
       "      <th>5</th>\n",
       "      <td>CN1</td>\n",
       "      <td>6.004431</td>\n",
       "      <td>12</td>\n",
       "      <td>0.500369</td>\n",
       "      <td>0.550406</td>\n",
       "    </tr>\n",
       "    <tr>\n",
       "      <th>6</th>\n",
       "      <td>CR2</td>\n",
       "      <td>21.482847</td>\n",
       "      <td>50</td>\n",
       "      <td>0.429657</td>\n",
       "      <td>0.472623</td>\n",
       "    </tr>\n",
       "    <tr>\n",
       "      <th>7</th>\n",
       "      <td>SU9</td>\n",
       "      <td>56.812113</td>\n",
       "      <td>97</td>\n",
       "      <td>0.585692</td>\n",
       "      <td>0.644261</td>\n",
       "    </tr>\n",
       "  </tbody>\n",
       "</table>\n",
       "</div>"
      ],
      "text/plain": [
       "  aircraft_code  booked_seats  num_seats  occupancy_rate  \\\n",
       "0           319     53.583181        116        0.461924   \n",
       "1           321     88.809231        170        0.522407   \n",
       "2           733     80.255462        130        0.617350   \n",
       "3           763    113.937294        222        0.513231   \n",
       "4           773    264.925806        402        0.659019   \n",
       "5           CN1      6.004431         12        0.500369   \n",
       "6           CR2     21.482847         50        0.429657   \n",
       "7           SU9     56.812113         97        0.585692   \n",
       "\n",
       "   Increase_occupancy_rate_by_10%  \n",
       "0                        0.508116  \n",
       "1                        0.574648  \n",
       "2                        0.679085  \n",
       "3                        0.564554  \n",
       "4                        0.724921  \n",
       "5                        0.550406  \n",
       "6                        0.472623  \n",
       "7                        0.644261  "
      ]
     },
     "execution_count": 775,
     "metadata": {},
     "output_type": "execute_result"
    }
   ],
   "source": [
    "occupancy_rate"
   ]
  },
  {
   "cell_type": "code",
   "execution_count": null,
   "id": "9af90b3e",
   "metadata": {},
   "outputs": [],
   "source": []
  }
 ],
 "metadata": {
  "kernelspec": {
   "display_name": "Python 3 (ipykernel)",
   "language": "python",
   "name": "python3"
  },
  "language_info": {
   "codemirror_mode": {
    "name": "ipython",
    "version": 3
   },
   "file_extension": ".py",
   "mimetype": "text/x-python",
   "name": "python",
   "nbconvert_exporter": "python",
   "pygments_lexer": "ipython3",
   "version": "3.9.16"
  }
 },
 "nbformat": 4,
 "nbformat_minor": 5
}
